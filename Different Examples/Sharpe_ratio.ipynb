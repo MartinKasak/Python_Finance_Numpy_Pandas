{
  "cells": [
    {
      "cell_type": "code",
      "execution_count": 113,
      "metadata": {},
      "outputs": [
        {
          "name": "stdout",
          "output_type": "stream",
          "text": [
            "Requirement already satisfied: yfinance in /home/liisa/miniconda3/lib/python3.10/site-packages (0.2.22)\n",
            "Requirement already satisfied: frozendict>=2.3.4 in /home/liisa/miniconda3/lib/python3.10/site-packages (from yfinance) (2.3.8)\n",
            "Requirement already satisfied: appdirs>=1.4.4 in /home/liisa/miniconda3/lib/python3.10/site-packages (from yfinance) (1.4.4)\n",
            "Requirement already satisfied: beautifulsoup4>=4.11.1 in /home/liisa/miniconda3/lib/python3.10/site-packages (from yfinance) (4.12.2)\n",
            "Requirement already satisfied: pandas>=1.3.0 in /home/liisa/miniconda3/lib/python3.10/site-packages (from yfinance) (2.0.3)\n",
            "Requirement already satisfied: multitasking>=0.0.7 in /home/liisa/miniconda3/lib/python3.10/site-packages (from yfinance) (0.0.11)\n",
            "Requirement already satisfied: pytz>=2022.5 in /home/liisa/miniconda3/lib/python3.10/site-packages (from yfinance) (2023.3)\n",
            "Requirement already satisfied: lxml>=4.9.1 in /home/liisa/miniconda3/lib/python3.10/site-packages (from yfinance) (4.9.2)\n",
            "Requirement already satisfied: html5lib>=1.1 in /home/liisa/miniconda3/lib/python3.10/site-packages (from yfinance) (1.1)\n",
            "Requirement already satisfied: requests>=2.26 in /home/liisa/miniconda3/lib/python3.10/site-packages (from yfinance) (2.31.0)\n",
            "Requirement already satisfied: numpy>=1.16.5 in /home/liisa/miniconda3/lib/python3.10/site-packages (from yfinance) (1.22.1)\n",
            "Requirement already satisfied: soupsieve>1.2 in /home/liisa/miniconda3/lib/python3.10/site-packages (from beautifulsoup4>=4.11.1->yfinance) (2.4.1)\n",
            "Requirement already satisfied: six>=1.9 in /home/liisa/miniconda3/lib/python3.10/site-packages (from html5lib>=1.1->yfinance) (1.16.0)\n",
            "Requirement already satisfied: webencodings in /home/liisa/miniconda3/lib/python3.10/site-packages (from html5lib>=1.1->yfinance) (0.5.1)\n",
            "Requirement already satisfied: python-dateutil>=2.8.2 in /home/liisa/miniconda3/lib/python3.10/site-packages (from pandas>=1.3.0->yfinance) (2.8.2)\n",
            "Requirement already satisfied: tzdata>=2022.1 in /home/liisa/miniconda3/lib/python3.10/site-packages (from pandas>=1.3.0->yfinance) (2023.3)\n",
            "Requirement already satisfied: idna<4,>=2.5 in /home/liisa/miniconda3/lib/python3.10/site-packages (from requests>=2.26->yfinance) (3.4)\n",
            "Requirement already satisfied: urllib3<3,>=1.21.1 in /home/liisa/miniconda3/lib/python3.10/site-packages (from requests>=2.26->yfinance) (2.0.3)\n",
            "Requirement already satisfied: charset-normalizer<4,>=2 in /home/liisa/miniconda3/lib/python3.10/site-packages (from requests>=2.26->yfinance) (3.1.0)\n",
            "Requirement already satisfied: certifi>=2017.4.17 in /home/liisa/miniconda3/lib/python3.10/site-packages (from requests>=2.26->yfinance) (2023.5.7)\n",
            "Note: you may need to restart the kernel to use updated packages.\n"
          ]
        }
      ],
      "source": [
        "pip install yfinance"
      ]
    },
    {
      "cell_type": "code",
      "execution_count": 114,
      "metadata": {
        "id": "0KO6c2pa5KRE"
      },
      "outputs": [
        {
          "name": "stderr",
          "output_type": "stream",
          "text": [
            "/tmp/ipykernel_2791929/3615017102.py:6: MatplotlibDeprecationWarning: The seaborn styles shipped by Matplotlib are deprecated since 3.6, as they no longer correspond to the styles shipped by seaborn. However, they will remain available as 'seaborn-v0_8-<style>'. Alternatively, directly use the seaborn API instead.\n",
            "  plt.style.use(\"seaborn\")\n"
          ]
        }
      ],
      "source": [
        "import pandas as pd\n",
        "import numpy as np\n",
        "import matplotlib.pyplot as plt\n",
        "import yfinance as yf\n",
        "import numpy as np\n",
        "plt.style.use(\"seaborn\")\n",
        "pd.options.display.float_format = '{:.2f}'.format"
      ]
    },
    {
      "cell_type": "code",
      "execution_count": 115,
      "metadata": {
        "id": "G6PTynnX5cG5"
      },
      "outputs": [
        {
          "name": "stdout",
          "output_type": "stream",
          "text": [
            "[*********************100%***********************]  12 of 12 completed\n"
          ]
        }
      ],
      "source": [
        "#import symbol\n",
        "symbols = [\"AX\",\"INTC\",\"MCD\",\"PG\",\"WMT\", \"SPY\", \"JPM\", \"CL\", \"NKE\", \"V\", \"COST\", \"DPZ\"] \n",
        "stocks = yf.download(symbols, start=\"2015-01-01\", end=\"2024-01-01\")"
      ]
    },
    {
      "cell_type": "code",
      "execution_count": 116,
      "metadata": {
        "id": "1lUervOl5cKn"
      },
      "outputs": [],
      "source": [
        "stocks = stocks.loc[\"2015-01-02\":\"2022-01-02\"]"
      ]
    },
    {
      "cell_type": "code",
      "execution_count": 117,
      "metadata": {
        "colab": {
          "base_uri": "https://localhost:8080/",
          "height": 237
        },
        "id": "0WbxMMyE5cO6",
        "outputId": "d8f6de0b-b8c6-4207-a46e-73f475a434fc"
      },
      "outputs": [
        {
          "data": {
            "text/html": [
              "<div>\n",
              "<style scoped>\n",
              "    .dataframe tbody tr th:only-of-type {\n",
              "        vertical-align: middle;\n",
              "    }\n",
              "\n",
              "    .dataframe tbody tr th {\n",
              "        vertical-align: top;\n",
              "    }\n",
              "\n",
              "    .dataframe thead tr th {\n",
              "        text-align: left;\n",
              "    }\n",
              "\n",
              "    .dataframe thead tr:last-of-type th {\n",
              "        text-align: right;\n",
              "    }\n",
              "</style>\n",
              "<table border=\"1\" class=\"dataframe\">\n",
              "  <thead>\n",
              "    <tr>\n",
              "      <th></th>\n",
              "      <th colspan=\"10\" halign=\"left\">Adj Close</th>\n",
              "      <th>...</th>\n",
              "      <th colspan=\"10\" halign=\"left\">Volume</th>\n",
              "    </tr>\n",
              "    <tr>\n",
              "      <th></th>\n",
              "      <th>AX</th>\n",
              "      <th>CL</th>\n",
              "      <th>COST</th>\n",
              "      <th>DPZ</th>\n",
              "      <th>INTC</th>\n",
              "      <th>JPM</th>\n",
              "      <th>MCD</th>\n",
              "      <th>NKE</th>\n",
              "      <th>PG</th>\n",
              "      <th>SPY</th>\n",
              "      <th>...</th>\n",
              "      <th>COST</th>\n",
              "      <th>DPZ</th>\n",
              "      <th>INTC</th>\n",
              "      <th>JPM</th>\n",
              "      <th>MCD</th>\n",
              "      <th>NKE</th>\n",
              "      <th>PG</th>\n",
              "      <th>SPY</th>\n",
              "      <th>V</th>\n",
              "      <th>WMT</th>\n",
              "    </tr>\n",
              "    <tr>\n",
              "      <th>Date</th>\n",
              "      <th></th>\n",
              "      <th></th>\n",
              "      <th></th>\n",
              "      <th></th>\n",
              "      <th></th>\n",
              "      <th></th>\n",
              "      <th></th>\n",
              "      <th></th>\n",
              "      <th></th>\n",
              "      <th></th>\n",
              "      <th></th>\n",
              "      <th></th>\n",
              "      <th></th>\n",
              "      <th></th>\n",
              "      <th></th>\n",
              "      <th></th>\n",
              "      <th></th>\n",
              "      <th></th>\n",
              "      <th></th>\n",
              "      <th></th>\n",
              "      <th></th>\n",
              "    </tr>\n",
              "  </thead>\n",
              "  <tbody>\n",
              "    <tr>\n",
              "      <th>2015-01-02</th>\n",
              "      <td>19.15</td>\n",
              "      <td>55.24</td>\n",
              "      <td>115.05</td>\n",
              "      <td>85.61</td>\n",
              "      <td>28.07</td>\n",
              "      <td>48.27</td>\n",
              "      <td>73.18</td>\n",
              "      <td>42.76</td>\n",
              "      <td>69.09</td>\n",
              "      <td>174.27</td>\n",
              "      <td>...</td>\n",
              "      <td>1471000</td>\n",
              "      <td>400800</td>\n",
              "      <td>23605600</td>\n",
              "      <td>12600000</td>\n",
              "      <td>6019700</td>\n",
              "      <td>4985800</td>\n",
              "      <td>7251400</td>\n",
              "      <td>121465900</td>\n",
              "      <td>8389600</td>\n",
              "      <td>13505400</td>\n",
              "    </tr>\n",
              "    <tr>\n",
              "      <th>2015-01-05</th>\n",
              "      <td>19.06</td>\n",
              "      <td>54.83</td>\n",
              "      <td>113.74</td>\n",
              "      <td>86.69</td>\n",
              "      <td>27.76</td>\n",
              "      <td>46.77</td>\n",
              "      <td>72.37</td>\n",
              "      <td>42.07</td>\n",
              "      <td>68.76</td>\n",
              "      <td>171.12</td>\n",
              "      <td>...</td>\n",
              "      <td>1748500</td>\n",
              "      <td>570800</td>\n",
              "      <td>32785000</td>\n",
              "      <td>20100600</td>\n",
              "      <td>6211900</td>\n",
              "      <td>6889200</td>\n",
              "      <td>8626100</td>\n",
              "      <td>169632600</td>\n",
              "      <td>12751200</td>\n",
              "      <td>20937000</td>\n",
              "    </tr>\n",
              "    <tr>\n",
              "      <th>2015-01-06</th>\n",
              "      <td>19.05</td>\n",
              "      <td>54.26</td>\n",
              "      <td>115.24</td>\n",
              "      <td>85.61</td>\n",
              "      <td>27.24</td>\n",
              "      <td>45.56</td>\n",
              "      <td>72.50</td>\n",
              "      <td>41.82</td>\n",
              "      <td>68.45</td>\n",
              "      <td>169.51</td>\n",
              "      <td>...</td>\n",
              "      <td>3185200</td>\n",
              "      <td>727800</td>\n",
              "      <td>30847600</td>\n",
              "      <td>29074100</td>\n",
              "      <td>6484100</td>\n",
              "      <td>7576000</td>\n",
              "      <td>7791200</td>\n",
              "      <td>209151400</td>\n",
              "      <td>11070000</td>\n",
              "      <td>24615300</td>\n",
              "    </tr>\n",
              "    <tr>\n",
              "      <th>2015-01-07</th>\n",
              "      <td>19.69</td>\n",
              "      <td>54.69</td>\n",
              "      <td>117.25</td>\n",
              "      <td>88.53</td>\n",
              "      <td>27.81</td>\n",
              "      <td>45.63</td>\n",
              "      <td>73.77</td>\n",
              "      <td>42.69</td>\n",
              "      <td>68.81</td>\n",
              "      <td>171.62</td>\n",
              "      <td>...</td>\n",
              "      <td>2171600</td>\n",
              "      <td>624600</td>\n",
              "      <td>27725200</td>\n",
              "      <td>23843200</td>\n",
              "      <td>6400300</td>\n",
              "      <td>7256000</td>\n",
              "      <td>5986600</td>\n",
              "      <td>125346700</td>\n",
              "      <td>9346800</td>\n",
              "      <td>25495200</td>\n",
              "    </tr>\n",
              "    <tr>\n",
              "      <th>2015-01-08</th>\n",
              "      <td>20.42</td>\n",
              "      <td>55.43</td>\n",
              "      <td>118.26</td>\n",
              "      <td>91.51</td>\n",
              "      <td>28.33</td>\n",
              "      <td>46.65</td>\n",
              "      <td>74.04</td>\n",
              "      <td>43.67</td>\n",
              "      <td>69.59</td>\n",
              "      <td>174.66</td>\n",
              "      <td>...</td>\n",
              "      <td>2937700</td>\n",
              "      <td>706100</td>\n",
              "      <td>31765400</td>\n",
              "      <td>16971100</td>\n",
              "      <td>5476700</td>\n",
              "      <td>5978200</td>\n",
              "      <td>6823300</td>\n",
              "      <td>147217800</td>\n",
              "      <td>10443200</td>\n",
              "      <td>38140800</td>\n",
              "    </tr>\n",
              "  </tbody>\n",
              "</table>\n",
              "<p>5 rows × 72 columns</p>\n",
              "</div>"
            ],
            "text/plain": [
              "           Adj Close                                                          \\\n",
              "                  AX    CL   COST   DPZ  INTC   JPM   MCD   NKE    PG    SPY   \n",
              "Date                                                                           \n",
              "2015-01-02     19.15 55.24 115.05 85.61 28.07 48.27 73.18 42.76 69.09 174.27   \n",
              "2015-01-05     19.06 54.83 113.74 86.69 27.76 46.77 72.37 42.07 68.76 171.12   \n",
              "2015-01-06     19.05 54.26 115.24 85.61 27.24 45.56 72.50 41.82 68.45 169.51   \n",
              "2015-01-07     19.69 54.69 117.25 88.53 27.81 45.63 73.77 42.69 68.81 171.62   \n",
              "2015-01-08     20.42 55.43 118.26 91.51 28.33 46.65 74.04 43.67 69.59 174.66   \n",
              "\n",
              "            ...   Volume                                                \\\n",
              "            ...     COST     DPZ      INTC       JPM      MCD      NKE   \n",
              "Date        ...                                                          \n",
              "2015-01-02  ...  1471000  400800  23605600  12600000  6019700  4985800   \n",
              "2015-01-05  ...  1748500  570800  32785000  20100600  6211900  6889200   \n",
              "2015-01-06  ...  3185200  727800  30847600  29074100  6484100  7576000   \n",
              "2015-01-07  ...  2171600  624600  27725200  23843200  6400300  7256000   \n",
              "2015-01-08  ...  2937700  706100  31765400  16971100  5476700  5978200   \n",
              "\n",
              "                                                    \n",
              "                 PG        SPY         V       WMT  \n",
              "Date                                                \n",
              "2015-01-02  7251400  121465900   8389600  13505400  \n",
              "2015-01-05  8626100  169632600  12751200  20937000  \n",
              "2015-01-06  7791200  209151400  11070000  24615300  \n",
              "2015-01-07  5986600  125346700   9346800  25495200  \n",
              "2015-01-08  6823300  147217800  10443200  38140800  \n",
              "\n",
              "[5 rows x 72 columns]"
            ]
          },
          "execution_count": 117,
          "metadata": {},
          "output_type": "execute_result"
        }
      ],
      "source": [
        "stocks.head()"
      ]
    },
    {
      "cell_type": "code",
      "execution_count": 118,
      "metadata": {
        "colab": {
          "base_uri": "https://localhost:8080/",
          "height": 237
        },
        "id": "I2BWKxks5252",
        "outputId": "0c684bc4-212c-4ef7-f00c-1dcf5533b547"
      },
      "outputs": [
        {
          "data": {
            "text/html": [
              "<div>\n",
              "<style scoped>\n",
              "    .dataframe tbody tr th:only-of-type {\n",
              "        vertical-align: middle;\n",
              "    }\n",
              "\n",
              "    .dataframe tbody tr th {\n",
              "        vertical-align: top;\n",
              "    }\n",
              "\n",
              "    .dataframe thead tr th {\n",
              "        text-align: left;\n",
              "    }\n",
              "\n",
              "    .dataframe thead tr:last-of-type th {\n",
              "        text-align: right;\n",
              "    }\n",
              "</style>\n",
              "<table border=\"1\" class=\"dataframe\">\n",
              "  <thead>\n",
              "    <tr>\n",
              "      <th></th>\n",
              "      <th colspan=\"10\" halign=\"left\">Adj Close</th>\n",
              "      <th>...</th>\n",
              "      <th colspan=\"10\" halign=\"left\">Volume</th>\n",
              "    </tr>\n",
              "    <tr>\n",
              "      <th></th>\n",
              "      <th>AX</th>\n",
              "      <th>CL</th>\n",
              "      <th>COST</th>\n",
              "      <th>DPZ</th>\n",
              "      <th>INTC</th>\n",
              "      <th>JPM</th>\n",
              "      <th>MCD</th>\n",
              "      <th>NKE</th>\n",
              "      <th>PG</th>\n",
              "      <th>SPY</th>\n",
              "      <th>...</th>\n",
              "      <th>COST</th>\n",
              "      <th>DPZ</th>\n",
              "      <th>INTC</th>\n",
              "      <th>JPM</th>\n",
              "      <th>MCD</th>\n",
              "      <th>NKE</th>\n",
              "      <th>PG</th>\n",
              "      <th>SPY</th>\n",
              "      <th>V</th>\n",
              "      <th>WMT</th>\n",
              "    </tr>\n",
              "    <tr>\n",
              "      <th>Date</th>\n",
              "      <th></th>\n",
              "      <th></th>\n",
              "      <th></th>\n",
              "      <th></th>\n",
              "      <th></th>\n",
              "      <th></th>\n",
              "      <th></th>\n",
              "      <th></th>\n",
              "      <th></th>\n",
              "      <th></th>\n",
              "      <th></th>\n",
              "      <th></th>\n",
              "      <th></th>\n",
              "      <th></th>\n",
              "      <th></th>\n",
              "      <th></th>\n",
              "      <th></th>\n",
              "      <th></th>\n",
              "      <th></th>\n",
              "      <th></th>\n",
              "      <th></th>\n",
              "    </tr>\n",
              "  </thead>\n",
              "  <tbody>\n",
              "    <tr>\n",
              "      <th>2021-12-27</th>\n",
              "      <td>55.81</td>\n",
              "      <td>78.93</td>\n",
              "      <td>541.50</td>\n",
              "      <td>541.09</td>\n",
              "      <td>48.48</td>\n",
              "      <td>147.11</td>\n",
              "      <td>253.46</td>\n",
              "      <td>162.47</td>\n",
              "      <td>152.18</td>\n",
              "      <td>461.18</td>\n",
              "      <td>...</td>\n",
              "      <td>2262900</td>\n",
              "      <td>477600</td>\n",
              "      <td>20985400</td>\n",
              "      <td>6188100</td>\n",
              "      <td>1485500</td>\n",
              "      <td>3769300</td>\n",
              "      <td>4548600</td>\n",
              "      <td>56808600</td>\n",
              "      <td>4818400</td>\n",
              "      <td>16040700</td>\n",
              "    </tr>\n",
              "    <tr>\n",
              "      <th>2021-12-28</th>\n",
              "      <td>56.20</td>\n",
              "      <td>79.45</td>\n",
              "      <td>542.62</td>\n",
              "      <td>541.63</td>\n",
              "      <td>48.31</td>\n",
              "      <td>147.56</td>\n",
              "      <td>253.12</td>\n",
              "      <td>161.34</td>\n",
              "      <td>153.00</td>\n",
              "      <td>460.80</td>\n",
              "      <td>...</td>\n",
              "      <td>1155000</td>\n",
              "      <td>189800</td>\n",
              "      <td>19290400</td>\n",
              "      <td>6342300</td>\n",
              "      <td>1304000</td>\n",
              "      <td>2658600</td>\n",
              "      <td>5929400</td>\n",
              "      <td>47274600</td>\n",
              "      <td>4279800</td>\n",
              "      <td>15783000</td>\n",
              "    </tr>\n",
              "    <tr>\n",
              "      <th>2021-12-29</th>\n",
              "      <td>56.16</td>\n",
              "      <td>79.87</td>\n",
              "      <td>545.63</td>\n",
              "      <td>546.13</td>\n",
              "      <td>48.38</td>\n",
              "      <td>147.48</td>\n",
              "      <td>253.69</td>\n",
              "      <td>163.63</td>\n",
              "      <td>154.27</td>\n",
              "      <td>461.39</td>\n",
              "      <td>...</td>\n",
              "      <td>1753000</td>\n",
              "      <td>258400</td>\n",
              "      <td>14174800</td>\n",
              "      <td>6398900</td>\n",
              "      <td>1318500</td>\n",
              "      <td>3830900</td>\n",
              "      <td>5346100</td>\n",
              "      <td>54503000</td>\n",
              "      <td>3223100</td>\n",
              "      <td>13045200</td>\n",
              "    </tr>\n",
              "    <tr>\n",
              "      <th>2021-12-30</th>\n",
              "      <td>55.41</td>\n",
              "      <td>79.57</td>\n",
              "      <td>541.92</td>\n",
              "      <td>541.28</td>\n",
              "      <td>48.29</td>\n",
              "      <td>147.41</td>\n",
              "      <td>252.49</td>\n",
              "      <td>162.38</td>\n",
              "      <td>152.94</td>\n",
              "      <td>460.11</td>\n",
              "      <td>...</td>\n",
              "      <td>1338700</td>\n",
              "      <td>231600</td>\n",
              "      <td>18359400</td>\n",
              "      <td>6948200</td>\n",
              "      <td>1714600</td>\n",
              "      <td>2666800</td>\n",
              "      <td>5911500</td>\n",
              "      <td>55329000</td>\n",
              "      <td>3812800</td>\n",
              "      <td>14949000</td>\n",
              "    </tr>\n",
              "    <tr>\n",
              "      <th>2021-12-31</th>\n",
              "      <td>55.91</td>\n",
              "      <td>80.28</td>\n",
              "      <td>545.57</td>\n",
              "      <td>548.00</td>\n",
              "      <td>48.07</td>\n",
              "      <td>147.29</td>\n",
              "      <td>253.30</td>\n",
              "      <td>161.58</td>\n",
              "      <td>153.70</td>\n",
              "      <td>458.95</td>\n",
              "      <td>...</td>\n",
              "      <td>1509200</td>\n",
              "      <td>297400</td>\n",
              "      <td>16319000</td>\n",
              "      <td>5805900</td>\n",
              "      <td>1519200</td>\n",
              "      <td>2752000</td>\n",
              "      <td>5327000</td>\n",
              "      <td>65237400</td>\n",
              "      <td>4723300</td>\n",
              "      <td>17947800</td>\n",
              "    </tr>\n",
              "  </tbody>\n",
              "</table>\n",
              "<p>5 rows × 72 columns</p>\n",
              "</div>"
            ],
            "text/plain": [
              "           Adj Close                                                        \\\n",
              "                  AX    CL   COST    DPZ  INTC    JPM    MCD    NKE     PG   \n",
              "Date                                                                         \n",
              "2021-12-27     55.81 78.93 541.50 541.09 48.48 147.11 253.46 162.47 152.18   \n",
              "2021-12-28     56.20 79.45 542.62 541.63 48.31 147.56 253.12 161.34 153.00   \n",
              "2021-12-29     56.16 79.87 545.63 546.13 48.38 147.48 253.69 163.63 154.27   \n",
              "2021-12-30     55.41 79.57 541.92 541.28 48.29 147.41 252.49 162.38 152.94   \n",
              "2021-12-31     55.91 80.28 545.57 548.00 48.07 147.29 253.30 161.58 153.70   \n",
              "\n",
              "                   ...   Volume                                               \\\n",
              "              SPY  ...     COST     DPZ      INTC      JPM      MCD      NKE   \n",
              "Date               ...                                                         \n",
              "2021-12-27 461.18  ...  2262900  477600  20985400  6188100  1485500  3769300   \n",
              "2021-12-28 460.80  ...  1155000  189800  19290400  6342300  1304000  2658600   \n",
              "2021-12-29 461.39  ...  1753000  258400  14174800  6398900  1318500  3830900   \n",
              "2021-12-30 460.11  ...  1338700  231600  18359400  6948200  1714600  2666800   \n",
              "2021-12-31 458.95  ...  1509200  297400  16319000  5805900  1519200  2752000   \n",
              "\n",
              "                                                  \n",
              "                 PG       SPY        V       WMT  \n",
              "Date                                              \n",
              "2021-12-27  4548600  56808600  4818400  16040700  \n",
              "2021-12-28  5929400  47274600  4279800  15783000  \n",
              "2021-12-29  5346100  54503000  3223100  13045200  \n",
              "2021-12-30  5911500  55329000  3812800  14949000  \n",
              "2021-12-31  5327000  65237400  4723300  17947800  \n",
              "\n",
              "[5 rows x 72 columns]"
            ]
          },
          "execution_count": 118,
          "metadata": {},
          "output_type": "execute_result"
        }
      ],
      "source": [
        "stocks.tail()"
      ]
    },
    {
      "cell_type": "code",
      "execution_count": 119,
      "metadata": {
        "id": "P7cCUlJj529l"
      },
      "outputs": [],
      "source": [
        "#run the cell!\n",
        "def ann_risk_return(returns_df):\n",
        "    summary = returns_df.agg([\"mean\", \"std\"]).T\n",
        "    summary.columns = [\"Return\", \"Risk\"]\n",
        "    summary.Return = summary.Return*252\n",
        "    summary.Risk = summary.Risk * np.sqrt(252)\n",
        "    return summary"
      ]
    },
    {
      "cell_type": "code",
      "execution_count": 120,
      "metadata": {
        "id": "LOMmZWC-53A_"
      },
      "outputs": [],
      "source": [
        "ret = stocks[\"Close\"].pct_change().dropna()"
      ]
    },
    {
      "cell_type": "code",
      "execution_count": 121,
      "metadata": {
        "colab": {
          "base_uri": "https://localhost:8080/",
          "height": 237
        },
        "id": "71WgjfqO53FD",
        "outputId": "d893828e-0adc-42cd-e297-5d5b6d5a701a"
      },
      "outputs": [
        {
          "data": {
            "text/html": [
              "<div>\n",
              "<style scoped>\n",
              "    .dataframe tbody tr th:only-of-type {\n",
              "        vertical-align: middle;\n",
              "    }\n",
              "\n",
              "    .dataframe tbody tr th {\n",
              "        vertical-align: top;\n",
              "    }\n",
              "\n",
              "    .dataframe thead th {\n",
              "        text-align: right;\n",
              "    }\n",
              "</style>\n",
              "<table border=\"1\" class=\"dataframe\">\n",
              "  <thead>\n",
              "    <tr style=\"text-align: right;\">\n",
              "      <th></th>\n",
              "      <th>AX</th>\n",
              "      <th>CL</th>\n",
              "      <th>COST</th>\n",
              "      <th>DPZ</th>\n",
              "      <th>INTC</th>\n",
              "      <th>JPM</th>\n",
              "      <th>MCD</th>\n",
              "      <th>NKE</th>\n",
              "      <th>PG</th>\n",
              "      <th>SPY</th>\n",
              "      <th>V</th>\n",
              "      <th>WMT</th>\n",
              "    </tr>\n",
              "    <tr>\n",
              "      <th>Date</th>\n",
              "      <th></th>\n",
              "      <th></th>\n",
              "      <th></th>\n",
              "      <th></th>\n",
              "      <th></th>\n",
              "      <th></th>\n",
              "      <th></th>\n",
              "      <th></th>\n",
              "      <th></th>\n",
              "      <th></th>\n",
              "      <th></th>\n",
              "      <th></th>\n",
              "    </tr>\n",
              "  </thead>\n",
              "  <tbody>\n",
              "    <tr>\n",
              "      <th>2015-01-05</th>\n",
              "      <td>-0.00</td>\n",
              "      <td>-0.01</td>\n",
              "      <td>-0.01</td>\n",
              "      <td>0.01</td>\n",
              "      <td>-0.01</td>\n",
              "      <td>-0.03</td>\n",
              "      <td>-0.01</td>\n",
              "      <td>-0.02</td>\n",
              "      <td>-0.00</td>\n",
              "      <td>-0.02</td>\n",
              "      <td>-0.02</td>\n",
              "      <td>-0.00</td>\n",
              "    </tr>\n",
              "    <tr>\n",
              "      <th>2015-01-06</th>\n",
              "      <td>-0.00</td>\n",
              "      <td>-0.01</td>\n",
              "      <td>0.01</td>\n",
              "      <td>-0.01</td>\n",
              "      <td>-0.02</td>\n",
              "      <td>-0.03</td>\n",
              "      <td>0.00</td>\n",
              "      <td>-0.01</td>\n",
              "      <td>-0.00</td>\n",
              "      <td>-0.01</td>\n",
              "      <td>-0.01</td>\n",
              "      <td>0.01</td>\n",
              "    </tr>\n",
              "    <tr>\n",
              "      <th>2015-01-07</th>\n",
              "      <td>0.03</td>\n",
              "      <td>0.01</td>\n",
              "      <td>0.02</td>\n",
              "      <td>0.03</td>\n",
              "      <td>0.02</td>\n",
              "      <td>0.00</td>\n",
              "      <td>0.02</td>\n",
              "      <td>0.02</td>\n",
              "      <td>0.01</td>\n",
              "      <td>0.01</td>\n",
              "      <td>0.01</td>\n",
              "      <td>0.03</td>\n",
              "    </tr>\n",
              "    <tr>\n",
              "      <th>2015-01-08</th>\n",
              "      <td>0.04</td>\n",
              "      <td>0.01</td>\n",
              "      <td>0.01</td>\n",
              "      <td>0.03</td>\n",
              "      <td>0.02</td>\n",
              "      <td>0.02</td>\n",
              "      <td>0.00</td>\n",
              "      <td>0.02</td>\n",
              "      <td>0.01</td>\n",
              "      <td>0.02</td>\n",
              "      <td>0.01</td>\n",
              "      <td>0.02</td>\n",
              "    </tr>\n",
              "    <tr>\n",
              "      <th>2015-01-09</th>\n",
              "      <td>-0.02</td>\n",
              "      <td>-0.01</td>\n",
              "      <td>-0.02</td>\n",
              "      <td>-0.00</td>\n",
              "      <td>0.00</td>\n",
              "      <td>-0.02</td>\n",
              "      <td>-0.01</td>\n",
              "      <td>-0.01</td>\n",
              "      <td>-0.01</td>\n",
              "      <td>-0.01</td>\n",
              "      <td>-0.01</td>\n",
              "      <td>-0.01</td>\n",
              "    </tr>\n",
              "  </tbody>\n",
              "</table>\n",
              "</div>"
            ],
            "text/plain": [
              "              AX    CL  COST   DPZ  INTC   JPM   MCD   NKE    PG   SPY     V  \\\n",
              "Date                                                                           \n",
              "2015-01-05 -0.00 -0.01 -0.01  0.01 -0.01 -0.03 -0.01 -0.02 -0.00 -0.02 -0.02   \n",
              "2015-01-06 -0.00 -0.01  0.01 -0.01 -0.02 -0.03  0.00 -0.01 -0.00 -0.01 -0.01   \n",
              "2015-01-07  0.03  0.01  0.02  0.03  0.02  0.00  0.02  0.02  0.01  0.01  0.01   \n",
              "2015-01-08  0.04  0.01  0.01  0.03  0.02  0.02  0.00  0.02  0.01  0.02  0.01   \n",
              "2015-01-09 -0.02 -0.01 -0.02 -0.00  0.00 -0.02 -0.01 -0.01 -0.01 -0.01 -0.01   \n",
              "\n",
              "             WMT  \n",
              "Date              \n",
              "2015-01-05 -0.00  \n",
              "2015-01-06  0.01  \n",
              "2015-01-07  0.03  \n",
              "2015-01-08  0.02  \n",
              "2015-01-09 -0.01  "
            ]
          },
          "execution_count": 121,
          "metadata": {},
          "output_type": "execute_result"
        }
      ],
      "source": [
        "ret.head()"
      ]
    },
    {
      "cell_type": "code",
      "execution_count": 122,
      "metadata": {
        "id": "XIiOfTQc53I5"
      },
      "outputs": [],
      "source": [
        "summary = ann_risk_return(ret)"
      ]
    },
    {
      "cell_type": "code",
      "execution_count": 123,
      "metadata": {
        "colab": {
          "base_uri": "https://localhost:8080/",
          "height": 237
        },
        "id": "iSlmBX0z53Mf",
        "outputId": "e447b504-9818-498c-a8f4-03f07d24734d"
      },
      "outputs": [
        {
          "data": {
            "text/html": [
              "<div>\n",
              "<style scoped>\n",
              "    .dataframe tbody tr th:only-of-type {\n",
              "        vertical-align: middle;\n",
              "    }\n",
              "\n",
              "    .dataframe tbody tr th {\n",
              "        vertical-align: top;\n",
              "    }\n",
              "\n",
              "    .dataframe thead th {\n",
              "        text-align: right;\n",
              "    }\n",
              "</style>\n",
              "<table border=\"1\" class=\"dataframe\">\n",
              "  <thead>\n",
              "    <tr style=\"text-align: right;\">\n",
              "      <th></th>\n",
              "      <th>Return</th>\n",
              "      <th>Risk</th>\n",
              "    </tr>\n",
              "  </thead>\n",
              "  <tbody>\n",
              "    <tr>\n",
              "      <th>AX</th>\n",
              "      <td>0.26</td>\n",
              "      <td>0.46</td>\n",
              "    </tr>\n",
              "    <tr>\n",
              "      <th>CL</th>\n",
              "      <td>0.05</td>\n",
              "      <td>0.20</td>\n",
              "    </tr>\n",
              "    <tr>\n",
              "      <th>COST</th>\n",
              "      <td>0.22</td>\n",
              "      <td>0.21</td>\n",
              "    </tr>\n",
              "    <tr>\n",
              "      <th>DPZ</th>\n",
              "      <td>0.30</td>\n",
              "      <td>0.29</td>\n",
              "    </tr>\n",
              "    <tr>\n",
              "      <th>INTC</th>\n",
              "      <td>0.10</td>\n",
              "      <td>0.32</td>\n",
              "    </tr>\n",
              "    <tr>\n",
              "      <th>JPM</th>\n",
              "      <td>0.17</td>\n",
              "      <td>0.28</td>\n",
              "    </tr>\n",
              "    <tr>\n",
              "      <th>MCD</th>\n",
              "      <td>0.17</td>\n",
              "      <td>0.22</td>\n",
              "    </tr>\n",
              "    <tr>\n",
              "      <th>NKE</th>\n",
              "      <td>0.22</td>\n",
              "      <td>0.27</td>\n",
              "    </tr>\n",
              "    <tr>\n",
              "      <th>PG</th>\n",
              "      <td>0.10</td>\n",
              "      <td>0.19</td>\n",
              "    </tr>\n",
              "    <tr>\n",
              "      <th>SPY</th>\n",
              "      <td>0.14</td>\n",
              "      <td>0.18</td>\n",
              "    </tr>\n",
              "    <tr>\n",
              "      <th>V</th>\n",
              "      <td>0.20</td>\n",
              "      <td>0.25</td>\n",
              "    </tr>\n",
              "    <tr>\n",
              "      <th>WMT</th>\n",
              "      <td>0.10</td>\n",
              "      <td>0.21</td>\n",
              "    </tr>\n",
              "  </tbody>\n",
              "</table>\n",
              "</div>"
            ],
            "text/plain": [
              "      Return  Risk\n",
              "AX      0.26  0.46\n",
              "CL      0.05  0.20\n",
              "COST    0.22  0.21\n",
              "DPZ     0.30  0.29\n",
              "INTC    0.10  0.32\n",
              "JPM     0.17  0.28\n",
              "MCD     0.17  0.22\n",
              "NKE     0.22  0.27\n",
              "PG      0.10  0.19\n",
              "SPY     0.14  0.18\n",
              "V       0.20  0.25\n",
              "WMT     0.10  0.21"
            ]
          },
          "execution_count": 123,
          "metadata": {},
          "output_type": "execute_result"
        }
      ],
      "source": [
        "summary"
      ]
    },
    {
      "cell_type": "code",
      "execution_count": 124,
      "metadata": {
        "colab": {
          "base_uri": "https://localhost:8080/",
          "height": 470
        },
        "id": "ygMbYnWb53QR",
        "outputId": "01f9281f-2594-4726-a969-d4e1033114cd"
      },
      "outputs": [
        {
          "data": {
            "image/png": "[encoded data removed]",
            "text/plain": [
              "<Figure size 1300x900 with 1 Axes>"
            ]
          },
          "metadata": {},
          "output_type": "display_data"
        }
      ],
      "source": [
        "#run the cell!\n",
        "summary.plot(kind = \"scatter\", x = \"Risk\", y = \"Return\", figsize = (13,9), s = 50, fontsize = 15)\n",
        "for i in summary.index:\n",
        "    plt.annotate(i, xy=(summary.loc[i, \"Risk\"]+0.002, summary.loc[i, \"Return\"]+0.002), size = 15)\n",
        "plt.xlabel(\"ann. Risk(std)\", fontsize = 15)\n",
        "plt.ylabel(\"ann. Return\", fontsize = 15)\n",
        "plt.title(\"Risk/Return\", fontsize = 20)\n",
        "plt.show()"
      ]
    },
    {
      "cell_type": "code",
      "execution_count": 125,
      "metadata": {
        "colab": {
          "base_uri": "https://localhost:8080/"
        },
        "id": "N09h0wRh53UH",
        "outputId": "d7562542-f4b5-4e96-ae12-79c98f4ff7a9"
      },
      "outputs": [
        {
          "name": "stdout",
          "output_type": "stream",
          "text": [
            "12 10000\n"
          ]
        }
      ],
      "source": [
        "noa = len(stocks[\"Close\"].columns)\n",
        "nop = 10000\n",
        "print(noa, nop)"
      ]
    },
    {
      "cell_type": "code",
      "execution_count": 126,
      "metadata": {
        "id": "wbKid1ux53Xx"
      },
      "outputs": [],
      "source": [
        "np.random.seed(123)\n",
        "matrix = np.random.random(noa * nop).reshape(nop, noa)"
      ]
    },
    {
      "cell_type": "code",
      "execution_count": 127,
      "metadata": {
        "id": "dtMddmSZ53bd"
      },
      "outputs": [],
      "source": [
        "weights = matrix / matrix.sum(axis = 1, keepdims= True)"
      ]
    },
    {
      "cell_type": "code",
      "execution_count": 128,
      "metadata": {
        "colab": {
          "base_uri": "https://localhost:8080/"
        },
        "id": "mdcH2BPL53fU",
        "outputId": "1d56e3d9-974b-4b5e-a8a6-3477935108f6"
      },
      "outputs": [
        {
          "data": {
            "text/plain": [
              "array([[0.10691519, 0.04392533, 0.03482403, ..., 0.06019407, 0.05268136,\n",
              "        0.11191663],\n",
              "       [0.07465156, 0.01015807, 0.06775309, ..., 0.14458601, 0.12331314,\n",
              "        0.10400535],\n",
              "       [0.15213851, 0.06801154, 0.07618865, ..., 0.10396457, 0.0896751 ,\n",
              "        0.06575873],\n",
              "       ...,\n",
              "       [0.08177712, 0.12497295, 0.11124767, ..., 0.00976975, 0.03334334,\n",
              "        0.03285738],\n",
              "       [0.10749286, 0.09108775, 0.13718667, ..., 0.07288287, 0.08170307,\n",
              "        0.02031471],\n",
              "       [0.00933594, 0.00194312, 0.18047516, ..., 0.11130473, 0.12782134,\n",
              "        0.19699161]])"
            ]
          },
          "execution_count": 128,
          "metadata": {},
          "output_type": "execute_result"
        }
      ],
      "source": [
        "weights"
      ]
    },
    {
      "cell_type": "code",
      "execution_count": 129,
      "metadata": {
        "colab": {
          "base_uri": "https://localhost:8080/"
        },
        "id": "hfjKNeBv53iz",
        "outputId": "ba902286-c492-4583-a6fd-b69c372a60b0"
      },
      "outputs": [
        {
          "data": {
            "text/plain": [
              "array([[1.],\n",
              "       [1.],\n",
              "       [1.],\n",
              "       ...,\n",
              "       [1.],\n",
              "       [1.],\n",
              "       [1.]])"
            ]
          },
          "execution_count": 129,
          "metadata": {},
          "output_type": "execute_result"
        }
      ],
      "source": [
        "weights.sum(axis = 1, keepdims= True)"
      ]
    },
    {
      "cell_type": "code",
      "execution_count": 130,
      "metadata": {
        "id": "NQxo9v4J53mV"
      },
      "outputs": [],
      "source": [
        "port_ret = ret.dot(weights.T)"
      ]
    },
    {
      "cell_type": "code",
      "execution_count": 131,
      "metadata": {
        "colab": {
          "base_uri": "https://localhost:8080/",
          "height": 417
        },
        "id": "ZMwVIp5X53qd",
        "outputId": "6afcb388-fc09-4eb8-fefb-ac1e88e68e6d"
      },
      "outputs": [
        {
          "data": {
            "text/html": [
              "<div>\n",
              "<style scoped>\n",
              "    .dataframe tbody tr th:only-of-type {\n",
              "        vertical-align: middle;\n",
              "    }\n",
              "\n",
              "    .dataframe tbody tr th {\n",
              "        vertical-align: top;\n",
              "    }\n",
              "\n",
              "    .dataframe thead th {\n",
              "        text-align: right;\n",
              "    }\n",
              "</style>\n",
              "<table border=\"1\" class=\"dataframe\">\n",
              "  <thead>\n",
              "    <tr style=\"text-align: right;\">\n",
              "      <th></th>\n",
              "      <th>0</th>\n",
              "      <th>1</th>\n",
              "      <th>2</th>\n",
              "      <th>3</th>\n",
              "      <th>4</th>\n",
              "      <th>5</th>\n",
              "      <th>6</th>\n",
              "      <th>7</th>\n",
              "      <th>8</th>\n",
              "      <th>9</th>\n",
              "      <th>...</th>\n",
              "      <th>9990</th>\n",
              "      <th>9991</th>\n",
              "      <th>9992</th>\n",
              "      <th>9993</th>\n",
              "      <th>9994</th>\n",
              "      <th>9995</th>\n",
              "      <th>9996</th>\n",
              "      <th>9997</th>\n",
              "      <th>9998</th>\n",
              "      <th>9999</th>\n",
              "    </tr>\n",
              "    <tr>\n",
              "      <th>Date</th>\n",
              "      <th></th>\n",
              "      <th></th>\n",
              "      <th></th>\n",
              "      <th></th>\n",
              "      <th></th>\n",
              "      <th></th>\n",
              "      <th></th>\n",
              "      <th></th>\n",
              "      <th></th>\n",
              "      <th></th>\n",
              "      <th></th>\n",
              "      <th></th>\n",
              "      <th></th>\n",
              "      <th></th>\n",
              "      <th></th>\n",
              "      <th></th>\n",
              "      <th></th>\n",
              "      <th></th>\n",
              "      <th></th>\n",
              "      <th></th>\n",
              "      <th></th>\n",
              "    </tr>\n",
              "  </thead>\n",
              "  <tbody>\n",
              "    <tr>\n",
              "      <th>2015-01-05</th>\n",
              "      <td>-0.01</td>\n",
              "      <td>-0.01</td>\n",
              "      <td>-0.01</td>\n",
              "      <td>-0.01</td>\n",
              "      <td>-0.01</td>\n",
              "      <td>-0.01</td>\n",
              "      <td>-0.01</td>\n",
              "      <td>-0.01</td>\n",
              "      <td>-0.01</td>\n",
              "      <td>-0.01</td>\n",
              "      <td>...</td>\n",
              "      <td>-0.01</td>\n",
              "      <td>-0.01</td>\n",
              "      <td>-0.01</td>\n",
              "      <td>-0.01</td>\n",
              "      <td>-0.01</td>\n",
              "      <td>-0.01</td>\n",
              "      <td>-0.01</td>\n",
              "      <td>-0.01</td>\n",
              "      <td>-0.01</td>\n",
              "      <td>-0.01</td>\n",
              "    </tr>\n",
              "    <tr>\n",
              "      <th>2015-01-06</th>\n",
              "      <td>-0.01</td>\n",
              "      <td>-0.00</td>\n",
              "      <td>-0.01</td>\n",
              "      <td>-0.00</td>\n",
              "      <td>-0.01</td>\n",
              "      <td>-0.00</td>\n",
              "      <td>-0.01</td>\n",
              "      <td>-0.00</td>\n",
              "      <td>-0.01</td>\n",
              "      <td>-0.01</td>\n",
              "      <td>...</td>\n",
              "      <td>-0.00</td>\n",
              "      <td>-0.01</td>\n",
              "      <td>-0.01</td>\n",
              "      <td>-0.00</td>\n",
              "      <td>-0.01</td>\n",
              "      <td>-0.00</td>\n",
              "      <td>-0.00</td>\n",
              "      <td>-0.01</td>\n",
              "      <td>-0.00</td>\n",
              "      <td>-0.00</td>\n",
              "    </tr>\n",
              "    <tr>\n",
              "      <th>2015-01-07</th>\n",
              "      <td>0.02</td>\n",
              "      <td>0.02</td>\n",
              "      <td>0.02</td>\n",
              "      <td>0.02</td>\n",
              "      <td>0.02</td>\n",
              "      <td>0.02</td>\n",
              "      <td>0.02</td>\n",
              "      <td>0.02</td>\n",
              "      <td>0.02</td>\n",
              "      <td>0.02</td>\n",
              "      <td>...</td>\n",
              "      <td>0.02</td>\n",
              "      <td>0.02</td>\n",
              "      <td>0.02</td>\n",
              "      <td>0.02</td>\n",
              "      <td>0.02</td>\n",
              "      <td>0.02</td>\n",
              "      <td>0.02</td>\n",
              "      <td>0.02</td>\n",
              "      <td>0.02</td>\n",
              "      <td>0.02</td>\n",
              "    </tr>\n",
              "    <tr>\n",
              "      <th>2015-01-08</th>\n",
              "      <td>0.02</td>\n",
              "      <td>0.02</td>\n",
              "      <td>0.02</td>\n",
              "      <td>0.02</td>\n",
              "      <td>0.02</td>\n",
              "      <td>0.02</td>\n",
              "      <td>0.02</td>\n",
              "      <td>0.02</td>\n",
              "      <td>0.02</td>\n",
              "      <td>0.02</td>\n",
              "      <td>...</td>\n",
              "      <td>0.02</td>\n",
              "      <td>0.02</td>\n",
              "      <td>0.02</td>\n",
              "      <td>0.02</td>\n",
              "      <td>0.02</td>\n",
              "      <td>0.02</td>\n",
              "      <td>0.02</td>\n",
              "      <td>0.02</td>\n",
              "      <td>0.02</td>\n",
              "      <td>0.02</td>\n",
              "    </tr>\n",
              "    <tr>\n",
              "      <th>2015-01-09</th>\n",
              "      <td>-0.01</td>\n",
              "      <td>-0.01</td>\n",
              "      <td>-0.01</td>\n",
              "      <td>-0.01</td>\n",
              "      <td>-0.01</td>\n",
              "      <td>-0.01</td>\n",
              "      <td>-0.01</td>\n",
              "      <td>-0.01</td>\n",
              "      <td>-0.01</td>\n",
              "      <td>-0.01</td>\n",
              "      <td>...</td>\n",
              "      <td>-0.01</td>\n",
              "      <td>-0.01</td>\n",
              "      <td>-0.01</td>\n",
              "      <td>-0.01</td>\n",
              "      <td>-0.01</td>\n",
              "      <td>-0.01</td>\n",
              "      <td>-0.01</td>\n",
              "      <td>-0.01</td>\n",
              "      <td>-0.01</td>\n",
              "      <td>-0.01</td>\n",
              "    </tr>\n",
              "  </tbody>\n",
              "</table>\n",
              "<p>5 rows × 10000 columns</p>\n",
              "</div>"
            ],
            "text/plain": [
              "            0     1     2     3     4     5     6     7     8     9     ...  \\\n",
              "Date                                                                    ...   \n",
              "2015-01-05 -0.01 -0.01 -0.01 -0.01 -0.01 -0.01 -0.01 -0.01 -0.01 -0.01  ...   \n",
              "2015-01-06 -0.01 -0.00 -0.01 -0.00 -0.01 -0.00 -0.01 -0.00 -0.01 -0.01  ...   \n",
              "2015-01-07  0.02  0.02  0.02  0.02  0.02  0.02  0.02  0.02  0.02  0.02  ...   \n",
              "2015-01-08  0.02  0.02  0.02  0.02  0.02  0.02  0.02  0.02  0.02  0.02  ...   \n",
              "2015-01-09 -0.01 -0.01 -0.01 -0.01 -0.01 -0.01 -0.01 -0.01 -0.01 -0.01  ...   \n",
              "\n",
              "            9990  9991  9992  9993  9994  9995  9996  9997  9998  9999  \n",
              "Date                                                                    \n",
              "2015-01-05 -0.01 -0.01 -0.01 -0.01 -0.01 -0.01 -0.01 -0.01 -0.01 -0.01  \n",
              "2015-01-06 -0.00 -0.01 -0.01 -0.00 -0.01 -0.00 -0.00 -0.01 -0.00 -0.00  \n",
              "2015-01-07  0.02  0.02  0.02  0.02  0.02  0.02  0.02  0.02  0.02  0.02  \n",
              "2015-01-08  0.02  0.02  0.02  0.02  0.02  0.02  0.02  0.02  0.02  0.02  \n",
              "2015-01-09 -0.01 -0.01 -0.01 -0.01 -0.01 -0.01 -0.01 -0.01 -0.01 -0.01  \n",
              "\n",
              "[5 rows x 10000 columns]"
            ]
          },
          "execution_count": 131,
          "metadata": {},
          "output_type": "execute_result"
        }
      ],
      "source": [
        "port_ret.head()"
      ]
    },
    {
      "cell_type": "code",
      "execution_count": 132,
      "metadata": {
        "id": "BB0fXAFo53uI"
      },
      "outputs": [],
      "source": [
        "port_summary = ann_risk_return(port_ret)"
      ]
    },
    {
      "cell_type": "code",
      "execution_count": 133,
      "metadata": {
        "colab": {
          "base_uri": "https://localhost:8080/",
          "height": 206
        },
        "id": "pxJVsaYe53xx",
        "outputId": "00662626-ed07-4ec9-c6cb-8676711da184"
      },
      "outputs": [
        {
          "data": {
            "text/html": [
              "<div>\n",
              "<style scoped>\n",
              "    .dataframe tbody tr th:only-of-type {\n",
              "        vertical-align: middle;\n",
              "    }\n",
              "\n",
              "    .dataframe tbody tr th {\n",
              "        vertical-align: top;\n",
              "    }\n",
              "\n",
              "    .dataframe thead th {\n",
              "        text-align: right;\n",
              "    }\n",
              "</style>\n",
              "<table border=\"1\" class=\"dataframe\">\n",
              "  <thead>\n",
              "    <tr style=\"text-align: right;\">\n",
              "      <th></th>\n",
              "      <th>Return</th>\n",
              "      <th>Risk</th>\n",
              "    </tr>\n",
              "  </thead>\n",
              "  <tbody>\n",
              "    <tr>\n",
              "      <th>9995</th>\n",
              "      <td>0.16</td>\n",
              "      <td>0.17</td>\n",
              "    </tr>\n",
              "    <tr>\n",
              "      <th>9996</th>\n",
              "      <td>0.19</td>\n",
              "      <td>0.18</td>\n",
              "    </tr>\n",
              "    <tr>\n",
              "      <th>9997</th>\n",
              "      <td>0.17</td>\n",
              "      <td>0.17</td>\n",
              "    </tr>\n",
              "    <tr>\n",
              "      <th>9998</th>\n",
              "      <td>0.19</td>\n",
              "      <td>0.17</td>\n",
              "    </tr>\n",
              "    <tr>\n",
              "      <th>9999</th>\n",
              "      <td>0.17</td>\n",
              "      <td>0.16</td>\n",
              "    </tr>\n",
              "  </tbody>\n",
              "</table>\n",
              "</div>"
            ],
            "text/plain": [
              "      Return  Risk\n",
              "9995    0.16  0.17\n",
              "9996    0.19  0.18\n",
              "9997    0.17  0.17\n",
              "9998    0.19  0.17\n",
              "9999    0.17  0.16"
            ]
          },
          "execution_count": 133,
          "metadata": {},
          "output_type": "execute_result"
        }
      ],
      "source": [
        "port_summary.tail()"
      ]
    },
    {
      "cell_type": "code",
      "execution_count": 134,
      "metadata": {
        "colab": {
          "base_uri": "https://localhost:8080/",
          "height": 417
        },
        "id": "FRMfRE8G531u",
        "outputId": "da31d897-df0a-4043-e881-26be43f72459"
      },
      "outputs": [
        {
          "data": {
            "image/png": "[encoded data removed]",
            "text/plain": [
              "<Figure size 1500x900 with 1 Axes>"
            ]
          },
          "metadata": {},
          "output_type": "display_data"
        }
      ],
      "source": [
        "plt.figure(figsize = (15, 9))\n",
        "plt.scatter(port_summary.loc[:, \"Risk\"], port_summary.loc[:, \"Return\"],s= 20, color = \"red\")\n",
        "plt.scatter(summary.loc[:, \"Risk\"], summary.loc[:, \"Return\"], s= 50, color = \"black\", marker = \"D\")\n",
        "plt.xlabel(\"ann. Risk(std)\", fontsize = 15)\n",
        "plt.ylabel(\"ann. Return\", fontsize = 15)\n",
        "plt.title(\"Risk/Return\", fontsize = 20)\n",
        "plt.show()"
      ]
    },
    {
      "cell_type": "code",
      "execution_count": 135,
      "metadata": {
        "id": "TUdFPA6D5352"
      },
      "outputs": [],
      "source": [
        "risk_free_return = 0.017\n",
        "risk_free_risk = 0"
      ]
    },
    {
      "cell_type": "code",
      "execution_count": 136,
      "metadata": {
        "colab": {
          "base_uri": "https://localhost:8080/"
        },
        "id": "DkKb8yQn539j",
        "outputId": "739e0b26-0421-46f3-bb0e-124a6999cd6f"
      },
      "outputs": [
        {
          "data": {
            "text/plain": [
              "[0.017, 0]"
            ]
          },
          "execution_count": 136,
          "metadata": {},
          "output_type": "execute_result"
        }
      ],
      "source": [
        "rf = [risk_free_return, risk_free_risk]\n",
        "rf"
      ]
    },
    {
      "cell_type": "code",
      "execution_count": 137,
      "metadata": {
        "colab": {
          "base_uri": "https://localhost:8080/",
          "height": 237
        },
        "id": "LuspEW-354BQ",
        "outputId": "bad5f988-e31d-43e4-c50c-6327fc37c3a3"
      },
      "outputs": [
        {
          "data": {
            "text/html": [
              "<div>\n",
              "<style scoped>\n",
              "    .dataframe tbody tr th:only-of-type {\n",
              "        vertical-align: middle;\n",
              "    }\n",
              "\n",
              "    .dataframe tbody tr th {\n",
              "        vertical-align: top;\n",
              "    }\n",
              "\n",
              "    .dataframe thead th {\n",
              "        text-align: right;\n",
              "    }\n",
              "</style>\n",
              "<table border=\"1\" class=\"dataframe\">\n",
              "  <thead>\n",
              "    <tr style=\"text-align: right;\">\n",
              "      <th></th>\n",
              "      <th>Return</th>\n",
              "      <th>Risk</th>\n",
              "    </tr>\n",
              "  </thead>\n",
              "  <tbody>\n",
              "    <tr>\n",
              "      <th>AX</th>\n",
              "      <td>0.26</td>\n",
              "      <td>0.46</td>\n",
              "    </tr>\n",
              "    <tr>\n",
              "      <th>CL</th>\n",
              "      <td>0.05</td>\n",
              "      <td>0.20</td>\n",
              "    </tr>\n",
              "    <tr>\n",
              "      <th>COST</th>\n",
              "      <td>0.22</td>\n",
              "      <td>0.21</td>\n",
              "    </tr>\n",
              "    <tr>\n",
              "      <th>DPZ</th>\n",
              "      <td>0.30</td>\n",
              "      <td>0.29</td>\n",
              "    </tr>\n",
              "    <tr>\n",
              "      <th>INTC</th>\n",
              "      <td>0.10</td>\n",
              "      <td>0.32</td>\n",
              "    </tr>\n",
              "    <tr>\n",
              "      <th>JPM</th>\n",
              "      <td>0.17</td>\n",
              "      <td>0.28</td>\n",
              "    </tr>\n",
              "    <tr>\n",
              "      <th>MCD</th>\n",
              "      <td>0.17</td>\n",
              "      <td>0.22</td>\n",
              "    </tr>\n",
              "    <tr>\n",
              "      <th>NKE</th>\n",
              "      <td>0.22</td>\n",
              "      <td>0.27</td>\n",
              "    </tr>\n",
              "    <tr>\n",
              "      <th>PG</th>\n",
              "      <td>0.10</td>\n",
              "      <td>0.19</td>\n",
              "    </tr>\n",
              "    <tr>\n",
              "      <th>SPY</th>\n",
              "      <td>0.14</td>\n",
              "      <td>0.18</td>\n",
              "    </tr>\n",
              "    <tr>\n",
              "      <th>V</th>\n",
              "      <td>0.20</td>\n",
              "      <td>0.25</td>\n",
              "    </tr>\n",
              "    <tr>\n",
              "      <th>WMT</th>\n",
              "      <td>0.10</td>\n",
              "      <td>0.21</td>\n",
              "    </tr>\n",
              "  </tbody>\n",
              "</table>\n",
              "</div>"
            ],
            "text/plain": [
              "      Return  Risk\n",
              "AX      0.26  0.46\n",
              "CL      0.05  0.20\n",
              "COST    0.22  0.21\n",
              "DPZ     0.30  0.29\n",
              "INTC    0.10  0.32\n",
              "JPM     0.17  0.28\n",
              "MCD     0.17  0.22\n",
              "NKE     0.22  0.27\n",
              "PG      0.10  0.19\n",
              "SPY     0.14  0.18\n",
              "V       0.20  0.25\n",
              "WMT     0.10  0.21"
            ]
          },
          "execution_count": 137,
          "metadata": {},
          "output_type": "execute_result"
        }
      ],
      "source": [
        "summary"
      ]
    },
    {
      "cell_type": "code",
      "execution_count": 138,
      "metadata": {
        "id": "C6tMtk5i54E8"
      },
      "outputs": [],
      "source": [
        "summary[\"Sharpe\"] = (summary[\"Return\"].sub(rf[0]))/summary[\"Risk\"]"
      ]
    },
    {
      "cell_type": "code",
      "execution_count": 139,
      "metadata": {
        "colab": {
          "base_uri": "https://localhost:8080/",
          "height": 237
        },
        "id": "7icALmpl54IA",
        "outputId": "ab257544-51c9-45f9-ff12-8dbad0a4dbc8"
      },
      "outputs": [
        {
          "data": {
            "text/html": [
              "<div>\n",
              "<style scoped>\n",
              "    .dataframe tbody tr th:only-of-type {\n",
              "        vertical-align: middle;\n",
              "    }\n",
              "\n",
              "    .dataframe tbody tr th {\n",
              "        vertical-align: top;\n",
              "    }\n",
              "\n",
              "    .dataframe thead th {\n",
              "        text-align: right;\n",
              "    }\n",
              "</style>\n",
              "<table border=\"1\" class=\"dataframe\">\n",
              "  <thead>\n",
              "    <tr style=\"text-align: right;\">\n",
              "      <th></th>\n",
              "      <th>Return</th>\n",
              "      <th>Risk</th>\n",
              "      <th>Sharpe</th>\n",
              "    </tr>\n",
              "  </thead>\n",
              "  <tbody>\n",
              "    <tr>\n",
              "      <th>AX</th>\n",
              "      <td>0.26</td>\n",
              "      <td>0.46</td>\n",
              "      <td>0.53</td>\n",
              "    </tr>\n",
              "    <tr>\n",
              "      <th>CL</th>\n",
              "      <td>0.05</td>\n",
              "      <td>0.20</td>\n",
              "      <td>0.17</td>\n",
              "    </tr>\n",
              "    <tr>\n",
              "      <th>COST</th>\n",
              "      <td>0.22</td>\n",
              "      <td>0.21</td>\n",
              "      <td>0.98</td>\n",
              "    </tr>\n",
              "    <tr>\n",
              "      <th>DPZ</th>\n",
              "      <td>0.30</td>\n",
              "      <td>0.29</td>\n",
              "      <td>0.96</td>\n",
              "    </tr>\n",
              "    <tr>\n",
              "      <th>INTC</th>\n",
              "      <td>0.10</td>\n",
              "      <td>0.32</td>\n",
              "      <td>0.26</td>\n",
              "    </tr>\n",
              "    <tr>\n",
              "      <th>JPM</th>\n",
              "      <td>0.17</td>\n",
              "      <td>0.28</td>\n",
              "      <td>0.55</td>\n",
              "    </tr>\n",
              "    <tr>\n",
              "      <th>MCD</th>\n",
              "      <td>0.17</td>\n",
              "      <td>0.22</td>\n",
              "      <td>0.73</td>\n",
              "    </tr>\n",
              "    <tr>\n",
              "      <th>NKE</th>\n",
              "      <td>0.22</td>\n",
              "      <td>0.27</td>\n",
              "      <td>0.73</td>\n",
              "    </tr>\n",
              "    <tr>\n",
              "      <th>PG</th>\n",
              "      <td>0.10</td>\n",
              "      <td>0.19</td>\n",
              "      <td>0.45</td>\n",
              "    </tr>\n",
              "    <tr>\n",
              "      <th>SPY</th>\n",
              "      <td>0.14</td>\n",
              "      <td>0.18</td>\n",
              "      <td>0.67</td>\n",
              "    </tr>\n",
              "    <tr>\n",
              "      <th>V</th>\n",
              "      <td>0.20</td>\n",
              "      <td>0.25</td>\n",
              "      <td>0.73</td>\n",
              "    </tr>\n",
              "    <tr>\n",
              "      <th>WMT</th>\n",
              "      <td>0.10</td>\n",
              "      <td>0.21</td>\n",
              "      <td>0.38</td>\n",
              "    </tr>\n",
              "  </tbody>\n",
              "</table>\n",
              "</div>"
            ],
            "text/plain": [
              "      Return  Risk  Sharpe\n",
              "AX      0.26  0.46    0.53\n",
              "CL      0.05  0.20    0.17\n",
              "COST    0.22  0.21    0.98\n",
              "DPZ     0.30  0.29    0.96\n",
              "INTC    0.10  0.32    0.26\n",
              "JPM     0.17  0.28    0.55\n",
              "MCD     0.17  0.22    0.73\n",
              "NKE     0.22  0.27    0.73\n",
              "PG      0.10  0.19    0.45\n",
              "SPY     0.14  0.18    0.67\n",
              "V       0.20  0.25    0.73\n",
              "WMT     0.10  0.21    0.38"
            ]
          },
          "execution_count": 139,
          "metadata": {},
          "output_type": "execute_result"
        }
      ],
      "source": [
        "summary"
      ]
    },
    {
      "cell_type": "code",
      "execution_count": 140,
      "metadata": {
        "id": "jTF_cwAX5cSs"
      },
      "outputs": [],
      "source": [
        "port_summary[\"Sharpe\"] = (port_summary[\"Return\"].sub(rf[0]))/port_summary[\"Risk\"]"
      ]
    },
    {
      "cell_type": "code",
      "execution_count": 141,
      "metadata": {
        "colab": {
          "base_uri": "https://localhost:8080/",
          "height": 206
        },
        "id": "LYg5JmTb5cWv",
        "outputId": "23102430-26cd-4986-cdae-221264574f89"
      },
      "outputs": [
        {
          "data": {
            "text/html": [
              "<div>\n",
              "<style scoped>\n",
              "    .dataframe tbody tr th:only-of-type {\n",
              "        vertical-align: middle;\n",
              "    }\n",
              "\n",
              "    .dataframe tbody tr th {\n",
              "        vertical-align: top;\n",
              "    }\n",
              "\n",
              "    .dataframe thead th {\n",
              "        text-align: right;\n",
              "    }\n",
              "</style>\n",
              "<table border=\"1\" class=\"dataframe\">\n",
              "  <thead>\n",
              "    <tr style=\"text-align: right;\">\n",
              "      <th></th>\n",
              "      <th>Return</th>\n",
              "      <th>Risk</th>\n",
              "      <th>Sharpe</th>\n",
              "    </tr>\n",
              "  </thead>\n",
              "  <tbody>\n",
              "    <tr>\n",
              "      <th>9995</th>\n",
              "      <td>0.16</td>\n",
              "      <td>0.17</td>\n",
              "      <td>0.85</td>\n",
              "    </tr>\n",
              "    <tr>\n",
              "      <th>9996</th>\n",
              "      <td>0.19</td>\n",
              "      <td>0.18</td>\n",
              "      <td>0.96</td>\n",
              "    </tr>\n",
              "    <tr>\n",
              "      <th>9997</th>\n",
              "      <td>0.17</td>\n",
              "      <td>0.17</td>\n",
              "      <td>0.91</td>\n",
              "    </tr>\n",
              "    <tr>\n",
              "      <th>9998</th>\n",
              "      <td>0.19</td>\n",
              "      <td>0.17</td>\n",
              "      <td>1.01</td>\n",
              "    </tr>\n",
              "    <tr>\n",
              "      <th>9999</th>\n",
              "      <td>0.17</td>\n",
              "      <td>0.16</td>\n",
              "      <td>0.98</td>\n",
              "    </tr>\n",
              "  </tbody>\n",
              "</table>\n",
              "</div>"
            ],
            "text/plain": [
              "      Return  Risk  Sharpe\n",
              "9995    0.16  0.17    0.85\n",
              "9996    0.19  0.18    0.96\n",
              "9997    0.17  0.17    0.91\n",
              "9998    0.19  0.17    1.01\n",
              "9999    0.17  0.16    0.98"
            ]
          },
          "execution_count": 141,
          "metadata": {},
          "output_type": "execute_result"
        }
      ],
      "source": [
        "port_summary.tail()"
      ]
    },
    {
      "cell_type": "code",
      "execution_count": 142,
      "metadata": {
        "colab": {
          "base_uri": "https://localhost:8080/",
          "height": 300
        },
        "id": "yT7FhjRG7Xx-",
        "outputId": "6c179e2d-7717-4f76-baca-60c20266deef"
      },
      "outputs": [
        {
          "data": {
            "text/html": [
              "<div>\n",
              "<style scoped>\n",
              "    .dataframe tbody tr th:only-of-type {\n",
              "        vertical-align: middle;\n",
              "    }\n",
              "\n",
              "    .dataframe tbody tr th {\n",
              "        vertical-align: top;\n",
              "    }\n",
              "\n",
              "    .dataframe thead th {\n",
              "        text-align: right;\n",
              "    }\n",
              "</style>\n",
              "<table border=\"1\" class=\"dataframe\">\n",
              "  <thead>\n",
              "    <tr style=\"text-align: right;\">\n",
              "      <th></th>\n",
              "      <th>Return</th>\n",
              "      <th>Risk</th>\n",
              "      <th>Sharpe</th>\n",
              "    </tr>\n",
              "  </thead>\n",
              "  <tbody>\n",
              "    <tr>\n",
              "      <th>count</th>\n",
              "      <td>10000.00</td>\n",
              "      <td>10000.00</td>\n",
              "      <td>10000.00</td>\n",
              "    </tr>\n",
              "    <tr>\n",
              "      <th>mean</th>\n",
              "      <td>0.17</td>\n",
              "      <td>0.17</td>\n",
              "      <td>0.87</td>\n",
              "    </tr>\n",
              "    <tr>\n",
              "      <th>std</th>\n",
              "      <td>0.01</td>\n",
              "      <td>0.01</td>\n",
              "      <td>0.07</td>\n",
              "    </tr>\n",
              "    <tr>\n",
              "      <th>min</th>\n",
              "      <td>0.13</td>\n",
              "      <td>0.15</td>\n",
              "      <td>0.63</td>\n",
              "    </tr>\n",
              "    <tr>\n",
              "      <th>25%</th>\n",
              "      <td>0.16</td>\n",
              "      <td>0.17</td>\n",
              "      <td>0.83</td>\n",
              "    </tr>\n",
              "    <tr>\n",
              "      <th>50%</th>\n",
              "      <td>0.17</td>\n",
              "      <td>0.17</td>\n",
              "      <td>0.88</td>\n",
              "    </tr>\n",
              "    <tr>\n",
              "      <th>75%</th>\n",
              "      <td>0.18</td>\n",
              "      <td>0.18</td>\n",
              "      <td>0.92</td>\n",
              "    </tr>\n",
              "    <tr>\n",
              "      <th>max</th>\n",
              "      <td>0.22</td>\n",
              "      <td>0.23</td>\n",
              "      <td>1.13</td>\n",
              "    </tr>\n",
              "  </tbody>\n",
              "</table>\n",
              "</div>"
            ],
            "text/plain": [
              "        Return     Risk   Sharpe\n",
              "count 10000.00 10000.00 10000.00\n",
              "mean      0.17     0.17     0.87\n",
              "std       0.01     0.01     0.07\n",
              "min       0.13     0.15     0.63\n",
              "25%       0.16     0.17     0.83\n",
              "50%       0.17     0.17     0.88\n",
              "75%       0.18     0.18     0.92\n",
              "max       0.22     0.23     1.13"
            ]
          },
          "execution_count": 142,
          "metadata": {},
          "output_type": "execute_result"
        }
      ],
      "source": [
        "port_summary.describe()"
      ]
    },
    {
      "cell_type": "code",
      "execution_count": 143,
      "metadata": {
        "colab": {
          "base_uri": "https://localhost:8080/",
          "height": 415
        },
        "id": "P7z0GMzv7X1G",
        "outputId": "ed2c8b09-b9ce-4d3a-f939-a4553e442f57"
      },
      "outputs": [
        {
          "data": {
            "image/png": "[encoded data removed]",
            "text/plain": [
              "<Figure size 1500x800 with 2 Axes>"
            ]
          },
          "metadata": {},
          "output_type": "display_data"
        }
      ],
      "source": [
        "plt.figure(figsize = (15, 8))\n",
        "plt.scatter(port_summary.loc[:, \"Risk\"], port_summary.loc[:, \"Return\"], s= 20,\n",
        "            c = port_summary.loc[:, \"Sharpe\"], cmap = \"coolwarm\", vmin = 0.5, vmax = 1.00, alpha = 0.8)\n",
        "plt.colorbar()\n",
        "plt.scatter(summary.loc[:, \"Risk\"], summary.loc[:, \"Return\"],s= 50, marker = \"D\", c = \"black\")\n",
        "plt.xlabel(\"ann. Risk(std)\", fontsize = 15)\n",
        "plt.ylabel(\"ann. Return\", fontsize = 15)\n",
        "plt.title(\"Sharpe Ratio\", fontsize = 20)\n",
        "plt.show()"
      ]
    },
    {
      "cell_type": "code",
      "execution_count": 144,
      "metadata": {
        "colab": {
          "base_uri": "https://localhost:8080/"
        },
        "id": "G_3pKMvz7X4a",
        "outputId": "d3c8dad4-eb9a-476a-e18b-265e923ba252"
      },
      "outputs": [
        {
          "data": {
            "text/plain": [
              "8129"
            ]
          },
          "execution_count": 144,
          "metadata": {},
          "output_type": "execute_result"
        }
      ],
      "source": [
        "msrp = port_summary.Sharpe.idxmax()\n",
        "msrp"
      ]
    },
    {
      "cell_type": "code",
      "execution_count": 145,
      "metadata": {
        "colab": {
          "base_uri": "https://localhost:8080/"
        },
        "id": "HJKIsxz57X7h",
        "outputId": "84a79bb8-024e-47ca-93a3-3ff9b393beea"
      },
      "outputs": [
        {
          "data": {
            "text/plain": [
              "Return   0.21\n",
              "Risk     0.17\n",
              "Sharpe   1.13\n",
              "Name: 8129, dtype: float64"
            ]
          },
          "execution_count": 145,
          "metadata": {},
          "output_type": "execute_result"
        }
      ],
      "source": [
        "port_summary.loc[msrp]"
      ]
    },
    {
      "cell_type": "code",
      "execution_count": 146,
      "metadata": {
        "colab": {
          "base_uri": "https://localhost:8080/"
        },
        "id": "6SrSMFvp7X98",
        "outputId": "8a10bbb3-4534-48a1-fbc8-94dd96339be5"
      },
      "outputs": [
        {
          "data": {
            "text/plain": [
              "array([7.88668423e-02, 1.17000198e-04, 1.92817337e-01, 2.15310603e-01,\n",
              "       1.38018723e-02, 5.00678082e-02, 5.04896041e-02, 6.08731123e-02,\n",
              "       7.10408076e-02, 9.37584090e-02, 1.51507918e-01, 2.13486868e-02])"
            ]
          },
          "execution_count": 146,
          "metadata": {},
          "output_type": "execute_result"
        }
      ],
      "source": [
        "msrp_w = weights[msrp, :]\n",
        "msrp_w"
      ]
    },
    {
      "cell_type": "code",
      "execution_count": 147,
      "metadata": {
        "colab": {
          "base_uri": "https://localhost:8080/"
        },
        "id": "iQ7Kv2MO7YDL",
        "outputId": "6fe495bb-3b2c-41ef-df84-4dd11b3fc4df"
      },
      "outputs": [
        {
          "data": {
            "text/plain": [
              "AX     0.08\n",
              "CL     0.00\n",
              "COST   0.19\n",
              "DPZ    0.22\n",
              "INTC   0.01\n",
              "JPM    0.05\n",
              "MCD    0.05\n",
              "NKE    0.06\n",
              "PG     0.07\n",
              "SPY    0.09\n",
              "V      0.15\n",
              "WMT    0.02\n",
              "dtype: float64"
            ]
          },
          "execution_count": 147,
          "metadata": {},
          "output_type": "execute_result"
        }
      ],
      "source": [
        "pd.Series(index = stocks[\"Close\"].columns, data = msrp_w)"
      ]
    },
    {
      "cell_type": "code",
      "execution_count": 148,
      "metadata": {
        "id": "DR6wqEHQ7YG3"
      },
      "outputs": [],
      "source": [
        "opt_weights = np.array([1.09440739e-16, 1.87717305e-01, 6.21066456e-01,\n",
        "       0.00000000e+00, 3.52446496e-17])"
      ]
    },
    {
      "cell_type": "code",
      "execution_count": 150,
      "metadata": {
        "colab": {
          "base_uri": "https://localhost:8080/"
        },
        "id": "HTsq1pOX7YKr",
        "outputId": "0b7d671a-b287-41f5-ece6-b274458d81c1"
      },
      "outputs": [],
      "source": [
        "#pd.Series(index = stocks[\"Close\"].columns, data = opt_weights)"
      ]
    },
    {
      "cell_type": "code",
      "execution_count": null,
      "metadata": {},
      "outputs": [],
      "source": []
    }
  ],
  "metadata": {
    "colab": {
      "provenance": []
    },
    "kernelspec": {
      "display_name": "Python 3",
      "name": "python3"
    },
    "language_info": {
      "codemirror_mode": {
        "name": "ipython",
        "version": 3
      },
      "file_extension": ".py",
      "mimetype": "text/x-python",
      "name": "python",
      "nbconvert_exporter": "python",
      "pygments_lexer": "ipython3",
      "version": "3.10.10"
    }
  },
  "nbformat": 4,
  "nbformat_minor": 0
}
