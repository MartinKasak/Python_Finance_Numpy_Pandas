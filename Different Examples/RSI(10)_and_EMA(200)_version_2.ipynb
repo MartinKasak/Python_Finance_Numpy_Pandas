{
  "cells": [
    {
      "cell_type": "code",
      "execution_count": null,
      "metadata": {
        "colab": {
          "base_uri": "https://localhost:8080/"
        },
        "id": "TOt5bVBzYJfl",
        "outputId": "0a8d7da7-bc73-4f62-f83b-c6be9aabe304"
      },
      "outputs": [
        {
          "name": "stdout",
          "output_type": "stream",
          "text": [
            "Requirement already satisfied: yfinance in /usr/local/lib/python3.10/dist-packages (0.2.22)\n",
            "Requirement already satisfied: pandas>=1.3.0 in /usr/local/lib/python3.10/dist-packages (from yfinance) (1.5.3)\n",
            "Requirement already satisfied: numpy>=1.16.5 in /usr/local/lib/python3.10/dist-packages (from yfinance) (1.22.4)\n",
            "Requirement already satisfied: requests>=2.26 in /usr/local/lib/python3.10/dist-packages (from yfinance) (2.27.1)\n",
            "Requirement already satisfied: multitasking>=0.0.7 in /usr/local/lib/python3.10/dist-packages (from yfinance) (0.0.11)\n",
            "Requirement already satisfied: lxml>=4.9.1 in /usr/local/lib/python3.10/dist-packages (from yfinance) (4.9.3)\n",
            "Requirement already satisfied: appdirs>=1.4.4 in /usr/local/lib/python3.10/dist-packages (from yfinance) (1.4.4)\n",
            "Requirement already satisfied: pytz>=2022.5 in /usr/local/lib/python3.10/dist-packages (from yfinance) (2022.7.1)\n",
            "Requirement already satisfied: frozendict>=2.3.4 in /usr/local/lib/python3.10/dist-packages (from yfinance) (2.3.8)\n",
            "Requirement already satisfied: beautifulsoup4>=4.11.1 in /usr/local/lib/python3.10/dist-packages (from yfinance) (4.11.2)\n",
            "Requirement already satisfied: html5lib>=1.1 in /usr/local/lib/python3.10/dist-packages (from yfinance) (1.1)\n",
            "Requirement already satisfied: soupsieve>1.2 in /usr/local/lib/python3.10/dist-packages (from beautifulsoup4>=4.11.1->yfinance) (2.4.1)\n",
            "Requirement already satisfied: six>=1.9 in /usr/local/lib/python3.10/dist-packages (from html5lib>=1.1->yfinance) (1.16.0)\n",
            "Requirement already satisfied: webencodings in /usr/local/lib/python3.10/dist-packages (from html5lib>=1.1->yfinance) (0.5.1)\n",
            "Requirement already satisfied: python-dateutil>=2.8.1 in /usr/local/lib/python3.10/dist-packages (from pandas>=1.3.0->yfinance) (2.8.2)\n",
            "Requirement already satisfied: urllib3<1.27,>=1.21.1 in /usr/local/lib/python3.10/dist-packages (from requests>=2.26->yfinance) (1.26.16)\n",
            "Requirement already satisfied: certifi>=2017.4.17 in /usr/local/lib/python3.10/dist-packages (from requests>=2.26->yfinance) (2023.5.7)\n",
            "Requirement already satisfied: charset-normalizer~=2.0.0 in /usr/local/lib/python3.10/dist-packages (from requests>=2.26->yfinance) (2.0.12)\n",
            "Requirement already satisfied: idna<4,>=2.5 in /usr/local/lib/python3.10/dist-packages (from requests>=2.26->yfinance) (3.4)\n"
          ]
        }
      ],
      "source": [
        "pip install yfinance"
      ]
    },
    {
      "cell_type": "code",
      "execution_count": null,
      "metadata": {
        "colab": {
          "base_uri": "https://localhost:8080/"
        },
        "id": "Li-Ph2xPY72Z",
        "outputId": "b7fe116f-6b8c-4f19-e451-b833d30aebe4"
      },
      "outputs": [
        {
          "name": "stdout",
          "output_type": "stream",
          "text": [
            "Collecting ta\n",
            "  Downloading ta-0.10.2.tar.gz (25 kB)\n",
            "  Preparing metadata (setup.py) ... \u001b[?25l\u001b[?25hdone\n",
            "Requirement already satisfied: numpy in /usr/local/lib/python3.10/dist-packages (from ta) (1.22.4)\n",
            "Requirement already satisfied: pandas in /usr/local/lib/python3.10/dist-packages (from ta) (1.5.3)\n",
            "Requirement already satisfied: python-dateutil>=2.8.1 in /usr/local/lib/python3.10/dist-packages (from pandas->ta) (2.8.2)\n",
            "Requirement already satisfied: pytz>=2020.1 in /usr/local/lib/python3.10/dist-packages (from pandas->ta) (2022.7.1)\n",
            "Requirement already satisfied: six>=1.5 in /usr/local/lib/python3.10/dist-packages (from python-dateutil>=2.8.1->pandas->ta) (1.16.0)\n",
            "Building wheels for collected packages: ta\n",
            "  Building wheel for ta (setup.py) ... \u001b[?25l\u001b[?25hdone\n",
            "  Created wheel for ta: filename=ta-0.10.2-py3-none-any.whl size=29088 sha256=934f4818be56f4c300d197da50088b35b53143be6131a4bf47512ec3629d9751\n",
            "  Stored in directory: /root/.cache/pip/wheels/47/51/06/380dc516ea78621870b93ff65527c251afdfdc5fa9d7f4d248\n",
            "Successfully built ta\n",
            "Installing collected packages: ta\n",
            "Successfully installed ta-0.10.2\n"
          ]
        }
      ],
      "source": [
        "pip install ta"
      ]
    },
    {
      "cell_type": "code",
      "execution_count": null,
      "metadata": {
        "id": "Xf5dGaY6Ygc2"
      },
      "outputs": [],
      "source": [
        "import pandas as pd\n",
        "import yfinance as yf\n",
        "import ta\n",
        "import numpy as np\n"
      ]
    },
    {
      "cell_type": "code",
      "execution_count": null,
      "metadata": {
        "colab": {
          "base_uri": "https://localhost:8080/"
        },
        "id": "vwlSlWmQYgg1",
        "outputId": "c125547b-82e3-42fc-9080-24ed9947cf39"
      },
      "outputs": [
        {
          "name": "stdout",
          "output_type": "stream",
          "text": [
            "\r[*********************100%***********************]  1 of 1 completed\n"
          ]
        }
      ],
      "source": [
        "df = yf.download(\"COST\", start = \"2002-01-01\")"
      ]
    },
    {
      "cell_type": "code",
      "execution_count": null,
      "metadata": {
        "id": "B0SQ-yOfYgk2"
      },
      "outputs": [],
      "source": [
        "df[\"SMA200\"] = ta.trend.sma_indicator(df.Close, window = 200)"
      ]
    },
    {
      "cell_type": "code",
      "execution_count": null,
      "metadata": {
        "id": "3HWYG-PnYyG_"
      },
      "outputs": [],
      "source": [
        "df[\"RSI\"] = ta.momentum.rsi(df.Close, window = 10)"
      ]
    },
    {
      "cell_type": "code",
      "execution_count": null,
      "metadata": {
        "id": "MrnnDkMmYgol"
      },
      "outputs": [],
      "source": [
        "df[\"Signal\"] = np.where((df.Close > df.SMA200) & (df.RSI < 30), True, False)"
      ]
    },
    {
      "cell_type": "code",
      "execution_count": null,
      "metadata": {
        "id": "FHNzNqmeYgsX"
      },
      "outputs": [],
      "source": [
        "Buying_dates = []\n",
        "Selling_dates = []\n",
        "\n",
        "for i in range(len(df)):\n",
        "  if df.Signal.iloc[i]:\n",
        "    Buying_dates.append(df.iloc[i + 1].name)\n",
        "    for j in range(1,11):\n",
        "      if df[\"RSI\"].iloc[i + j] > 40:\n",
        "        Selling_dates.append(df.iloc[i + j +1].name)\n",
        "        break\n",
        "      elif j == 10:\n",
        "        Selling_dates.append(df.iloc[i + j + 1].name)\n"
      ]
    },
    {
      "cell_type": "code",
      "execution_count": null,
      "metadata": {
        "id": "3rvvmFxLYgv-"
      },
      "outputs": [],
      "source": [
        "frame = pd.DataFrame({\"Buying_dates\":Buying_dates, \"Selling_dates\":Selling_dates})"
      ]
    },
    {
      "cell_type": "code",
      "execution_count": null,
      "metadata": {
        "id": "blsHigjTYgzx"
      },
      "outputs": [],
      "source": [
        "#frame"
      ]
    },
    {
      "cell_type": "code",
      "execution_count": null,
      "metadata": {
        "id": "omTp9T2dYg3f"
      },
      "outputs": [],
      "source": [
        "#frame.head(20)"
      ]
    },
    {
      "cell_type": "code",
      "execution_count": null,
      "metadata": {
        "id": "zPzIc9mEYg7J"
      },
      "outputs": [],
      "source": [
        "actualtrades = frame[frame.Buying_dates > frame.Selling_dates.shift(1)]"
      ]
    },
    {
      "cell_type": "code",
      "execution_count": null,
      "metadata": {
        "colab": {
          "base_uri": "https://localhost:8080/"
        },
        "id": "vAL3LtDDYg--",
        "outputId": "e119ce39-3c04-4d37-d3fb-bc1b03843e67"
      },
      "outputs": [
        {
          "name": "stderr",
          "output_type": "stream",
          "text": [
            "<ipython-input-13-d9460a9f27e5>:1: FutureWarning: The frame.append method is deprecated and will be removed from pandas in a future version. Use pandas.concat instead.\n",
            "  actualtrades =  frame[:1].append(actualtrades)\n"
          ]
        }
      ],
      "source": [
        "actualtrades =  frame[:1].append(actualtrades)"
      ]
    },
    {
      "cell_type": "code",
      "execution_count": null,
      "metadata": {
        "id": "1X-DFOUDYhCx"
      },
      "outputs": [],
      "source": [
        "#actualtrades"
      ]
    },
    {
      "cell_type": "code",
      "execution_count": null,
      "metadata": {
        "id": "uQuFzhe8YhGT"
      },
      "outputs": [],
      "source": [
        "profits = \\\n",
        "df.loc[actualtrades.Selling_dates].Open.values - df.loc[actualtrades.Buying_dates].Open.values"
      ]
    },
    {
      "cell_type": "code",
      "execution_count": null,
      "metadata": {
        "id": "mRKWsa-LYhJx"
      },
      "outputs": [],
      "source": [
        "posprofits =  len([i for i in profits if i > 0])"
      ]
    },
    {
      "cell_type": "code",
      "execution_count": null,
      "metadata": {
        "id": "GobTxHOyYhNp"
      },
      "outputs": [],
      "source": [
        "total = len(profits)"
      ]
    },
    {
      "cell_type": "code",
      "execution_count": null,
      "metadata": {
        "colab": {
          "base_uri": "https://localhost:8080/"
        },
        "id": "1qVGdfF4YhRi",
        "outputId": "0e2aedca-8f97-4582-b26b-a6bbe2611883"
      },
      "outputs": [
        {
          "data": {
            "text/plain": [
              "0.8620689655172413"
            ]
          },
          "execution_count": 18,
          "metadata": {},
          "output_type": "execute_result"
        }
      ],
      "source": [
        "#winrate\n",
        "posprofits/total"
      ]
    },
    {
      "cell_type": "code",
      "execution_count": null,
      "metadata": {
        "id": "8Wz0PalqYhVD"
      },
      "outputs": [],
      "source": [
        "relprofits = \\\n",
        "(df.loc[actualtrades.Selling_dates].Open.values - df.loc[actualtrades.Buying_dates].Open.values)/df.loc[actualtrades.Selling_dates].Open.values"
      ]
    },
    {
      "cell_type": "code",
      "execution_count": null,
      "metadata": {
        "colab": {
          "base_uri": "https://localhost:8080/"
        },
        "id": "VhSNs3ypYhYo",
        "outputId": "0e3790c5-ea69-4c71-dddf-1c94c62a5624"
      },
      "outputs": [
        {
          "data": {
            "text/plain": [
              "array([ 0.0085024 ,  0.02020633,  0.02329842,  0.01322707,  0.0062381 ,\n",
              "       -0.02705262,  0.00059344,  0.01804603,  0.01088499,  0.02233842,\n",
              "        0.03391895,  0.00294444,  0.01531301,  0.00865273,  0.01327459,\n",
              "        0.02353015,  0.03310187, -0.08790851,  0.00904441, -0.04269394,\n",
              "        0.020798  ,  0.03054145,  0.00996499,  0.02406243,  0.07727895,\n",
              "        0.02632636,  0.01912531, -0.07360879,  0.02136383])"
            ]
          },
          "execution_count": 20,
          "metadata": {},
          "output_type": "execute_result"
        }
      ],
      "source": [
        "relprofits"
      ]
    },
    {
      "cell_type": "code",
      "execution_count": null,
      "metadata": {
        "colab": {
          "base_uri": "https://localhost:8080/"
        },
        "id": "GSXmS1whYhcN",
        "outputId": "20508fc0-1634-4577-e14d-6cb5ced95945"
      },
      "outputs": [
        {
          "data": {
            "text/plain": [
              "0.0090107870457377"
            ]
          },
          "execution_count": 21,
          "metadata": {},
          "output_type": "execute_result"
        }
      ],
      "source": [
        "relprofits.mean()"
      ]
    },
    {
      "cell_type": "code",
      "execution_count": null,
      "metadata": {
        "id": "RyWSOPGUYhfr"
      },
      "outputs": [],
      "source": [
        "#1000000 * (relprofits + 1).cumprod()"
      ]
    },
    {
      "cell_type": "code",
      "execution_count": null,
      "metadata": {
        "id": "eoa-HjRTYhjo"
      },
      "outputs": [],
      "source": [
        "def getactuals(df):\n",
        "    Buying_dates = []\n",
        "    Selling_dates = []\n",
        "\n",
        "    for i in range(len(df) - 11):\n",
        "       if df.Signal.iloc[i]:\n",
        "          Buying_dates.append(df.iloc[i + 1].name)\n",
        "          for j in range(1,11):\n",
        "            if df[\"RSI\"].iloc[i + j] > 40:\n",
        "                Selling_dates.append(df.iloc[i + j +1].name)\n",
        "                break\n",
        "            elif j == 10:\n",
        "               Selling_dates.append(df.iloc[i + j + 1].name)\n",
        "\n",
        "    frame = pd.DataFrame({\"Buying_dates\":Buying_dates, \"Selling_dates\":Selling_dates})\n",
        "    actuals = frame[frame.Buying_dates > frame.Selling_dates.shift(1)]\n",
        "    actuals = frame[:1].append(actuals)\n",
        "    return actuals"
      ]
    },
    {
      "cell_type": "code",
      "execution_count": null,
      "metadata": {
        "id": "TeufwT3OYhnK"
      },
      "outputs": [],
      "source": [
        "#getactuals(df)"
      ]
    },
    {
      "cell_type": "code",
      "execution_count": null,
      "metadata": {
        "id": "WgB-vL1LYhq5"
      },
      "outputs": [],
      "source": [
        "def tacalc(df):\n",
        "  df[\"SMA200\"] = ta.trend.sma_indicator(df.Close, window = 200)\n",
        "  df[\"RSI\"] = ta.momentum.rsi(df.Close, window = 10)\n",
        "  df[\"Signal\"] = np.where((df.Close > df.SMA200) & (df.RSI < 30), True, False)\n",
        "\n"
      ]
    },
    {
      "cell_type": "code",
      "execution_count": null,
      "metadata": {
        "colab": {
          "base_uri": "https://localhost:8080/"
        },
        "id": "895wr6_fd6tl",
        "outputId": "1974e2e7-a573-4436-a22e-4b06d80af35e"
      },
      "outputs": [
        {
          "name": "stdout",
          "output_type": "stream",
          "text": [
            "\r[*********************100%***********************]  1 of 1 completed\n"
          ]
        }
      ],
      "source": [
        "df = yf.download(\"BTC-USD\", start = \"2010-01-01\")"
      ]
    },
    {
      "cell_type": "code",
      "execution_count": null,
      "metadata": {
        "id": "LI9-VYzVd6tl"
      },
      "outputs": [],
      "source": [
        "tacalc(df)"
      ]
    },
    {
      "cell_type": "code",
      "execution_count": null,
      "metadata": {
        "colab": {
          "base_uri": "https://localhost:8080/"
        },
        "id": "g12dx0cDd6tm",
        "outputId": "1b20bc8c-cf59-49fb-9134-e311a5812f55"
      },
      "outputs": [
        {
          "name": "stderr",
          "output_type": "stream",
          "text": [
            "<ipython-input-23-575e291b52e6>:17: FutureWarning: The frame.append method is deprecated and will be removed from pandas in a future version. Use pandas.concat instead.\n",
            "  actuals = frame[:1].append(actuals)\n"
          ]
        }
      ],
      "source": [
        "actualtrades = getactuals(df)"
      ]
    },
    {
      "cell_type": "code",
      "execution_count": null,
      "metadata": {
        "id": "ujLIEUt2Yhuw"
      },
      "outputs": [],
      "source": [
        "relprofits = \\\n",
        "(df.loc[actualtrades.Selling_dates].Open.values - df.loc[actualtrades.Buying_dates].Open.values)/df.loc[actualtrades.Selling_dates].Open.values"
      ]
    },
    {
      "cell_type": "code",
      "execution_count": null,
      "metadata": {
        "colab": {
          "base_uri": "https://localhost:8080/"
        },
        "id": "QxsHx6vFYhzN",
        "outputId": "635928ac-f085-44b5-e6d1-517c2f3e7950"
      },
      "outputs": [
        {
          "data": {
            "text/plain": [
              "0.036520056207259476"
            ]
          },
          "execution_count": 30,
          "metadata": {},
          "output_type": "execute_result"
        }
      ],
      "source": [
        "relprofits.mean()"
      ]
    },
    {
      "cell_type": "code",
      "execution_count": null,
      "metadata": {
        "id": "n20O5vfPe3S-"
      },
      "outputs": [],
      "source": [
        "tickers = [\"AAPL\", \"AMGN\", \"AXP\", \"BA\", \"CAT\", \"CRM\", \"CSCO\",\"CVX\", \"DIS\", \"DOW\", \"GS\",\n",
        "           \"HD\", \"HON\", \"IBM\", \"INTC\", \"JNJ\",\n",
        "           \"JPM\", \"KO\", \"MCD\", \"MMM\", \"MRK\", \"MSFT\", \"NKE\", \"PG\", \"TRV\", \"UNH\",\n",
        "           \"V\", \"VZ\", \"WBA\", \"WMT\"]"
      ]
    },
    {
      "cell_type": "code",
      "execution_count": null,
      "metadata": {
        "id": "yLUcz1mfkGiS"
      },
      "outputs": [],
      "source": [
        "tickers = [\"AMD\", \"ADBE\", \"ABNB\", \"ALGN\", \"AMZN\", \"AMGN\", \"AEP\",\"ADI\", \"ANSS\", \"AAPL\", \"AMAT\",\n",
        "          \"ASML\", \"TEAM\", \"ADSK\", \"ATVI\", \"ADP\",\"AZN\", \"BRK\", \"AVGO\", \"BIIB\", \"BMRN\", \"BKNG\", \"CDNS\",\n",
        "          \"CHTR\", \"CPRT\", \"CSGP\", \"CRWD\", \"CTAS\", \"CSCO\", \"CMCSA\", \"COST\", \"CSX\", \"CTSH\",\n",
        "          \"DDOG\", \"DXCM\", \"FANG\", \"DLTR\", \"EA\", \"EBAY\",\"EXC\", \"FAST\", \"GFS\", \"META\", \"FISV\", \"GILD\",\n",
        "        \"GOOG\", \"HON\", \"ILMN\", \"INTC\", \"INTU\", \"ISRG\", \"MRVL\", \"IDXX\", \"JD\", \"KDP\", \"KLAC\", \"KHC\", \"LRCX\", \"LCID\",\n",
        "            \"MAR\", \"MCHP\", \"MDLZ\", \"MRNA\", \"MNST\", \"MU\", \"NFLX\", \"NVDA\", \"NXPI\", \"ODFL\", \"ORLY\", \"PCAR\",\n",
        "          \"PANW\", \"PAYX\", \"PDD\", \"PYPL\", \"PEP\", \"QCOM\", \"REGN\", \"RIVN\", \"ROST\", \"SIRI\", \"SGEN\", \"SBUX\", \"SNPS\", \"TSLA\",\n",
        "           \"TXN\", \"TMUS\", \"VRSK\", \"VRTX\", \"WBA\", \"WBD\", \"WDAY\", \"XEL\", \"ZM\", \"ZS\"]"
      ]
    },
    {
      "cell_type": "code",
      "execution_count": null,
      "metadata": {
        "id": "ro62PGq-lirh"
      },
      "outputs": [],
      "source": [
        "tickers = [\"XLP\", \"QQQ\", \"XLV\", \"XLE\", \"XLU\", \"COST\", \"KO\", \"NKE\", \"XLK\", \"JNJ\", \"JPM\", \"CL\", \"DPZ\", \"T\", \"GLD\", \"SPY\", \"YUM\", \"CL\",\n",
        "           \"K\", \"V\", \"KO\", \"GS\", \"MA\", \"GS\", \"MCD\"]"
      ]
    },
    {
      "cell_type": "code",
      "execution_count": null,
      "metadata": {
        "colab": {
          "base_uri": "https://localhost:8080/"
        },
        "id": "-e0Drw4-Yh3X",
        "outputId": "0feb1e6c-e480-42ff-e83a-c4d73d95e35c"
      },
      "outputs": [
        {
          "name": "stdout",
          "output_type": "stream",
          "text": [
            "\r[*********************100%***********************]  1 of 1 completed\n"
          ]
        },
        {
          "name": "stderr",
          "output_type": "stream",
          "text": [
            "<ipython-input-23-575e291b52e6>:17: FutureWarning: The frame.append method is deprecated and will be removed from pandas in a future version. Use pandas.concat instead.\n",
            "  actuals = frame[:1].append(actuals)\n"
          ]
        },
        {
          "name": "stdout",
          "output_type": "stream",
          "text": [
            "\r[*********************100%***********************]  1 of 1 completed\n"
          ]
        },
        {
          "name": "stderr",
          "output_type": "stream",
          "text": [
            "<ipython-input-23-575e291b52e6>:17: FutureWarning: The frame.append method is deprecated and will be removed from pandas in a future version. Use pandas.concat instead.\n",
            "  actuals = frame[:1].append(actuals)\n"
          ]
        },
        {
          "name": "stdout",
          "output_type": "stream",
          "text": [
            "\r[*********************100%***********************]  1 of 1 completed\n"
          ]
        },
        {
          "name": "stderr",
          "output_type": "stream",
          "text": [
            "<ipython-input-23-575e291b52e6>:17: FutureWarning: The frame.append method is deprecated and will be removed from pandas in a future version. Use pandas.concat instead.\n",
            "  actuals = frame[:1].append(actuals)\n"
          ]
        },
        {
          "name": "stdout",
          "output_type": "stream",
          "text": [
            "\r[*********************100%***********************]  1 of 1 completed\n"
          ]
        },
        {
          "name": "stderr",
          "output_type": "stream",
          "text": [
            "<ipython-input-23-575e291b52e6>:17: FutureWarning: The frame.append method is deprecated and will be removed from pandas in a future version. Use pandas.concat instead.\n",
            "  actuals = frame[:1].append(actuals)\n"
          ]
        },
        {
          "name": "stdout",
          "output_type": "stream",
          "text": [
            "\r[*********************100%***********************]  1 of 1 completed\n"
          ]
        },
        {
          "name": "stderr",
          "output_type": "stream",
          "text": [
            "<ipython-input-23-575e291b52e6>:17: FutureWarning: The frame.append method is deprecated and will be removed from pandas in a future version. Use pandas.concat instead.\n",
            "  actuals = frame[:1].append(actuals)\n"
          ]
        },
        {
          "name": "stdout",
          "output_type": "stream",
          "text": [
            "\r[*********************100%***********************]  1 of 1 completed\n"
          ]
        },
        {
          "name": "stderr",
          "output_type": "stream",
          "text": [
            "<ipython-input-23-575e291b52e6>:17: FutureWarning: The frame.append method is deprecated and will be removed from pandas in a future version. Use pandas.concat instead.\n",
            "  actuals = frame[:1].append(actuals)\n"
          ]
        },
        {
          "name": "stdout",
          "output_type": "stream",
          "text": [
            "\r[*********************100%***********************]  1 of 1 completed\n"
          ]
        },
        {
          "name": "stderr",
          "output_type": "stream",
          "text": [
            "<ipython-input-23-575e291b52e6>:17: FutureWarning: The frame.append method is deprecated and will be removed from pandas in a future version. Use pandas.concat instead.\n",
            "  actuals = frame[:1].append(actuals)\n"
          ]
        },
        {
          "name": "stdout",
          "output_type": "stream",
          "text": [
            "\r[*********************100%***********************]  1 of 1 completed\n"
          ]
        },
        {
          "name": "stderr",
          "output_type": "stream",
          "text": [
            "<ipython-input-23-575e291b52e6>:17: FutureWarning: The frame.append method is deprecated and will be removed from pandas in a future version. Use pandas.concat instead.\n",
            "  actuals = frame[:1].append(actuals)\n"
          ]
        },
        {
          "name": "stdout",
          "output_type": "stream",
          "text": [
            "\r[*********************100%***********************]  1 of 1 completed\n"
          ]
        },
        {
          "name": "stderr",
          "output_type": "stream",
          "text": [
            "<ipython-input-23-575e291b52e6>:17: FutureWarning: The frame.append method is deprecated and will be removed from pandas in a future version. Use pandas.concat instead.\n",
            "  actuals = frame[:1].append(actuals)\n"
          ]
        },
        {
          "name": "stdout",
          "output_type": "stream",
          "text": [
            "\r[*********************100%***********************]  1 of 1 completed\n"
          ]
        },
        {
          "name": "stderr",
          "output_type": "stream",
          "text": [
            "<ipython-input-23-575e291b52e6>:17: FutureWarning: The frame.append method is deprecated and will be removed from pandas in a future version. Use pandas.concat instead.\n",
            "  actuals = frame[:1].append(actuals)\n"
          ]
        },
        {
          "name": "stdout",
          "output_type": "stream",
          "text": [
            "\r[*********************100%***********************]  1 of 1 completed\n"
          ]
        },
        {
          "name": "stderr",
          "output_type": "stream",
          "text": [
            "<ipython-input-23-575e291b52e6>:17: FutureWarning: The frame.append method is deprecated and will be removed from pandas in a future version. Use pandas.concat instead.\n",
            "  actuals = frame[:1].append(actuals)\n"
          ]
        },
        {
          "name": "stdout",
          "output_type": "stream",
          "text": [
            "\r[*********************100%***********************]  1 of 1 completed\n"
          ]
        },
        {
          "name": "stderr",
          "output_type": "stream",
          "text": [
            "<ipython-input-23-575e291b52e6>:17: FutureWarning: The frame.append method is deprecated and will be removed from pandas in a future version. Use pandas.concat instead.\n",
            "  actuals = frame[:1].append(actuals)\n"
          ]
        },
        {
          "name": "stdout",
          "output_type": "stream",
          "text": [
            "\r[*********************100%***********************]  1 of 1 completed\n"
          ]
        },
        {
          "name": "stderr",
          "output_type": "stream",
          "text": [
            "<ipython-input-23-575e291b52e6>:17: FutureWarning: The frame.append method is deprecated and will be removed from pandas in a future version. Use pandas.concat instead.\n",
            "  actuals = frame[:1].append(actuals)\n"
          ]
        },
        {
          "name": "stdout",
          "output_type": "stream",
          "text": [
            "\r[*********************100%***********************]  1 of 1 completed\n"
          ]
        },
        {
          "name": "stderr",
          "output_type": "stream",
          "text": [
            "<ipython-input-23-575e291b52e6>:17: FutureWarning: The frame.append method is deprecated and will be removed from pandas in a future version. Use pandas.concat instead.\n",
            "  actuals = frame[:1].append(actuals)\n"
          ]
        },
        {
          "name": "stdout",
          "output_type": "stream",
          "text": [
            "\r[*********************100%***********************]  1 of 1 completed\n"
          ]
        },
        {
          "name": "stderr",
          "output_type": "stream",
          "text": [
            "<ipython-input-23-575e291b52e6>:17: FutureWarning: The frame.append method is deprecated and will be removed from pandas in a future version. Use pandas.concat instead.\n",
            "  actuals = frame[:1].append(actuals)\n"
          ]
        },
        {
          "name": "stdout",
          "output_type": "stream",
          "text": [
            "\r[*********************100%***********************]  1 of 1 completed\n"
          ]
        },
        {
          "name": "stderr",
          "output_type": "stream",
          "text": [
            "<ipython-input-23-575e291b52e6>:17: FutureWarning: The frame.append method is deprecated and will be removed from pandas in a future version. Use pandas.concat instead.\n",
            "  actuals = frame[:1].append(actuals)\n"
          ]
        },
        {
          "name": "stdout",
          "output_type": "stream",
          "text": [
            "\r[*********************100%***********************]  1 of 1 completed\n"
          ]
        },
        {
          "name": "stderr",
          "output_type": "stream",
          "text": [
            "<ipython-input-23-575e291b52e6>:17: FutureWarning: The frame.append method is deprecated and will be removed from pandas in a future version. Use pandas.concat instead.\n",
            "  actuals = frame[:1].append(actuals)\n"
          ]
        },
        {
          "name": "stdout",
          "output_type": "stream",
          "text": [
            "\r[*********************100%***********************]  1 of 1 completed\n"
          ]
        },
        {
          "name": "stderr",
          "output_type": "stream",
          "text": [
            "<ipython-input-23-575e291b52e6>:17: FutureWarning: The frame.append method is deprecated and will be removed from pandas in a future version. Use pandas.concat instead.\n",
            "  actuals = frame[:1].append(actuals)\n"
          ]
        },
        {
          "name": "stdout",
          "output_type": "stream",
          "text": [
            "\r[*********************100%***********************]  1 of 1 completed\n"
          ]
        },
        {
          "name": "stderr",
          "output_type": "stream",
          "text": [
            "<ipython-input-23-575e291b52e6>:17: FutureWarning: The frame.append method is deprecated and will be removed from pandas in a future version. Use pandas.concat instead.\n",
            "  actuals = frame[:1].append(actuals)\n"
          ]
        },
        {
          "name": "stdout",
          "output_type": "stream",
          "text": [
            "\r[*********************100%***********************]  1 of 1 completed\n"
          ]
        },
        {
          "name": "stderr",
          "output_type": "stream",
          "text": [
            "<ipython-input-23-575e291b52e6>:17: FutureWarning: The frame.append method is deprecated and will be removed from pandas in a future version. Use pandas.concat instead.\n",
            "  actuals = frame[:1].append(actuals)\n"
          ]
        },
        {
          "name": "stdout",
          "output_type": "stream",
          "text": [
            "\r[*********************100%***********************]  1 of 1 completed\n"
          ]
        },
        {
          "name": "stderr",
          "output_type": "stream",
          "text": [
            "<ipython-input-23-575e291b52e6>:17: FutureWarning: The frame.append method is deprecated and will be removed from pandas in a future version. Use pandas.concat instead.\n",
            "  actuals = frame[:1].append(actuals)\n"
          ]
        },
        {
          "name": "stdout",
          "output_type": "stream",
          "text": [
            "\r[*********************100%***********************]  1 of 1 completed\n"
          ]
        },
        {
          "name": "stderr",
          "output_type": "stream",
          "text": [
            "<ipython-input-23-575e291b52e6>:17: FutureWarning: The frame.append method is deprecated and will be removed from pandas in a future version. Use pandas.concat instead.\n",
            "  actuals = frame[:1].append(actuals)\n"
          ]
        },
        {
          "name": "stdout",
          "output_type": "stream",
          "text": [
            "\r[*********************100%***********************]  1 of 1 completed\n"
          ]
        },
        {
          "name": "stderr",
          "output_type": "stream",
          "text": [
            "<ipython-input-23-575e291b52e6>:17: FutureWarning: The frame.append method is deprecated and will be removed from pandas in a future version. Use pandas.concat instead.\n",
            "  actuals = frame[:1].append(actuals)\n"
          ]
        },
        {
          "name": "stdout",
          "output_type": "stream",
          "text": [
            "\r[*********************100%***********************]  1 of 1 completed\n"
          ]
        },
        {
          "name": "stderr",
          "output_type": "stream",
          "text": [
            "<ipython-input-23-575e291b52e6>:17: FutureWarning: The frame.append method is deprecated and will be removed from pandas in a future version. Use pandas.concat instead.\n",
            "  actuals = frame[:1].append(actuals)\n"
          ]
        },
        {
          "name": "stdout",
          "output_type": "stream",
          "text": [
            "\r[*********************100%***********************]  1 of 1 completed\n"
          ]
        },
        {
          "name": "stderr",
          "output_type": "stream",
          "text": [
            "<ipython-input-23-575e291b52e6>:17: FutureWarning: The frame.append method is deprecated and will be removed from pandas in a future version. Use pandas.concat instead.\n",
            "  actuals = frame[:1].append(actuals)\n"
          ]
        }
      ],
      "source": [
        "matrixprofits = []\n",
        "\n",
        "for i in tickers:\n",
        "  df = yf.download(i, start = \"2006-01-01\")\n",
        "  tacalc(df)\n",
        "  actualtrades = getactuals(df)\n",
        "  relprofits = \\\n",
        "(df.loc[actualtrades.Selling_dates].Open.values - df.loc[actualtrades.Buying_dates].Open.values)/df.loc[actualtrades.Selling_dates].Open.values\n",
        "  matrixprofits.append(relprofits)"
      ]
    },
    {
      "cell_type": "code",
      "execution_count": null,
      "metadata": {
        "id": "Y0-p72mMYh7I"
      },
      "outputs": [],
      "source": [
        "avgs = []\n",
        "\n",
        "for i in matrixprofits:\n",
        "  if len(i) > 0 :\n",
        "    avgs.append(i.mean())\n"
      ]
    },
    {
      "cell_type": "code",
      "execution_count": null,
      "metadata": {
        "colab": {
          "base_uri": "https://localhost:8080/"
        },
        "id": "t3OO4qdEYh-6",
        "outputId": "23a78140-cadd-431e-c07c-ab94c1c31a4f"
      },
      "outputs": [
        {
          "data": {
            "text/plain": [
              "0.006460851636513919"
            ]
          },
          "execution_count": 36,
          "metadata": {},
          "output_type": "execute_result"
        }
      ],
      "source": [
        "sum(avgs)/len(avgs)"
      ]
    },
    {
      "cell_type": "code",
      "execution_count": null,
      "metadata": {
        "id": "QkE1kzE9k0Yc"
      },
      "outputs": [],
      "source": [
        "wins = [i for i in avgs if i > 0]"
      ]
    },
    {
      "cell_type": "code",
      "execution_count": null,
      "metadata": {
        "colab": {
          "base_uri": "https://localhost:8080/"
        },
        "id": "80mlwmFPhiZv",
        "outputId": "bc27b16f-35ff-4af0-d0ff-4f5dc60bdf7e"
      },
      "outputs": [
        {
          "data": {
            "text/plain": [
              "0.88"
            ]
          },
          "execution_count": 38,
          "metadata": {},
          "output_type": "execute_result"
        }
      ],
      "source": [
        "winrate = len(wins)/len(avgs)\n",
        "winrate"
      ]
    },
    {
      "cell_type": "code",
      "execution_count": null,
      "metadata": {
        "colab": {
          "base_uri": "https://localhost:8080/"
        },
        "id": "Xp7yZCayYiDE",
        "outputId": "e8102907-09b0-4274-ab4d-2b1dfd459b01"
      },
      "outputs": [
        {
          "data": {
            "text/plain": [
              "12"
            ]
          },
          "execution_count": 39,
          "metadata": {},
          "output_type": "execute_result"
        }
      ],
      "source": [
        "avgs.index(max(avgs))"
      ]
    },
    {
      "cell_type": "code",
      "execution_count": null,
      "metadata": {
        "colab": {
          "base_uri": "https://localhost:8080/",
          "height": 40
        },
        "id": "rfYSsG3uYiHA",
        "outputId": "3c7b436d-f5ca-44ae-f994-cb8742ac0f04"
      },
      "outputs": [
        {
          "data": {
            "application/vnd.google.colaboratory.intrinsic+json": {
              "type": "string"
            },
            "text/plain": [
              "'DPZ'"
            ]
          },
          "execution_count": 40,
          "metadata": {},
          "output_type": "execute_result"
        }
      ],
      "source": [
        "tickers[12]"
      ]
    }
  ],
  "metadata": {
    "colab": {
      "provenance": []
    },
    "kernelspec": {
      "display_name": "Python 3",
      "name": "python3"
    },
    "language_info": {
      "name": "python"
    }
  },
  "nbformat": 4,
  "nbformat_minor": 0
}
