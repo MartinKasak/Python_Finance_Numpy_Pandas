{
 "cells": [
  {
   "cell_type": "code",
   "execution_count": 135,
   "metadata": {},
   "outputs": [
    {
     "name": "stderr",
     "output_type": "stream",
     "text": [
      "/tmp/ipykernel_1635869/2281963029.py:8: MatplotlibDeprecationWarning: The seaborn styles shipped by Matplotlib are deprecated since 3.6, as they no longer correspond to the styles shipped by seaborn. However, they will remain available as 'seaborn-v0_8-<style>'. Alternatively, directly use the seaborn API instead.\n",
      "  plt.style.use('seaborn')\n"
     ]
    }
   ],
   "source": [
    "# loeme sisse vajalikud paketid\n",
    "# numpy & pandas -> data manipulation\n",
    "# yfinance aitab finants tickers sisse võtta\n",
    "import numpy as np \n",
    "import yfinance as yf\n",
    "import pandas as pd \n",
    "from pylab import mpl, plt\n",
    "plt.style.use('seaborn')\n",
    "mpl.rcParams['font.family'] = 'serif'\n",
    "import matplotlib\n",
    "%matplotlib inline\n"
   ]
  },
  {
   "cell_type": "code",
   "execution_count": 136,
   "metadata": {},
   "outputs": [
    {
     "name": "stdout",
     "output_type": "stream",
     "text": [
      "3.7.1\n"
     ]
    }
   ],
   "source": [
    "print(matplotlib.__version__)"
   ]
  },
  {
   "cell_type": "code",
   "execution_count": 77,
   "metadata": {},
   "outputs": [
    {
     "name": "stdout",
     "output_type": "stream",
     "text": [
      "[*********************100%***********************]  1 of 1 completed\n"
     ]
    }
   ],
   "source": [
    "#loeme sisse S&P500 indexsi SPY \n",
    "df = yf.download(\"SPY\", start=\"2003-01-01\", end=\"2023-01-01\")"
   ]
  },
  {
   "cell_type": "code",
   "execution_count": 78,
   "metadata": {},
   "outputs": [],
   "source": [
    "#saab ka lugeda sisse mitmeid tickereid korraga\n",
    "#microsoft, coca-cola, apple, google, nike, visa, kellogs, 20 aasta võlakiri ETF,  \n",
    "#Seekord võtame ainult SPY\n",
    "\n",
    "symbols = \"MSFT\", \"KO\", \"AAPL\", \"GOOG\", \"NKE\", \"V\", \"K\", \"TLT\", \n",
    "symbols = \"SPY\" "
   ]
  },
  {
   "cell_type": "code",
   "execution_count": 79,
   "metadata": {},
   "outputs": [
    {
     "name": "stdout",
     "output_type": "stream",
     "text": [
      "[*********************100%***********************]  1 of 1 completed\n"
     ]
    }
   ],
   "source": [
    "#df -> dataframe\n",
    "df = yf.download(symbols, start=\"2013-01-01\", end=\"2023-01-01\")"
   ]
  },
  {
   "cell_type": "code",
   "execution_count": 80,
   "metadata": {},
   "outputs": [
    {
     "data": {
      "text/html": [
       "<div>\n",
       "<style scoped>\n",
       "    .dataframe tbody tr th:only-of-type {\n",
       "        vertical-align: middle;\n",
       "    }\n",
       "\n",
       "    .dataframe tbody tr th {\n",
       "        vertical-align: top;\n",
       "    }\n",
       "\n",
       "    .dataframe thead th {\n",
       "        text-align: right;\n",
       "    }\n",
       "</style>\n",
       "<table border=\"1\" class=\"dataframe\">\n",
       "  <thead>\n",
       "    <tr style=\"text-align: right;\">\n",
       "      <th></th>\n",
       "      <th>Open</th>\n",
       "      <th>High</th>\n",
       "      <th>Low</th>\n",
       "      <th>Close</th>\n",
       "      <th>Adj Close</th>\n",
       "      <th>Volume</th>\n",
       "    </tr>\n",
       "    <tr>\n",
       "      <th>Date</th>\n",
       "      <th></th>\n",
       "      <th></th>\n",
       "      <th></th>\n",
       "      <th></th>\n",
       "      <th></th>\n",
       "      <th></th>\n",
       "    </tr>\n",
       "  </thead>\n",
       "  <tbody>\n",
       "    <tr>\n",
       "      <th>2013-01-02</th>\n",
       "      <td>145.110001</td>\n",
       "      <td>146.149994</td>\n",
       "      <td>144.729996</td>\n",
       "      <td>146.059998</td>\n",
       "      <td>120.399689</td>\n",
       "      <td>192059000</td>\n",
       "    </tr>\n",
       "    <tr>\n",
       "      <th>2013-01-03</th>\n",
       "      <td>145.990005</td>\n",
       "      <td>146.369995</td>\n",
       "      <td>145.339996</td>\n",
       "      <td>145.729996</td>\n",
       "      <td>120.127663</td>\n",
       "      <td>144761800</td>\n",
       "    </tr>\n",
       "    <tr>\n",
       "      <th>2013-01-04</th>\n",
       "      <td>145.970001</td>\n",
       "      <td>146.610001</td>\n",
       "      <td>145.669998</td>\n",
       "      <td>146.369995</td>\n",
       "      <td>120.655228</td>\n",
       "      <td>116817700</td>\n",
       "    </tr>\n",
       "    <tr>\n",
       "      <th>2013-01-07</th>\n",
       "      <td>145.850006</td>\n",
       "      <td>146.110001</td>\n",
       "      <td>145.429993</td>\n",
       "      <td>145.970001</td>\n",
       "      <td>120.325493</td>\n",
       "      <td>110002500</td>\n",
       "    </tr>\n",
       "    <tr>\n",
       "      <th>2013-01-08</th>\n",
       "      <td>145.710007</td>\n",
       "      <td>145.910004</td>\n",
       "      <td>144.979996</td>\n",
       "      <td>145.550003</td>\n",
       "      <td>119.979256</td>\n",
       "      <td>121265100</td>\n",
       "    </tr>\n",
       "    <tr>\n",
       "      <th>...</th>\n",
       "      <td>...</td>\n",
       "      <td>...</td>\n",
       "      <td>...</td>\n",
       "      <td>...</td>\n",
       "      <td>...</td>\n",
       "      <td>...</td>\n",
       "    </tr>\n",
       "    <tr>\n",
       "      <th>2022-12-23</th>\n",
       "      <td>379.649994</td>\n",
       "      <td>383.059998</td>\n",
       "      <td>378.029999</td>\n",
       "      <td>382.910004</td>\n",
       "      <td>380.042480</td>\n",
       "      <td>59857300</td>\n",
       "    </tr>\n",
       "    <tr>\n",
       "      <th>2022-12-27</th>\n",
       "      <td>382.790009</td>\n",
       "      <td>383.149994</td>\n",
       "      <td>379.649994</td>\n",
       "      <td>381.399994</td>\n",
       "      <td>378.543793</td>\n",
       "      <td>51638200</td>\n",
       "    </tr>\n",
       "    <tr>\n",
       "      <th>2022-12-28</th>\n",
       "      <td>381.329987</td>\n",
       "      <td>383.390015</td>\n",
       "      <td>376.420013</td>\n",
       "      <td>376.660004</td>\n",
       "      <td>373.839264</td>\n",
       "      <td>70911500</td>\n",
       "    </tr>\n",
       "    <tr>\n",
       "      <th>2022-12-29</th>\n",
       "      <td>379.630005</td>\n",
       "      <td>384.350006</td>\n",
       "      <td>379.079987</td>\n",
       "      <td>383.440002</td>\n",
       "      <td>380.568512</td>\n",
       "      <td>66970900</td>\n",
       "    </tr>\n",
       "    <tr>\n",
       "      <th>2022-12-30</th>\n",
       "      <td>380.640015</td>\n",
       "      <td>382.579987</td>\n",
       "      <td>378.429993</td>\n",
       "      <td>382.429993</td>\n",
       "      <td>379.566040</td>\n",
       "      <td>84022200</td>\n",
       "    </tr>\n",
       "  </tbody>\n",
       "</table>\n",
       "<p>2518 rows × 6 columns</p>\n",
       "</div>"
      ],
      "text/plain": [
       "                  Open        High         Low       Close   Adj Close  \\\n",
       "Date                                                                     \n",
       "2013-01-02  145.110001  146.149994  144.729996  146.059998  120.399689   \n",
       "2013-01-03  145.990005  146.369995  145.339996  145.729996  120.127663   \n",
       "2013-01-04  145.970001  146.610001  145.669998  146.369995  120.655228   \n",
       "2013-01-07  145.850006  146.110001  145.429993  145.970001  120.325493   \n",
       "2013-01-08  145.710007  145.910004  144.979996  145.550003  119.979256   \n",
       "...                ...         ...         ...         ...         ...   \n",
       "2022-12-23  379.649994  383.059998  378.029999  382.910004  380.042480   \n",
       "2022-12-27  382.790009  383.149994  379.649994  381.399994  378.543793   \n",
       "2022-12-28  381.329987  383.390015  376.420013  376.660004  373.839264   \n",
       "2022-12-29  379.630005  384.350006  379.079987  383.440002  380.568512   \n",
       "2022-12-30  380.640015  382.579987  378.429993  382.429993  379.566040   \n",
       "\n",
       "               Volume  \n",
       "Date                   \n",
       "2013-01-02  192059000  \n",
       "2013-01-03  144761800  \n",
       "2013-01-04  116817700  \n",
       "2013-01-07  110002500  \n",
       "2013-01-08  121265100  \n",
       "...               ...  \n",
       "2022-12-23   59857300  \n",
       "2022-12-27   51638200  \n",
       "2022-12-28   70911500  \n",
       "2022-12-29   66970900  \n",
       "2022-12-30   84022200  \n",
       "\n",
       "[2518 rows x 6 columns]"
      ]
     },
     "execution_count": 80,
     "metadata": {},
     "output_type": "execute_result"
    }
   ],
   "source": [
    "df"
   ]
  },
  {
   "cell_type": "code",
   "execution_count": 81,
   "metadata": {},
   "outputs": [],
   "source": [
    "close = df[\"Close\"]"
   ]
  },
  {
   "cell_type": "code",
   "execution_count": 82,
   "metadata": {},
   "outputs": [
    {
     "data": {
      "image/png": "[encoded data removed]",
      "text/plain": [
       "<Figure size 1000x500 with 1 Axes>"
      ]
     },
     "metadata": {},
     "output_type": "display_data"
    }
   ],
   "source": [
    "close.plot(figsize=(10,5), subplots=True);"
   ]
  },
  {
   "cell_type": "code",
   "execution_count": 84,
   "metadata": {},
   "outputs": [
    {
     "data": {
      "text/plain": [
       "count    2518.00\n",
       "mean      273.95\n",
       "std        86.89\n",
       "min       145.55\n",
       "25%       205.14\n",
       "50%       258.24\n",
       "75%       326.81\n",
       "max       477.71\n",
       "Name: Close, dtype: float64"
      ]
     },
     "execution_count": 84,
     "metadata": {},
     "output_type": "execute_result"
    }
   ],
   "source": [
    "close.describe().round(2) "
   ]
  },
  {
   "cell_type": "code",
   "execution_count": 85,
   "metadata": {},
   "outputs": [
    {
     "data": {
      "text/plain": [
       "273.9549841301322"
      ]
     },
     "execution_count": 85,
     "metadata": {},
     "output_type": "execute_result"
    }
   ],
   "source": [
    "close.mean()"
   ]
  },
  {
   "cell_type": "code",
   "execution_count": 86,
   "metadata": {},
   "outputs": [
    {
     "data": {
      "text/plain": [
       "min       145.55\n",
       "mean      273.95\n",
       "std        86.89\n",
       "median    258.24\n",
       "max       477.71\n",
       "Name: Close, dtype: float64"
      ]
     },
     "execution_count": 86,
     "metadata": {},
     "output_type": "execute_result"
    }
   ],
   "source": [
    "close.aggregate([min, np.mean, np.std, np.median,max]).round(2)"
   ]
  },
  {
   "cell_type": "code",
   "execution_count": 87,
   "metadata": {},
   "outputs": [
    {
     "data": {
      "text/plain": [
       "Date\n",
       "2013-01-02      NaN\n",
       "2013-01-03   -0.002\n",
       "2013-01-04    0.004\n",
       "2013-01-07   -0.003\n",
       "2013-01-08   -0.003\n",
       "Name: Close, dtype: float64"
      ]
     },
     "execution_count": 87,
     "metadata": {},
     "output_type": "execute_result"
    }
   ],
   "source": [
    "close.pct_change().round(3).head()"
   ]
  },
  {
   "cell_type": "code",
   "execution_count": 127,
   "metadata": {},
   "outputs": [
    {
     "data": {
      "text/plain": [
       "Date\n",
       "2013-01-02    146.059998\n",
       "2013-01-03    145.729996\n",
       "2013-01-04    146.369995\n",
       "2013-01-07    145.970001\n",
       "2013-01-08    145.550003\n",
       "                 ...    \n",
       "2022-12-23    382.910004\n",
       "2022-12-27    381.399994\n",
       "2022-12-28    376.660004\n",
       "2022-12-29    383.440002\n",
       "2022-12-30    382.429993\n",
       "Name: Close, Length: 2518, dtype: float64"
      ]
     },
     "execution_count": 127,
     "metadata": {},
     "output_type": "execute_result"
    }
   ],
   "source": [
    "close"
   ]
  },
  {
   "cell_type": "code",
   "execution_count": 131,
   "metadata": {},
   "outputs": [
    {
     "ename": "AttributeError",
     "evalue": "'numpy.float64' object has no attribute 'plot'",
     "output_type": "error",
     "traceback": [
      "\u001b[0;31m---------------------------------------------------------------------------\u001b[0m",
      "\u001b[0;31mAttributeError\u001b[0m                            Traceback (most recent call last)",
      "Cell \u001b[0;32mIn[131], line 1\u001b[0m\n\u001b[0;32m----> 1\u001b[0m close\u001b[39m.\u001b[39;49mpct_change()\u001b[39m.\u001b[39;49mmean()\u001b[39m.\u001b[39;49mplot(kind\u001b[39m=\u001b[39m\u001b[39m'\u001b[39m\u001b[39mbar\u001b[39m\u001b[39m'\u001b[39m, figsize\u001b[39m=\u001b[39m(\u001b[39m10\u001b[39m, \u001b[39m6\u001b[39m));\n",
      "\u001b[0;31mAttributeError\u001b[0m: 'numpy.float64' object has no attribute 'plot'"
     ]
    }
   ],
   "source": [
    "\n",
    "close.pct_change().mean().plot(kind='bar', figsize=(10, 6));"
   ]
  },
  {
   "cell_type": "code",
   "execution_count": null,
   "metadata": {},
   "outputs": [],
   "source": []
  }
 ],
 "metadata": {
  "kernelspec": {
   "display_name": "Python 3",
   "language": "python",
   "name": "python3"
  },
  "language_info": {
   "codemirror_mode": {
    "name": "ipython",
    "version": 3
   },
   "file_extension": ".py",
   "mimetype": "text/x-python",
   "name": "python",
   "nbconvert_exporter": "python",
   "pygments_lexer": "ipython3",
   "version": "3.10.10"
  },
  "orig_nbformat": 4
 },
 "nbformat": 4,
 "nbformat_minor": 2
}
