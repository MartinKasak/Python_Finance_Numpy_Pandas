{
 "cells": [
  {
   "cell_type": "markdown",
   "metadata": {},
   "source": [
    "### Backtesting.py kasutamine ja erinevad harjutused\n",
    "#### https://kernc.github.io/backtesting.py/  "
   ]
  },
  {
   "cell_type": "code",
   "execution_count": 45,
   "metadata": {
    "metadata": {}
   },
   "outputs": [
    {
     "name": "stdout",
     "output_type": "stream",
     "text": [
      "Requirement already satisfied: backtesting in /home/liisa/miniconda3/lib/python3.10/site-packages (0.3.3)\n",
      "Requirement already satisfied: pandas!=0.25.0,>=0.25.0 in /home/liisa/miniconda3/lib/python3.10/site-packages (from backtesting) (2.0.3)\n",
      "Requirement already satisfied: bokeh>=1.4.0 in /home/liisa/miniconda3/lib/python3.10/site-packages (from backtesting) (3.2.0)\n",
      "Requirement already satisfied: numpy>=1.17.0 in /home/liisa/miniconda3/lib/python3.10/site-packages (from backtesting) (1.22.1)\n",
      "Requirement already satisfied: xyzservices>=2021.09.1 in /home/liisa/miniconda3/lib/python3.10/site-packages (from bokeh>=1.4.0->backtesting) (2023.5.0)\n",
      "Requirement already satisfied: tornado>=5.1 in /home/liisa/miniconda3/lib/python3.10/site-packages (from bokeh>=1.4.0->backtesting) (6.3.2)\n",
      "Requirement already satisfied: pillow>=7.1.0 in /home/liisa/miniconda3/lib/python3.10/site-packages (from bokeh>=1.4.0->backtesting) (10.0.0)\n",
      "Requirement already satisfied: PyYAML>=3.10 in /home/liisa/miniconda3/lib/python3.10/site-packages (from bokeh>=1.4.0->backtesting) (6.0)\n",
      "Requirement already satisfied: Jinja2>=2.9 in /home/liisa/miniconda3/lib/python3.10/site-packages (from bokeh>=1.4.0->backtesting) (3.1.2)\n",
      "Requirement already satisfied: contourpy>=1 in /home/liisa/miniconda3/lib/python3.10/site-packages (from bokeh>=1.4.0->backtesting) (1.1.0)\n",
      "Requirement already satisfied: packaging>=16.8 in /home/liisa/miniconda3/lib/python3.10/site-packages (from bokeh>=1.4.0->backtesting) (23.0)\n",
      "Requirement already satisfied: tzdata>=2022.1 in /home/liisa/miniconda3/lib/python3.10/site-packages (from pandas!=0.25.0,>=0.25.0->backtesting) (2023.3)\n",
      "Requirement already satisfied: python-dateutil>=2.8.2 in /home/liisa/miniconda3/lib/python3.10/site-packages (from pandas!=0.25.0,>=0.25.0->backtesting) (2.8.2)\n",
      "Requirement already satisfied: pytz>=2020.1 in /home/liisa/miniconda3/lib/python3.10/site-packages (from pandas!=0.25.0,>=0.25.0->backtesting) (2023.3)\n",
      "Requirement already satisfied: MarkupSafe>=2.0 in /home/liisa/miniconda3/lib/python3.10/site-packages (from Jinja2>=2.9->bokeh>=1.4.0->backtesting) (2.1.3)\n",
      "Requirement already satisfied: six>=1.5 in /home/liisa/miniconda3/lib/python3.10/site-packages (from python-dateutil>=2.8.2->pandas!=0.25.0,>=0.25.0->backtesting) (1.16.0)\n",
      "Note: you may need to restart the kernel to use updated packages.\n"
     ]
    }
   ],
   "source": [
    "pip install backtesting"
   ]
  },
  {
   "cell_type": "code",
   "execution_count": 46,
   "metadata": {
    "metadata": {}
   },
   "outputs": [
    {
     "name": "stdout",
     "output_type": "stream",
     "text": [
      "Requirement already satisfied: matplotlib in /home/liisa/miniconda3/lib/python3.10/site-packages (3.7.1)\n",
      "Requirement already satisfied: python-dateutil>=2.7 in /home/liisa/miniconda3/lib/python3.10/site-packages (from matplotlib) (2.8.2)\n",
      "Requirement already satisfied: contourpy>=1.0.1 in /home/liisa/miniconda3/lib/python3.10/site-packages (from matplotlib) (1.1.0)\n",
      "Requirement already satisfied: pyparsing>=2.3.1 in /home/liisa/miniconda3/lib/python3.10/site-packages (from matplotlib) (3.1.0)\n",
      "Requirement already satisfied: cycler>=0.10 in /home/liisa/miniconda3/lib/python3.10/site-packages (from matplotlib) (0.11.0)\n",
      "Requirement already satisfied: pillow>=6.2.0 in /home/liisa/miniconda3/lib/python3.10/site-packages (from matplotlib) (10.0.0)\n",
      "Requirement already satisfied: fonttools>=4.22.0 in /home/liisa/miniconda3/lib/python3.10/site-packages (from matplotlib) (4.40.0)\n",
      "Requirement already satisfied: numpy>=1.20 in /home/liisa/miniconda3/lib/python3.10/site-packages (from matplotlib) (1.22.1)\n",
      "Requirement already satisfied: kiwisolver>=1.0.1 in /home/liisa/miniconda3/lib/python3.10/site-packages (from matplotlib) (1.4.4)\n",
      "Requirement already satisfied: packaging>=20.0 in /home/liisa/miniconda3/lib/python3.10/site-packages (from matplotlib) (23.0)\n",
      "Requirement already satisfied: six>=1.5 in /home/liisa/miniconda3/lib/python3.10/site-packages (from python-dateutil>=2.7->matplotlib) (1.16.0)\n",
      "Note: you may need to restart the kernel to use updated packages.\n"
     ]
    }
   ],
   "source": [
    "pip install matplotlib"
   ]
  },
  {
   "cell_type": "code",
   "execution_count": 47,
   "metadata": {},
   "outputs": [],
   "source": [
    "#to import talib\n",
    "from backtesting import Backtest, Strategy\n",
    "#from backtesting.test import GOOG\n",
    "import yfinance as yf\n",
    "import pandas as pd\n",
    "from backtesting.lib import crossover, plot_heatmaps, resample_apply, barssince\n",
    "import talib\n",
    "import seaborn as sns"
   ]
  },
  {
   "cell_type": "code",
   "execution_count": 48,
   "metadata": {},
   "outputs": [
    {
     "name": "stdout",
     "output_type": "stream",
     "text": [
      "[*********************100%***********************]  1 of 1 completed\n"
     ]
    }
   ],
   "source": [
    "#import symbol\n",
    "symbols = [\"KO\"] \n",
    "df_multiple_symbols = yf.download(symbols, start=\"2009-01-01\", end=\"2024-01-01\")"
   ]
  },
  {
   "cell_type": "code",
   "execution_count": 49,
   "metadata": {},
   "outputs": [
    {
     "data": {
      "text/html": [
       "<div>\n",
       "<style scoped>\n",
       "    .dataframe tbody tr th:only-of-type {\n",
       "        vertical-align: middle;\n",
       "    }\n",
       "\n",
       "    .dataframe tbody tr th {\n",
       "        vertical-align: top;\n",
       "    }\n",
       "\n",
       "    .dataframe thead th {\n",
       "        text-align: right;\n",
       "    }\n",
       "</style>\n",
       "<table border=\"1\" class=\"dataframe\">\n",
       "  <thead>\n",
       "    <tr style=\"text-align: right;\">\n",
       "      <th></th>\n",
       "      <th>Open</th>\n",
       "      <th>High</th>\n",
       "      <th>Low</th>\n",
       "      <th>Close</th>\n",
       "      <th>Adj Close</th>\n",
       "      <th>Volume</th>\n",
       "    </tr>\n",
       "    <tr>\n",
       "      <th>Date</th>\n",
       "      <th></th>\n",
       "      <th></th>\n",
       "      <th></th>\n",
       "      <th></th>\n",
       "      <th></th>\n",
       "      <th></th>\n",
       "    </tr>\n",
       "  </thead>\n",
       "  <tbody>\n",
       "    <tr>\n",
       "      <th>2009-01-02</th>\n",
       "      <td>22.700001</td>\n",
       "      <td>23.000000</td>\n",
       "      <td>22.520000</td>\n",
       "      <td>22.950001</td>\n",
       "      <td>14.269992</td>\n",
       "      <td>16355800</td>\n",
       "    </tr>\n",
       "    <tr>\n",
       "      <th>2009-01-05</th>\n",
       "      <td>22.785000</td>\n",
       "      <td>22.945000</td>\n",
       "      <td>22.590000</td>\n",
       "      <td>22.719999</td>\n",
       "      <td>14.126978</td>\n",
       "      <td>20237200</td>\n",
       "    </tr>\n",
       "    <tr>\n",
       "      <th>2009-01-06</th>\n",
       "      <td>22.850000</td>\n",
       "      <td>22.985001</td>\n",
       "      <td>22.230000</td>\n",
       "      <td>22.355000</td>\n",
       "      <td>13.900030</td>\n",
       "      <td>21307800</td>\n",
       "    </tr>\n",
       "    <tr>\n",
       "      <th>2009-01-07</th>\n",
       "      <td>22.110001</td>\n",
       "      <td>22.590000</td>\n",
       "      <td>22.110001</td>\n",
       "      <td>22.465000</td>\n",
       "      <td>13.968426</td>\n",
       "      <td>21581000</td>\n",
       "    </tr>\n",
       "    <tr>\n",
       "      <th>2009-01-08</th>\n",
       "      <td>22.420000</td>\n",
       "      <td>22.639999</td>\n",
       "      <td>22.280001</td>\n",
       "      <td>22.620001</td>\n",
       "      <td>14.064808</td>\n",
       "      <td>20087000</td>\n",
       "    </tr>\n",
       "    <tr>\n",
       "      <th>...</th>\n",
       "      <td>...</td>\n",
       "      <td>...</td>\n",
       "      <td>...</td>\n",
       "      <td>...</td>\n",
       "      <td>...</td>\n",
       "      <td>...</td>\n",
       "    </tr>\n",
       "    <tr>\n",
       "      <th>2023-12-22</th>\n",
       "      <td>58.119999</td>\n",
       "      <td>58.459999</td>\n",
       "      <td>58.020000</td>\n",
       "      <td>58.320000</td>\n",
       "      <td>57.857216</td>\n",
       "      <td>9028500</td>\n",
       "    </tr>\n",
       "    <tr>\n",
       "      <th>2023-12-26</th>\n",
       "      <td>58.060001</td>\n",
       "      <td>58.709999</td>\n",
       "      <td>58.060001</td>\n",
       "      <td>58.560001</td>\n",
       "      <td>58.095314</td>\n",
       "      <td>6422500</td>\n",
       "    </tr>\n",
       "    <tr>\n",
       "      <th>2023-12-27</th>\n",
       "      <td>58.639999</td>\n",
       "      <td>58.770000</td>\n",
       "      <td>58.400002</td>\n",
       "      <td>58.709999</td>\n",
       "      <td>58.244122</td>\n",
       "      <td>8560100</td>\n",
       "    </tr>\n",
       "    <tr>\n",
       "      <th>2023-12-28</th>\n",
       "      <td>58.650002</td>\n",
       "      <td>58.869999</td>\n",
       "      <td>58.529999</td>\n",
       "      <td>58.750000</td>\n",
       "      <td>58.283806</td>\n",
       "      <td>8400100</td>\n",
       "    </tr>\n",
       "    <tr>\n",
       "      <th>2023-12-29</th>\n",
       "      <td>58.740002</td>\n",
       "      <td>58.980000</td>\n",
       "      <td>58.630001</td>\n",
       "      <td>58.930000</td>\n",
       "      <td>58.462376</td>\n",
       "      <td>9241600</td>\n",
       "    </tr>\n",
       "  </tbody>\n",
       "</table>\n",
       "<p>3774 rows × 6 columns</p>\n",
       "</div>"
      ],
      "text/plain": [
       "                 Open       High        Low      Close  Adj Close    Volume\n",
       "Date                                                                       \n",
       "2009-01-02  22.700001  23.000000  22.520000  22.950001  14.269992  16355800\n",
       "2009-01-05  22.785000  22.945000  22.590000  22.719999  14.126978  20237200\n",
       "2009-01-06  22.850000  22.985001  22.230000  22.355000  13.900030  21307800\n",
       "2009-01-07  22.110001  22.590000  22.110001  22.465000  13.968426  21581000\n",
       "2009-01-08  22.420000  22.639999  22.280001  22.620001  14.064808  20087000\n",
       "...               ...        ...        ...        ...        ...       ...\n",
       "2023-12-22  58.119999  58.459999  58.020000  58.320000  57.857216   9028500\n",
       "2023-12-26  58.060001  58.709999  58.060001  58.560001  58.095314   6422500\n",
       "2023-12-27  58.639999  58.770000  58.400002  58.709999  58.244122   8560100\n",
       "2023-12-28  58.650002  58.869999  58.529999  58.750000  58.283806   8400100\n",
       "2023-12-29  58.740002  58.980000  58.630001  58.930000  58.462376   9241600\n",
       "\n",
       "[3774 rows x 6 columns]"
      ]
     },
     "execution_count": 49,
     "metadata": {},
     "output_type": "execute_result"
    }
   ],
   "source": [
    "df_multiple_symbols"
   ]
  },
  {
   "cell_type": "code",
   "execution_count": 50,
   "metadata": {},
   "outputs": [
    {
     "data": {
      "application/vnd.jupyter.widget-view+json": {
       "model_id": "c805dbe9db5644ddae15b52abf23e85b",
       "version_major": 2,
       "version_minor": 0
      },
      "text/plain": [
       "Backtest.optimize:   0%|          | 0/2 [00:00<?, ?it/s]"
      ]
     },
     "metadata": {},
     "output_type": "display_data"
    },
    {
     "name": "stdout",
     "output_type": "stream",
     "text": [
      "upper_bound  lower_bound  rsi_window\n",
      "50           5            2             0.368501\n",
      "             10           2             0.038861\n",
      "             15           2             0.240463\n",
      "             20           2             0.255956\n",
      "             25           2             0.411504\n",
      "                                          ...   \n",
      "85           25           2             0.520502\n",
      "             30           2             0.622391\n",
      "             35           2             0.587486\n",
      "             40           2             0.555102\n",
      "             45           2             0.543104\n",
      "Name: Sharpe Ratio, Length: 72, dtype: float64\n",
      "Start                     2009-01-02 00:00:00\n",
      "End                       2023-12-29 00:00:00\n",
      "Duration                   5474 days 00:00:00\n",
      "Exposure Time [%]                   20.826709\n",
      "Equity Final [$]                 24670.561176\n",
      "Equity Peak [$]                  29092.410355\n",
      "Return [%]                         146.705612\n",
      "Buy & Hold Return [%]              156.775592\n",
      "Return (Ann.) [%]                     6.21524\n",
      "Volatility (Ann.) [%]                 9.28513\n",
      "Sharpe Ratio                         0.669376\n",
      "Sortino Ratio                        1.094846\n",
      "Calmar Ratio                         0.347289\n",
      "Max. Drawdown [%]                  -17.896448\n",
      "Avg. Drawdown [%]                   -2.310341\n",
      "Max. Drawdown Duration      521 days 00:00:00\n",
      "Avg. Drawdown Duration       67 days 00:00:00\n",
      "# Trades                                   96\n",
      "Win Rate [%]                        76.041667\n",
      "Best Trade [%]                      12.641903\n",
      "Worst Trade [%]                     -8.691986\n",
      "Avg. Trade [%]                       1.030409\n",
      "Max. Trade Duration          43 days 00:00:00\n",
      "Avg. Trade Duration          11 days 00:00:00\n",
      "Profit Factor                        3.288171\n",
      "Expectancy [%]                          1.063\n",
      "SQN                                   2.69803\n",
      "_strategy                 RsiOscillator(up...\n",
      "_equity_curve                             ...\n",
      "_trades                       Size  EntryB...\n",
      "dtype: object\n"
     ]
    },
    {
     "name": "stderr",
     "output_type": "stream",
     "text": [
      "BokehDeprecationWarning: Passing lists of formats for DatetimeTickFormatter scales was deprecated in Bokeh 3.0. Configure a single string format for each scale\n",
      "/home/liisa/miniconda3/lib/python3.10/site-packages/backtesting/_plotting.py:250: UserWarning: DatetimeFormatter scales now only accept a single format. Using the first provided: '%d %b'\n",
      "  formatter=DatetimeTickFormatter(days=['%d %b', '%a %d'],\n",
      "BokehDeprecationWarning: Passing lists of formats for DatetimeTickFormatter scales was deprecated in Bokeh 3.0. Configure a single string format for each scale\n",
      "/home/liisa/miniconda3/lib/python3.10/site-packages/backtesting/_plotting.py:250: UserWarning: DatetimeFormatter scales now only accept a single format. Using the first provided: '%m/%Y'\n",
      "  formatter=DatetimeTickFormatter(days=['%d %b', '%a %d'],\n"
     ]
    },
    {
     "data": {
      "text/html": [
       "<div style=\"display: table;\"><div style=\"display: table-row;\"><div style=\"display: table-cell;\"><b title=\"bokeh.models.plots.GridPlot\">GridPlot</b>(</div><div style=\"display: table-cell;\">id&nbsp;=&nbsp;'p7015', <span id=\"p7046\" style=\"cursor: pointer;\">&hellip;)</span></div></div><div class=\"p7045\" style=\"display: none;\"><div style=\"display: table-cell;\"></div><div style=\"display: table-cell;\">align&nbsp;=&nbsp;'auto',</div></div><div class=\"p7045\" style=\"display: none;\"><div style=\"display: table-cell;\"></div><div style=\"display: table-cell;\">aspect_ratio&nbsp;=&nbsp;None,</div></div><div class=\"p7045\" style=\"display: none;\"><div style=\"display: table-cell;\"></div><div style=\"display: table-cell;\">children&nbsp;=&nbsp;[(figure(id='p6726', ...), 0, 0), (figure(id='p6819', ...), 1, 0), (figure(id='p6686', ...), 2, 0), (figure(id='p6870', ...), 3, 0), (figure(id='p6961', ...), 4, 0)],</div></div><div class=\"p7045\" style=\"display: none;\"><div style=\"display: table-cell;\"></div><div style=\"display: table-cell;\">cols&nbsp;=&nbsp;None,</div></div><div class=\"p7045\" style=\"display: none;\"><div style=\"display: table-cell;\"></div><div style=\"display: table-cell;\">context_menu&nbsp;=&nbsp;None,</div></div><div class=\"p7045\" style=\"display: none;\"><div style=\"display: table-cell;\"></div><div style=\"display: table-cell;\">css_classes&nbsp;=&nbsp;[],</div></div><div class=\"p7045\" style=\"display: none;\"><div style=\"display: table-cell;\"></div><div style=\"display: table-cell;\">disabled&nbsp;=&nbsp;False,</div></div><div class=\"p7045\" style=\"display: none;\"><div style=\"display: table-cell;\"></div><div style=\"display: table-cell;\">flow_mode&nbsp;=&nbsp;'block',</div></div><div class=\"p7045\" style=\"display: none;\"><div style=\"display: table-cell;\"></div><div style=\"display: table-cell;\">height&nbsp;=&nbsp;None,</div></div><div class=\"p7045\" style=\"display: none;\"><div style=\"display: table-cell;\"></div><div style=\"display: table-cell;\">height_policy&nbsp;=&nbsp;'auto',</div></div><div class=\"p7045\" style=\"display: none;\"><div style=\"display: table-cell;\"></div><div style=\"display: table-cell;\">js_event_callbacks&nbsp;=&nbsp;{},</div></div><div class=\"p7045\" style=\"display: none;\"><div style=\"display: table-cell;\"></div><div style=\"display: table-cell;\">js_property_callbacks&nbsp;=&nbsp;{},</div></div><div class=\"p7045\" style=\"display: none;\"><div style=\"display: table-cell;\"></div><div style=\"display: table-cell;\">margin&nbsp;=&nbsp;None,</div></div><div class=\"p7045\" style=\"display: none;\"><div style=\"display: table-cell;\"></div><div style=\"display: table-cell;\">max_height&nbsp;=&nbsp;None,</div></div><div class=\"p7045\" style=\"display: none;\"><div style=\"display: table-cell;\"></div><div style=\"display: table-cell;\">max_width&nbsp;=&nbsp;None,</div></div><div class=\"p7045\" style=\"display: none;\"><div style=\"display: table-cell;\"></div><div style=\"display: table-cell;\">min_height&nbsp;=&nbsp;None,</div></div><div class=\"p7045\" style=\"display: none;\"><div style=\"display: table-cell;\"></div><div style=\"display: table-cell;\">min_width&nbsp;=&nbsp;None,</div></div><div class=\"p7045\" style=\"display: none;\"><div style=\"display: table-cell;\"></div><div style=\"display: table-cell;\">name&nbsp;=&nbsp;None,</div></div><div class=\"p7045\" style=\"display: none;\"><div style=\"display: table-cell;\"></div><div style=\"display: table-cell;\">resizable&nbsp;=&nbsp;False,</div></div><div class=\"p7045\" style=\"display: none;\"><div style=\"display: table-cell;\"></div><div style=\"display: table-cell;\">rows&nbsp;=&nbsp;None,</div></div><div class=\"p7045\" style=\"display: none;\"><div style=\"display: table-cell;\"></div><div style=\"display: table-cell;\">sizing_mode&nbsp;=&nbsp;'stretch_width',</div></div><div class=\"p7045\" style=\"display: none;\"><div style=\"display: table-cell;\"></div><div style=\"display: table-cell;\">spacing&nbsp;=&nbsp;0,</div></div><div class=\"p7045\" style=\"display: none;\"><div style=\"display: table-cell;\"></div><div style=\"display: table-cell;\">styles&nbsp;=&nbsp;{},</div></div><div class=\"p7045\" style=\"display: none;\"><div style=\"display: table-cell;\"></div><div style=\"display: table-cell;\">stylesheets&nbsp;=&nbsp;[],</div></div><div class=\"p7045\" style=\"display: none;\"><div style=\"display: table-cell;\"></div><div style=\"display: table-cell;\">subscribed_events&nbsp;=&nbsp;PropertyValueSet(),</div></div><div class=\"p7045\" style=\"display: none;\"><div style=\"display: table-cell;\"></div><div style=\"display: table-cell;\">syncable&nbsp;=&nbsp;True,</div></div><div class=\"p7045\" style=\"display: none;\"><div style=\"display: table-cell;\"></div><div style=\"display: table-cell;\">tags&nbsp;=&nbsp;[],</div></div><div class=\"p7045\" style=\"display: none;\"><div style=\"display: table-cell;\"></div><div style=\"display: table-cell;\">toolbar&nbsp;=&nbsp;Toolbar(id='p7014', ...),</div></div><div class=\"p7045\" style=\"display: none;\"><div style=\"display: table-cell;\"></div><div style=\"display: table-cell;\">toolbar_location&nbsp;=&nbsp;'right',</div></div><div class=\"p7045\" style=\"display: none;\"><div style=\"display: table-cell;\"></div><div style=\"display: table-cell;\">visible&nbsp;=&nbsp;True,</div></div><div class=\"p7045\" style=\"display: none;\"><div style=\"display: table-cell;\"></div><div style=\"display: table-cell;\">width&nbsp;=&nbsp;None,</div></div><div class=\"p7045\" style=\"display: none;\"><div style=\"display: table-cell;\"></div><div style=\"display: table-cell;\">width_policy&nbsp;=&nbsp;'auto')</div></div></div>\n",
       "<script>\n",
       "(function() {\n",
       "  let expanded = false;\n",
       "  const ellipsis = document.getElementById(\"p7046\");\n",
       "  ellipsis.addEventListener(\"click\", function() {\n",
       "    const rows = document.getElementsByClassName(\"p7045\");\n",
       "    for (let i = 0; i < rows.length; i++) {\n",
       "      const el = rows[i];\n",
       "      el.style.display = expanded ? \"none\" : \"table-row\";\n",
       "    }\n",
       "    ellipsis.innerHTML = expanded ? \"&hellip;)\" : \"&lsaquo;&lsaquo;&lsaquo;\";\n",
       "    expanded = !expanded;\n",
       "  });\n",
       "})();\n",
       "</script>\n"
      ],
      "text/plain": [
       "GridPlot(id='p7015', ...)"
      ]
     },
     "execution_count": 50,
     "metadata": {},
     "output_type": "execute_result"
    },
    {
     "data": {
      "image/png": "[encoded data removed]",
      "text/plain": [
       "<Figure size 640x480 with 2 Axes>"
      ]
     },
     "metadata": {},
     "output_type": "display_data"
    }
   ],
   "source": [
    "def optim_func(series):\n",
    "\n",
    "#   filters out precondition \n",
    "    if series['Win Rate [%]'] < 75:\n",
    "        return -1\n",
    "\n",
    "    return series ['# Trades'] * series ['Return (Ann.) [%]'] \n",
    "\n",
    "class RsiOscillator(Strategy):\n",
    "    \n",
    "    upper_bound=80\n",
    "    lower_bound=20\n",
    "    rsi_window = 14\n",
    "#    ema_window = 233\n",
    "    \n",
    "    #Rsi input from talib\n",
    "    def init (self):\n",
    "        self.rsi = self.I(talib.RSI, self.data.Close, self.rsi_window)\n",
    "#        self.ema = self.I(talib.EMA, self.data.Close, self.ema_window)\n",
    "\n",
    "    def next(self):\n",
    "        if crossover(self.rsi, self.upper_bound):\n",
    "            self.position.close()\n",
    "        elif crossover(self.lower_bound, self.rsi): #and self.data.Close > self.ema:\n",
    "            self.buy()\n",
    "\n",
    "bt = Backtest(df_multiple_symbols, RsiOscillator, cash=10000)\n",
    "\n",
    "#stats = bt.run()\n",
    "stats, heatmap = bt.optimize(\n",
    "    upper_bound = range(50, 90, 5),\n",
    "    lower_bound = range(5, 50, 5),\n",
    "    rsi_window = 2,\n",
    "    #maximize towards\n",
    "    maximize = \"Sharpe Ratio\",\n",
    "    constraint = lambda param: param.upper_bound > param.lower_bound,\n",
    "    return_heatmap = True\n",
    "    #max_tries = 100\n",
    "    )\n",
    "\n",
    "#lower_bound = stats[\"_strategy\"].lower_bound\n",
    "print(heatmap)\n",
    "hm = heatmap.groupby([\"upper_bound\", \"lower_bound\"]).mean().unstack()\n",
    "#print(hm)\n",
    "print(stats)\n",
    "sns.heatmap(hm, cmap=\"plasma\")\n",
    "lower_bound = stats[\"_strategy\"].lower_bound\n",
    "upper_bound = stats[\"_strategy\"].upper_bound\n",
    "rsi_window = stats[\"_strategy\"].rsi_window\n",
    "bt.plot()"
   ]
  },
  {
   "cell_type": "code",
   "execution_count": 51,
   "metadata": {},
   "outputs": [
    {
     "data": {
      "application/vnd.jupyter.widget-view+json": {
       "model_id": "d63295992ffe40208ae93d7983028633",
       "version_major": 2,
       "version_minor": 0
      },
      "text/plain": [
       "Backtest.optimize:   0%|          | 0/2 [00:00<?, ?it/s]"
      ]
     },
     "metadata": {},
     "output_type": "display_data"
    },
    {
     "name": "stdout",
     "output_type": "stream",
     "text": [
      "upper_bound  lower_bound  rsi_window\n",
      "50           5            2            -1.0\n",
      "                          3            -1.0\n",
      "             10           2            -1.0\n",
      "                          3            -1.0\n",
      "             15           2            -1.0\n",
      "                                       ... \n",
      "85           35           3            -1.0\n",
      "             40           2            -1.0\n",
      "                          3            -1.0\n",
      "             45           2            -1.0\n",
      "                          3            -1.0\n",
      "Length: 144, dtype: float64\n",
      "Start                     2009-01-02 00:00:00\n",
      "End                       2023-12-29 00:00:00\n",
      "Duration                   5474 days 00:00:00\n",
      "Exposure Time [%]                    6.279809\n",
      "Equity Final [$]                 12674.018808\n",
      "Equity Peak [$]                  13314.809008\n",
      "Return [%]                          26.740188\n",
      "Buy & Hold Return [%]              156.775592\n",
      "Return (Ann.) [%]                     1.59489\n",
      "Volatility (Ann.) [%]                4.578741\n",
      "Sharpe Ratio                         0.348325\n",
      "Sortino Ratio                        0.557303\n",
      "Calmar Ratio                         0.142978\n",
      "Max. Drawdown [%]                  -11.154794\n",
      "Avg. Drawdown [%]                   -1.909355\n",
      "Max. Drawdown Duration     2352 days 00:00:00\n",
      "Avg. Drawdown Duration      205 days 00:00:00\n",
      "# Trades                                   58\n",
      "Win Rate [%]                        62.068966\n",
      "Best Trade [%]                       5.443055\n",
      "Worst Trade [%]                     -4.427265\n",
      "Avg. Trade [%]                       0.410119\n",
      "Max. Trade Duration          14 days 00:00:00\n",
      "Avg. Trade Duration           5 days 00:00:00\n",
      "Profit Factor                        1.969911\n",
      "Expectancy [%]                       0.427073\n",
      "SQN                                  1.575396\n",
      "_strategy                 RsiOscillator(up...\n",
      "_equity_curve                             ...\n",
      "_trades                       Size  EntryB...\n",
      "dtype: object\n",
      "RsiOscillator(upper_bound=50,lower_bound=5,rsi_window=2)\n"
     ]
    }
   ],
   "source": [
    "#Using Rsi 2-3 testing with Exponential Moving Average of 233 as the long filter\n",
    "def optim_func(series):\n",
    "\n",
    "#   filters out precondition winrate vähem kui 70%,max drawdown väiksem kui -30 ja trades vähem kui 150\n",
    "    if series[\"Win Rate [%]\"] < 70 or series['Max. Drawdown [%]'] < -30 or series [\"# Trades\"] < 150:\n",
    "        return -1\n",
    "    return series [\"Win Rate [%]\"] * series [\"Return (Ann.) [%]\"] \n",
    "class RsiOscillator(Strategy):\n",
    "    \n",
    "    upper_bound=80\n",
    "    lower_bound=20\n",
    "    rsi_window = 14\n",
    "    ema_window = 233\n",
    "\n",
    "    def init (self):\n",
    "        self.rsi = self.I(talib.RSI, self.data.Close, self.rsi_window)\n",
    "        self.ema = self.I(talib.EMA, self.data.Close, self.ema_window)\n",
    "\n",
    "    def next(self):\n",
    "        if crossover(self.rsi, self.upper_bound):\n",
    "            self.position.close()\n",
    "        elif crossover(self.lower_bound, self.rsi) and self.data.Close > self.ema:\n",
    "            self.buy()\n",
    "\n",
    "bt = Backtest(df_multiple_symbols, RsiOscillator, cash=10000)\n",
    "\n",
    "#stats = bt.run()\n",
    "#add heatmap next to stats if you want it\n",
    "stats, heatmap = bt.optimize(\n",
    "    upper_bound = range(50, 90, 5),\n",
    "    lower_bound = range(5, 50, 5),\n",
    "    rsi_window = range(2, 4, 1),\n",
    "    maximize = optim_func,\n",
    "    constraint = lambda param: param.upper_bound > param.lower_bound,\n",
    "    return_heatmap = True\n",
    "    #max_tries = 100\n",
    "    )\n",
    "\n",
    "#lower_bound = stats[\"_strategy\"].lower_bound\n",
    "#print(heatmap)\n",
    "#plot_heatmaps(heatmap, agg=\"mean\")\n",
    "\n",
    "print(stats)\n",
    "lower_bound = stats[\"_strategy\"].lower_bound\n",
    "upper_bound = stats[\"_strategy\"].upper_bound\n",
    "rsi_window = stats[\"_strategy\"].rsi_window\n",
    "print(stats[\"_strategy\"])"
   ]
  },
  {
   "cell_type": "code",
   "execution_count": 52,
   "metadata": {},
   "outputs": [
    {
     "name": "stderr",
     "output_type": "stream",
     "text": [
      "BokehDeprecationWarning: Passing lists of formats for DatetimeTickFormatter scales was deprecated in Bokeh 3.0. Configure a single string format for each scale\n",
      "/home/liisa/miniconda3/lib/python3.10/site-packages/backtesting/_plotting.py:250: UserWarning: DatetimeFormatter scales now only accept a single format. Using the first provided: '%d %b'\n",
      "  formatter=DatetimeTickFormatter(days=['%d %b', '%a %d'],\n",
      "BokehDeprecationWarning: Passing lists of formats for DatetimeTickFormatter scales was deprecated in Bokeh 3.0. Configure a single string format for each scale\n",
      "/home/liisa/miniconda3/lib/python3.10/site-packages/backtesting/_plotting.py:250: UserWarning: DatetimeFormatter scales now only accept a single format. Using the first provided: '%m/%Y'\n",
      "  formatter=DatetimeTickFormatter(days=['%d %b', '%a %d'],\n"
     ]
    },
    {
     "data": {
      "text/html": [
       "<div style=\"display: table;\"><div style=\"display: table-row;\"><div style=\"display: table-cell;\"><b title=\"bokeh.models.plots.GridPlot\">GridPlot</b>(</div><div style=\"display: table-cell;\">id&nbsp;=&nbsp;'p7521', <span id=\"p7553\" style=\"cursor: pointer;\">&hellip;)</span></div></div><div class=\"p7552\" style=\"display: none;\"><div style=\"display: table-cell;\"></div><div style=\"display: table-cell;\">align&nbsp;=&nbsp;'auto',</div></div><div class=\"p7552\" style=\"display: none;\"><div style=\"display: table-cell;\"></div><div style=\"display: table-cell;\">aspect_ratio&nbsp;=&nbsp;None,</div></div><div class=\"p7552\" style=\"display: none;\"><div style=\"display: table-cell;\"></div><div style=\"display: table-cell;\">children&nbsp;=&nbsp;[(figure(id='p7222', ...), 0, 0), (figure(id='p7315', ...), 1, 0), (figure(id='p7182', ...), 2, 0), (figure(id='p7366', ...), 3, 0), (figure(id='p7457', ...), 4, 0)],</div></div><div class=\"p7552\" style=\"display: none;\"><div style=\"display: table-cell;\"></div><div style=\"display: table-cell;\">cols&nbsp;=&nbsp;None,</div></div><div class=\"p7552\" style=\"display: none;\"><div style=\"display: table-cell;\"></div><div style=\"display: table-cell;\">context_menu&nbsp;=&nbsp;None,</div></div><div class=\"p7552\" style=\"display: none;\"><div style=\"display: table-cell;\"></div><div style=\"display: table-cell;\">css_classes&nbsp;=&nbsp;[],</div></div><div class=\"p7552\" style=\"display: none;\"><div style=\"display: table-cell;\"></div><div style=\"display: table-cell;\">disabled&nbsp;=&nbsp;False,</div></div><div class=\"p7552\" style=\"display: none;\"><div style=\"display: table-cell;\"></div><div style=\"display: table-cell;\">flow_mode&nbsp;=&nbsp;'block',</div></div><div class=\"p7552\" style=\"display: none;\"><div style=\"display: table-cell;\"></div><div style=\"display: table-cell;\">height&nbsp;=&nbsp;None,</div></div><div class=\"p7552\" style=\"display: none;\"><div style=\"display: table-cell;\"></div><div style=\"display: table-cell;\">height_policy&nbsp;=&nbsp;'auto',</div></div><div class=\"p7552\" style=\"display: none;\"><div style=\"display: table-cell;\"></div><div style=\"display: table-cell;\">js_event_callbacks&nbsp;=&nbsp;{},</div></div><div class=\"p7552\" style=\"display: none;\"><div style=\"display: table-cell;\"></div><div style=\"display: table-cell;\">js_property_callbacks&nbsp;=&nbsp;{},</div></div><div class=\"p7552\" style=\"display: none;\"><div style=\"display: table-cell;\"></div><div style=\"display: table-cell;\">margin&nbsp;=&nbsp;None,</div></div><div class=\"p7552\" style=\"display: none;\"><div style=\"display: table-cell;\"></div><div style=\"display: table-cell;\">max_height&nbsp;=&nbsp;None,</div></div><div class=\"p7552\" style=\"display: none;\"><div style=\"display: table-cell;\"></div><div style=\"display: table-cell;\">max_width&nbsp;=&nbsp;None,</div></div><div class=\"p7552\" style=\"display: none;\"><div style=\"display: table-cell;\"></div><div style=\"display: table-cell;\">min_height&nbsp;=&nbsp;None,</div></div><div class=\"p7552\" style=\"display: none;\"><div style=\"display: table-cell;\"></div><div style=\"display: table-cell;\">min_width&nbsp;=&nbsp;None,</div></div><div class=\"p7552\" style=\"display: none;\"><div style=\"display: table-cell;\"></div><div style=\"display: table-cell;\">name&nbsp;=&nbsp;None,</div></div><div class=\"p7552\" style=\"display: none;\"><div style=\"display: table-cell;\"></div><div style=\"display: table-cell;\">resizable&nbsp;=&nbsp;False,</div></div><div class=\"p7552\" style=\"display: none;\"><div style=\"display: table-cell;\"></div><div style=\"display: table-cell;\">rows&nbsp;=&nbsp;None,</div></div><div class=\"p7552\" style=\"display: none;\"><div style=\"display: table-cell;\"></div><div style=\"display: table-cell;\">sizing_mode&nbsp;=&nbsp;'stretch_width',</div></div><div class=\"p7552\" style=\"display: none;\"><div style=\"display: table-cell;\"></div><div style=\"display: table-cell;\">spacing&nbsp;=&nbsp;0,</div></div><div class=\"p7552\" style=\"display: none;\"><div style=\"display: table-cell;\"></div><div style=\"display: table-cell;\">styles&nbsp;=&nbsp;{},</div></div><div class=\"p7552\" style=\"display: none;\"><div style=\"display: table-cell;\"></div><div style=\"display: table-cell;\">stylesheets&nbsp;=&nbsp;[],</div></div><div class=\"p7552\" style=\"display: none;\"><div style=\"display: table-cell;\"></div><div style=\"display: table-cell;\">subscribed_events&nbsp;=&nbsp;PropertyValueSet(),</div></div><div class=\"p7552\" style=\"display: none;\"><div style=\"display: table-cell;\"></div><div style=\"display: table-cell;\">syncable&nbsp;=&nbsp;True,</div></div><div class=\"p7552\" style=\"display: none;\"><div style=\"display: table-cell;\"></div><div style=\"display: table-cell;\">tags&nbsp;=&nbsp;[],</div></div><div class=\"p7552\" style=\"display: none;\"><div style=\"display: table-cell;\"></div><div style=\"display: table-cell;\">toolbar&nbsp;=&nbsp;Toolbar(id='p7520', ...),</div></div><div class=\"p7552\" style=\"display: none;\"><div style=\"display: table-cell;\"></div><div style=\"display: table-cell;\">toolbar_location&nbsp;=&nbsp;'right',</div></div><div class=\"p7552\" style=\"display: none;\"><div style=\"display: table-cell;\"></div><div style=\"display: table-cell;\">visible&nbsp;=&nbsp;True,</div></div><div class=\"p7552\" style=\"display: none;\"><div style=\"display: table-cell;\"></div><div style=\"display: table-cell;\">width&nbsp;=&nbsp;None,</div></div><div class=\"p7552\" style=\"display: none;\"><div style=\"display: table-cell;\"></div><div style=\"display: table-cell;\">width_policy&nbsp;=&nbsp;'auto')</div></div></div>\n",
       "<script>\n",
       "(function() {\n",
       "  let expanded = false;\n",
       "  const ellipsis = document.getElementById(\"p7553\");\n",
       "  ellipsis.addEventListener(\"click\", function() {\n",
       "    const rows = document.getElementsByClassName(\"p7552\");\n",
       "    for (let i = 0; i < rows.length; i++) {\n",
       "      const el = rows[i];\n",
       "      el.style.display = expanded ? \"none\" : \"table-row\";\n",
       "    }\n",
       "    ellipsis.innerHTML = expanded ? \"&hellip;)\" : \"&lsaquo;&lsaquo;&lsaquo;\";\n",
       "    expanded = !expanded;\n",
       "  });\n",
       "})();\n",
       "</script>\n"
      ],
      "text/plain": [
       "GridPlot(id='p7521', ...)"
      ]
     },
     "execution_count": 52,
     "metadata": {},
     "output_type": "execute_result"
    }
   ],
   "source": [
    "bt.plot()"
   ]
  },
  {
   "cell_type": "code",
   "execution_count": 53,
   "metadata": {},
   "outputs": [
    {
     "name": "stdout",
     "output_type": "stream",
     "text": [
      "Running backtest for AAPL\n",
      "[*********************100%***********************]  1 of 1 completed\n"
     ]
    },
    {
     "data": {
      "application/vnd.jupyter.widget-view+json": {
       "model_id": "bc8f6df66ffc48b888d0c83a739636f0",
       "version_major": 2,
       "version_minor": 0
      },
      "text/plain": [
       "Backtest.optimize:   0%|          | 0/2 [00:00<?, ?it/s]"
      ]
     },
     "metadata": {},
     "output_type": "display_data"
    },
    {
     "name": "stdout",
     "output_type": "stream",
     "text": [
      "Running backtest for MSFT\n",
      "[*********************100%***********************]  1 of 1 completed\n"
     ]
    },
    {
     "data": {
      "application/vnd.jupyter.widget-view+json": {
       "model_id": "979fba6c9255442e93a970531e5926fb",
       "version_major": 2,
       "version_minor": 0
      },
      "text/plain": [
       "Backtest.optimize:   0%|          | 0/2 [00:00<?, ?it/s]"
      ]
     },
     "metadata": {},
     "output_type": "display_data"
    },
    {
     "name": "stdout",
     "output_type": "stream",
     "text": [
      "Running backtest for KO\n",
      "[*********************100%***********************]  1 of 1 completed\n"
     ]
    },
    {
     "data": {
      "application/vnd.jupyter.widget-view+json": {
       "model_id": "7337699033ba48799b501faea9f75c43",
       "version_major": 2,
       "version_minor": 0
      },
      "text/plain": [
       "Backtest.optimize:   0%|          | 0/2 [00:00<?, ?it/s]"
      ]
     },
     "metadata": {},
     "output_type": "display_data"
    },
    {
     "name": "stdout",
     "output_type": "stream",
     "text": [
      "Running backtest for PM\n",
      "[*********************100%***********************]  1 of 1 completed\n"
     ]
    },
    {
     "data": {
      "application/vnd.jupyter.widget-view+json": {
       "model_id": "48dbc5efae444b378f10d746e6948ec0",
       "version_major": 2,
       "version_minor": 0
      },
      "text/plain": [
       "Backtest.optimize:   0%|          | 0/2 [00:00<?, ?it/s]"
      ]
     },
     "metadata": {},
     "output_type": "display_data"
    },
    {
     "name": "stdout",
     "output_type": "stream",
     "text": [
      "Running backtest for MU\n",
      "[*********************100%***********************]  1 of 1 completed\n"
     ]
    },
    {
     "data": {
      "application/vnd.jupyter.widget-view+json": {
       "model_id": "41301b8cf87844f594c1e6fc2765ee65",
       "version_major": 2,
       "version_minor": 0
      },
      "text/plain": [
       "Backtest.optimize:   0%|          | 0/2 [00:00<?, ?it/s]"
      ]
     },
     "metadata": {},
     "output_type": "display_data"
    },
    {
     "name": "stdout",
     "output_type": "stream",
     "text": [
      "Running backtest for BSX\n",
      "[*********************100%***********************]  1 of 1 completed\n"
     ]
    },
    {
     "data": {
      "application/vnd.jupyter.widget-view+json": {
       "model_id": "3f3ece1b71fe4a95a900f220be67bf1e",
       "version_major": 2,
       "version_minor": 0
      },
      "text/plain": [
       "Backtest.optimize:   0%|          | 0/2 [00:00<?, ?it/s]"
      ]
     },
     "metadata": {},
     "output_type": "display_data"
    },
    {
     "name": "stdout",
     "output_type": "stream",
     "text": [
      "Running backtest for KLAC\n",
      "[*********************100%***********************]  1 of 1 completed\n"
     ]
    },
    {
     "data": {
      "application/vnd.jupyter.widget-view+json": {
       "model_id": "3c51c9e5338647af9e7d3abd8a0c435e",
       "version_major": 2,
       "version_minor": 0
      },
      "text/plain": [
       "Backtest.optimize:   0%|          | 0/2 [00:00<?, ?it/s]"
      ]
     },
     "metadata": {},
     "output_type": "display_data"
    },
    {
     "name": "stdout",
     "output_type": "stream",
     "text": [
      "Running backtest for SO\n",
      "[*********************100%***********************]  1 of 1 completed\n"
     ]
    },
    {
     "data": {
      "application/vnd.jupyter.widget-view+json": {
       "model_id": "ba19c7e30ea94dacb0044e2312c8f441",
       "version_major": 2,
       "version_minor": 0
      },
      "text/plain": [
       "Backtest.optimize:   0%|          | 0/2 [00:00<?, ?it/s]"
      ]
     },
     "metadata": {},
     "output_type": "display_data"
    },
    {
     "name": "stdout",
     "output_type": "stream",
     "text": [
      "Running backtest for CL\n",
      "[*********************100%***********************]  1 of 1 completed\n"
     ]
    },
    {
     "data": {
      "application/vnd.jupyter.widget-view+json": {
       "model_id": "603da71c805d4496ac6381624450ba2d",
       "version_major": 2,
       "version_minor": 0
      },
      "text/plain": [
       "Backtest.optimize:   0%|          | 0/2 [00:00<?, ?it/s]"
      ]
     },
     "metadata": {},
     "output_type": "display_data"
    },
    {
     "name": "stdout",
     "output_type": "stream",
     "text": [
      "Running backtest for FCX\n",
      "[*********************100%***********************]  1 of 1 completed\n"
     ]
    },
    {
     "data": {
      "application/vnd.jupyter.widget-view+json": {
       "model_id": "ec8b0d4c37284ff0bbfbe5d00e7b62c3",
       "version_major": 2,
       "version_minor": 0
      },
      "text/plain": [
       "Backtest.optimize:   0%|          | 0/2 [00:00<?, ?it/s]"
      ]
     },
     "metadata": {},
     "output_type": "display_data"
    },
    {
     "name": "stdout",
     "output_type": "stream",
     "text": [
      "Running backtest for TGT\n",
      "[*********************100%***********************]  1 of 1 completed\n"
     ]
    },
    {
     "data": {
      "application/vnd.jupyter.widget-view+json": {
       "model_id": "e00f8d10043044678a673fcb8d318d9b",
       "version_major": 2,
       "version_minor": 0
      },
      "text/plain": [
       "Backtest.optimize:   0%|          | 0/2 [00:00<?, ?it/s]"
      ]
     },
     "metadata": {},
     "output_type": "display_data"
    },
    {
     "name": "stdout",
     "output_type": "stream",
     "text": [
      "Running backtest for SLB\n",
      "[*********************100%***********************]  1 of 1 completed\n"
     ]
    },
    {
     "data": {
      "application/vnd.jupyter.widget-view+json": {
       "model_id": "16bc23a3a75545f8ad8c4692da4553b0",
       "version_major": 2,
       "version_minor": 0
      },
      "text/plain": [
       "Backtest.optimize:   0%|          | 0/2 [00:00<?, ?it/s]"
      ]
     },
     "metadata": {},
     "output_type": "display_data"
    },
    {
     "name": "stdout",
     "output_type": "stream",
     "text": [
      "Running backtest for PYPL\n",
      "[*********************100%***********************]  1 of 1 completed\n"
     ]
    },
    {
     "data": {
      "application/vnd.jupyter.widget-view+json": {
       "model_id": "5dde062f151047d0b7c546de548a8633",
       "version_major": 2,
       "version_minor": 0
      },
      "text/plain": [
       "Backtest.optimize:   0%|          | 0/2 [00:00<?, ?it/s]"
      ]
     },
     "metadata": {},
     "output_type": "display_data"
    },
    {
     "name": "stdout",
     "output_type": "stream",
     "text": [
      "Running backtest for USB\n",
      "[*********************100%***********************]  1 of 1 completed\n"
     ]
    },
    {
     "data": {
      "application/vnd.jupyter.widget-view+json": {
       "model_id": "cc1b879b095d44768deb2440a251d354",
       "version_major": 2,
       "version_minor": 0
      },
      "text/plain": [
       "Backtest.optimize:   0%|          | 0/2 [00:00<?, ?it/s]"
      ]
     },
     "metadata": {},
     "output_type": "display_data"
    },
    {
     "name": "stdout",
     "output_type": "stream",
     "text": [
      "Running backtest for MMM\n",
      "[*********************100%***********************]  1 of 1 completed\n"
     ]
    },
    {
     "data": {
      "application/vnd.jupyter.widget-view+json": {
       "model_id": "d3ec5fbdc8384f9fac1f6d616c2da211",
       "version_major": 2,
       "version_minor": 0
      },
      "text/plain": [
       "Backtest.optimize:   0%|          | 0/2 [00:00<?, ?it/s]"
      ]
     },
     "metadata": {},
     "output_type": "display_data"
    },
    {
     "name": "stdout",
     "output_type": "stream",
     "text": [
      "Running backtest for WMB\n",
      "[*********************100%***********************]  1 of 1 completed\n"
     ]
    },
    {
     "data": {
      "application/vnd.jupyter.widget-view+json": {
       "model_id": "b5bc0212f57946d3bbb726e21ebfbc4b",
       "version_major": 2,
       "version_minor": 0
      },
      "text/plain": [
       "Backtest.optimize:   0%|          | 0/2 [00:00<?, ?it/s]"
      ]
     },
     "metadata": {},
     "output_type": "display_data"
    },
    {
     "name": "stdout",
     "output_type": "stream",
     "text": [
      "Running backtest for AEP\n",
      "[*********************100%***********************]  1 of 1 completed\n"
     ]
    },
    {
     "data": {
      "application/vnd.jupyter.widget-view+json": {
       "model_id": "f12e2042c1aa4901954cd4414d0cbfa2",
       "version_major": 2,
       "version_minor": 0
      },
      "text/plain": [
       "Backtest.optimize:   0%|          | 0/2 [00:00<?, ?it/s]"
      ]
     },
     "metadata": {},
     "output_type": "display_data"
    },
    {
     "name": "stdout",
     "output_type": "stream",
     "text": [
      "Running backtest for KR\n",
      "[*********************100%***********************]  1 of 1 completed\n"
     ]
    },
    {
     "data": {
      "application/vnd.jupyter.widget-view+json": {
       "model_id": "cb06f9b1c33a4736b9beef1d8dc1938f",
       "version_major": 2,
       "version_minor": 0
      },
      "text/plain": [
       "Backtest.optimize:   0%|          | 0/2 [00:00<?, ?it/s]"
      ]
     },
     "metadata": {},
     "output_type": "display_data"
    },
    {
     "name": "stdout",
     "output_type": "stream",
     "text": [
      "Running backtest for FITB\n",
      "[*********************100%***********************]  1 of 1 completed\n"
     ]
    },
    {
     "data": {
      "application/vnd.jupyter.widget-view+json": {
       "model_id": "b1799f1c5da64b15b73749c877df946d",
       "version_major": 2,
       "version_minor": 0
      },
      "text/plain": [
       "Backtest.optimize:   0%|          | 0/2 [00:00<?, ?it/s]"
      ]
     },
     "metadata": {},
     "output_type": "display_data"
    },
    {
     "name": "stdout",
     "output_type": "stream",
     "text": [
      "Running backtest for CNP\n",
      "[*********************100%***********************]  1 of 1 completed\n"
     ]
    },
    {
     "data": {
      "application/vnd.jupyter.widget-view+json": {
       "model_id": "89a8e6cd57584877ae81a589e7274c4f",
       "version_major": 2,
       "version_minor": 0
      },
      "text/plain": [
       "Backtest.optimize:   0%|          | 0/2 [00:00<?, ?it/s]"
      ]
     },
     "metadata": {},
     "output_type": "display_data"
    },
    {
     "name": "stdout",
     "output_type": "stream",
     "text": [
      "Average Statistics for Dow Jones 30:\n",
      "Exposure Time [%]           19.334752\n",
      "Equity Final [$]         16861.844300\n",
      "Equity Peak [$]          19970.561233\n",
      "Return [%]                  68.618443\n",
      "Buy & Hold Return [%]      422.936489\n",
      "Return (Ann.) [%]            2.627544\n",
      "Volatility (Ann.) [%]       13.141012\n",
      "Sharpe Ratio                 0.256945\n",
      "Sortino Ratio                0.426142\n",
      "Calmar Ratio                 0.170334\n",
      "Max. Drawdown [%]          -33.209582\n",
      "Avg. Drawdown [%]           -4.979192\n",
      "# Trades                   120.400000\n",
      "Win Rate [%]                66.238113\n",
      "Best Trade [%]              10.778822\n",
      "Worst Trade [%]            -14.985911\n",
      "Avg. Trade [%]               0.267171\n",
      "Profit Factor                1.470190\n",
      "Expectancy [%]               0.339408\n",
      "SQN                          0.963264\n",
      "dtype: float64\n",
      "AAPL:\n",
      "  lower_bound: 10\n",
      "  upper_bound: 60\n",
      "  rsi_window: 2\n",
      "MSFT:\n",
      "  lower_bound: 5\n",
      "  upper_bound: 50\n",
      "  rsi_window: 2\n",
      "KO:\n",
      "  lower_bound: 5\n",
      "  upper_bound: 50\n",
      "  rsi_window: 2\n",
      "PM:\n",
      "  lower_bound: 5\n",
      "  upper_bound: 50\n",
      "  rsi_window: 2\n",
      "MU:\n",
      "  lower_bound: 5\n",
      "  upper_bound: 50\n",
      "  rsi_window: 2\n",
      "BSX:\n",
      "  lower_bound: 5\n",
      "  upper_bound: 50\n",
      "  rsi_window: 2\n",
      "KLAC:\n",
      "  lower_bound: 5\n",
      "  upper_bound: 50\n",
      "  rsi_window: 2\n",
      "SO:\n",
      "  lower_bound: 20\n",
      "  upper_bound: 70\n",
      "  rsi_window: 3\n",
      "CL:\n",
      "  lower_bound: 45\n",
      "  upper_bound: 80\n",
      "  rsi_window: 3\n",
      "FCX:\n",
      "  lower_bound: 5\n",
      "  upper_bound: 50\n",
      "  rsi_window: 2\n",
      "TGT:\n",
      "  lower_bound: 5\n",
      "  upper_bound: 50\n",
      "  rsi_window: 2\n",
      "SLB:\n",
      "  lower_bound: 5\n",
      "  upper_bound: 50\n",
      "  rsi_window: 2\n",
      "PYPL:\n",
      "  lower_bound: 5\n",
      "  upper_bound: 50\n",
      "  rsi_window: 2\n",
      "USB:\n",
      "  lower_bound: 5\n",
      "  upper_bound: 50\n",
      "  rsi_window: 2\n",
      "MMM:\n",
      "  lower_bound: 10\n",
      "  upper_bound: 50\n",
      "  rsi_window: 2\n",
      "WMB:\n",
      "  lower_bound: 5\n",
      "  upper_bound: 50\n",
      "  rsi_window: 2\n",
      "AEP:\n",
      "  lower_bound: 5\n",
      "  upper_bound: 50\n",
      "  rsi_window: 2\n",
      "KR:\n",
      "  lower_bound: 40\n",
      "  upper_bound: 50\n",
      "  rsi_window: 4\n",
      "FITB:\n",
      "  lower_bound: 5\n",
      "  upper_bound: 50\n",
      "  rsi_window: 2\n",
      "CNP:\n",
      "  lower_bound: 5\n",
      "  upper_bound: 50\n",
      "  rsi_window: 2\n",
      "Average Optimal Parameters for Dow Jones 30:\n",
      "Average lower_bound: 5.0\n",
      "Average upper_bound: 50.0\n",
      "Average RSI window: 2.0\n"
     ]
    }
   ],
   "source": [
    "#Testing dow jones 30 stocks and picking best average indicator conditions\n",
    "# Define the list of Dow Jones 30 stocks\n",
    "dow_jones_30 = [\n",
    "    \"AAPL\", \"MSFT\", \"KO\",\"PM\", \"MU\", \"BSX\", \"KLAC\", \"SO\", \"CL\", \"FCX\", \"TGT\", \"SLB\", \"PYPL\", \n",
    "    \"USB\", \"MMM\", \"WMB\", \"AEP\", \"KR\", \"FITB\", \"CNP\"\n",
    "]\n",
    "\n",
    "# Function to optimize\n",
    "def optim_func(series):\n",
    "    if series[\"Win Rate [%]\"] < 72 or series['# Trades'] < 130 or series['Max. Drawdown [%]'] < -25:\n",
    "        return -1\n",
    "    return series[\"Win Rate [%]\"] * series[\"Return [%]\"]\n",
    "\n",
    "# Strategy class\n",
    "class RsiOscillator(Strategy):\n",
    "    upper_bound = 80\n",
    "    lower_bound = 20\n",
    "    rsi_window = 14\n",
    "\n",
    "\n",
    "    def init(self):\n",
    "        self.rsi = self.I(talib.RSI, self.data.Close, self.rsi_window)\n",
    "\n",
    "    def next(self):\n",
    "        if crossover(self.rsi, self.upper_bound):\n",
    "            self.position.close()\n",
    "        elif crossover(self.lower_bound, self.rsi) :\n",
    "            self.buy()\n",
    "\n",
    "# Function to run backtest for a single stock\n",
    "def backtest_stock(symbol):\n",
    "    df = yf.download(symbol, start=\"2010-01-01\", end=\"2024-03-03\")\n",
    "    bt = Backtest(df, RsiOscillator, cash=10000)\n",
    "    stats = bt.optimize(\n",
    "        upper_bound=range(50, 90, 5),\n",
    "        lower_bound=range(5, 50, 5),\n",
    "        rsi_window=range(2, 5, 1),\n",
    "        maximize=optim_func,\n",
    "        constraint=lambda param: param.upper_bound > param.lower_bound\n",
    "    )\n",
    "    return stats\n",
    "\n",
    "# Collect results for all stocks\n",
    "results = []\n",
    "optimal_params = []\n",
    "for symbol in dow_jones_30:\n",
    "    print(f\"Running backtest for {symbol}\")\n",
    "    result = backtest_stock(symbol)\n",
    "    results.append(result)\n",
    "    optimal_params.append({\n",
    "        'symbol': symbol,\n",
    "        'lower_bound': result['_strategy'].lower_bound,\n",
    "        'upper_bound': result['_strategy'].upper_bound,\n",
    "        'rsi_window': result['_strategy'].rsi_window\n",
    "    })\n",
    "\n",
    "# Convert results to DataFrame\n",
    "df_results = pd.DataFrame(results)\n",
    "df_optimal_params = pd.DataFrame(optimal_params)\n",
    "\n",
    "# Calculate average optimal parameters\n",
    "average_params = df_optimal_params.median(numeric_only=True)\n",
    "\n",
    "# Calculate average statistics\n",
    "average_stats = df_results.mean(numeric_only=True)\n",
    "\n",
    "print(\"Average Statistics for Dow Jones 30:\")\n",
    "print(average_stats)\n",
    "\n",
    "# Print the optimal parameters for reference\n",
    "for symbol, stats in zip(dow_jones_30, results):\n",
    "    print(f\"{symbol}:\")\n",
    "    print(f\"  lower_bound: {stats['_strategy'].lower_bound}\")\n",
    "    print(f\"  upper_bound: {stats['_strategy'].upper_bound}\")\n",
    "    print(f\"  rsi_window: {stats['_strategy'].rsi_window}\")\n",
    "\n",
    "print(\"Average Optimal Parameters for Dow Jones 30:\")\n",
    "print(f\"Average lower_bound: {average_params['lower_bound']}\")\n",
    "print(f\"Average upper_bound: {average_params['upper_bound']}\")\n",
    "print(f\"Average RSI window: {average_params['rsi_window']}\")\n",
    "\n",
    "# Example to print the optimal parameters for the first stock\n",
    "# lower_bound = results[0][\"_strategy\"].lower_bound\n",
    "# upper_bound = results[0][\"_strategy\"].upper_bound\n",
    "# rsi_window = results[0][\"_strategy\"].rsi_window\n",
    "# print(results[0][\"_strategy\"])\n"
   ]
  },
  {
   "cell_type": "code",
   "execution_count": 58,
   "metadata": {},
   "outputs": [
    {
     "name": "stdout",
     "output_type": "stream",
     "text": [
      "[*********************100%***********************]  1 of 1 completed\n"
     ]
    },
    {
     "data": {
      "application/vnd.jupyter.widget-view+json": {
       "model_id": "7793b4ce25de429c85229dd376cecf56",
       "version_major": 2,
       "version_minor": 0
      },
      "text/plain": [
       "Backtest.optimize:   0%|          | 0/2 [00:00<?, ?it/s]"
      ]
     },
     "metadata": {},
     "output_type": "display_data"
    },
    {
     "name": "stdout",
     "output_type": "stream",
     "text": [
      "Start                     2009-01-02 00:00:00\n",
      "End                       2023-12-29 00:00:00\n",
      "Duration                   5474 days 00:00:00\n",
      "Exposure Time [%]                   38.288288\n",
      "Equity Final [$]                 37667.661697\n",
      "Equity Peak [$]                  37667.661697\n",
      "Return [%]                         276.676617\n",
      "Buy & Hold Return [%]               411.30594\n",
      "Return (Ann.) [%]                    9.259437\n",
      "Volatility (Ann.) [%]                15.05583\n",
      "Sharpe Ratio                         0.615007\n",
      "Sortino Ratio                        0.972344\n",
      "Calmar Ratio                         0.322249\n",
      "Max. Drawdown [%]                   -28.73376\n",
      "Avg. Drawdown [%]                   -2.427358\n",
      "Max. Drawdown Duration      792 days 00:00:00\n",
      "Avg. Drawdown Duration       38 days 00:00:00\n",
      "# Trades                                   99\n",
      "Win Rate [%]                        74.747475\n",
      "Best Trade [%]                      11.037396\n",
      "Worst Trade [%]                    -10.923303\n",
      "Avg. Trade [%]                       1.357176\n",
      "Max. Trade Duration          79 days 00:00:00\n",
      "Avg. Trade Duration          20 days 00:00:00\n",
      "Profit Factor                        3.210505\n",
      "Expectancy [%]                       1.411341\n",
      "SQN                                   3.51634\n",
      "_strategy                 EmaOscillator(sh...\n",
      "_equity_curve                             ...\n",
      "_trades                       Size  EntryB...\n",
      "dtype: object\n",
      "Optimal short EMA period: 15\n",
      "Optimal long EMA period: 20\n",
      "short_ema_period  long_ema_period\n",
      "5                 20                 5.542255\n",
      "                  21                 6.050984\n",
      "                  22                 5.780708\n",
      "                  23                 6.087364\n",
      "                  24                 5.210915\n",
      "                                       ...   \n",
      "19                35                 6.672671\n",
      "                  36                 6.945606\n",
      "                  37                 6.990549\n",
      "                  38                 6.938031\n",
      "                  39                 6.835949\n",
      "Name: Return (Ann.) [%], Length: 300, dtype: float64\n",
      "long_ema_period         20        21        22        23        24        25  \\\n",
      "short_ema_period                                                               \n",
      "5                 5.542255  6.050984  5.780708  6.087364  5.210915  5.637740   \n",
      "6                 5.416171  6.139829  5.359631  4.663821  4.830388  4.768327   \n",
      "7                 5.350682  5.757110  4.978612  4.616380  5.284679  5.287394   \n",
      "8                 5.971271  5.314010  5.020656  5.526076  5.204308  5.809358   \n",
      "9                 6.600351  5.771770  5.334201  6.347454  5.571454  5.408312   \n",
      "10                6.812799  6.168164  6.363202  6.516220  6.132487  6.422400   \n",
      "11                6.834469  7.155711  7.474201  7.926055  6.566223  6.256624   \n",
      "12                7.214981  8.163319  7.803546  7.118311  7.046992  7.862424   \n",
      "13                7.764123  6.568893  7.738813  8.198108  7.821543  7.545449   \n",
      "14                6.990553  6.661583  7.764789  7.506203  7.395291  7.487687   \n",
      "15                9.259437  8.291113  7.715569  6.943462  7.074224  5.965440   \n",
      "16                9.068613  7.686318  6.329713  5.942354  7.029857  6.101822   \n",
      "17                7.416722  6.249838  5.567910  6.115006  5.895746  5.168669   \n",
      "18                7.173075  5.734634  4.594792  5.883098  5.723093  5.762850   \n",
      "19                4.415723  5.957445  4.104444  5.906817  5.451846  4.229427   \n",
      "\n",
      "long_ema_period         26        27        28        29        30        31  \\\n",
      "short_ema_period                                                               \n",
      "5                 6.223293  5.392078  5.417998  5.417410  5.808456  5.801749   \n",
      "6                 5.274301  5.332418  5.454436  6.117376  6.046115  6.195825   \n",
      "7                 6.055030  6.017755  6.358346  7.168948  7.014682  6.886390   \n",
      "8                 5.792250  5.580088  5.733214  6.014137  6.002014  6.930291   \n",
      "9                 5.601958  5.785821  6.073943  5.670912  5.559359  6.071649   \n",
      "10                6.305963  6.220244  6.465523  6.851004  6.408223  6.451649   \n",
      "11                6.480660  6.783606  6.428387  6.663609  6.577316  6.198164   \n",
      "12                8.048703  7.845805  8.075219  7.613818  7.166195  7.439834   \n",
      "13                6.787016  7.002677  7.057200  7.469957  6.970248  6.246656   \n",
      "14                6.425896  6.568255  6.370248  6.518280  6.344444  6.606778   \n",
      "15                5.444629  5.920703  6.149169  6.393745  6.388085  5.940906   \n",
      "16                5.661283  6.338662  4.979720  6.078588  5.740287  5.581498   \n",
      "17                5.936547  5.238508  5.874542  5.753487  6.007295  6.008948   \n",
      "18                4.816048  4.346367  4.953005  5.494364  4.869938  5.118359   \n",
      "19                4.398843  5.082428  5.172779  5.688961  5.776018  5.273282   \n",
      "\n",
      "long_ema_period         32        33        34        35        36        37  \\\n",
      "short_ema_period                                                               \n",
      "5                 5.938925  6.467863  6.976516  7.168261  7.711312  8.182378   \n",
      "6                 6.230704  7.301723  7.202535  7.873187  7.365040  7.552974   \n",
      "7                 5.833656  6.429360  6.328161  6.116876  6.982327  7.318865   \n",
      "8                 6.316433  6.190488  6.795639  6.980738  6.812636  6.198458   \n",
      "9                 6.409278  6.880394  7.078864  6.552608  7.092573  6.067160   \n",
      "10                6.099318  6.174082  6.134628  6.127702  5.773595  6.460842   \n",
      "11                6.872888  6.895277  6.743402  6.751460  6.587714  5.476287   \n",
      "12                6.917888  6.591136  6.345867  5.753369  5.369249  5.806944   \n",
      "13                6.649527  6.459225  5.654105  5.250716  5.588350  4.423255   \n",
      "14                6.270547  5.453107  5.689544  5.614978  5.414929  5.810413   \n",
      "15                5.048657  5.513607  6.000510  6.003057  5.505977  6.341512   \n",
      "16                5.800182  4.853065  5.710298  5.329829  5.882585  6.347622   \n",
      "17                6.079211  5.225492  4.902850  5.955124  6.339142  5.989138   \n",
      "18                4.672128  4.962786  4.994358  6.050754  6.143575  6.445006   \n",
      "19                5.238315  4.966829  5.904949  6.672671  6.945606  6.990549   \n",
      "\n",
      "long_ema_period         38        39  \n",
      "short_ema_period                      \n",
      "5                 7.762514  7.326293  \n",
      "6                 7.013369  7.247665  \n",
      "7                 7.283963  6.514009  \n",
      "8                 6.200332  5.905386  \n",
      "9                 5.718369  5.271294  \n",
      "10                5.862656  5.708525  \n",
      "11                5.686660  5.398523  \n",
      "12                5.760621  5.484001  \n",
      "13                4.680374  4.827770  \n",
      "14                5.521224  5.241021  \n",
      "15                6.739026  5.894845  \n",
      "16                7.079091  6.860810  \n",
      "17                6.686899  7.031882  \n",
      "18                6.428614  6.538995  \n",
      "19                6.938031  6.835949  \n",
      "Start                     2009-01-02 00:00:00\n",
      "End                       2023-12-29 00:00:00\n",
      "Duration                   5474 days 00:00:00\n",
      "Exposure Time [%]                   38.288288\n",
      "Equity Final [$]                 37667.661697\n",
      "Equity Peak [$]                  37667.661697\n",
      "Return [%]                         276.676617\n",
      "Buy & Hold Return [%]               411.30594\n",
      "Return (Ann.) [%]                    9.259437\n",
      "Volatility (Ann.) [%]                15.05583\n",
      "Sharpe Ratio                         0.615007\n",
      "Sortino Ratio                        0.972344\n",
      "Calmar Ratio                         0.322249\n",
      "Max. Drawdown [%]                   -28.73376\n",
      "Avg. Drawdown [%]                   -2.427358\n",
      "Max. Drawdown Duration      792 days 00:00:00\n",
      "Avg. Drawdown Duration       38 days 00:00:00\n",
      "# Trades                                   99\n",
      "Win Rate [%]                        74.747475\n",
      "Best Trade [%]                      11.037396\n",
      "Worst Trade [%]                    -10.923303\n",
      "Avg. Trade [%]                       1.357176\n",
      "Max. Trade Duration          79 days 00:00:00\n",
      "Avg. Trade Duration          20 days 00:00:00\n",
      "Profit Factor                        3.210505\n",
      "Expectancy [%]                       1.411341\n",
      "SQN                                   3.51634\n",
      "_strategy                 EmaOscillator(sh...\n",
      "_equity_curve                             ...\n",
      "_trades                       Size  EntryB...\n",
      "dtype: object\n"
     ]
    },
    {
     "name": "stderr",
     "output_type": "stream",
     "text": [
      "BokehDeprecationWarning: Passing lists of formats for DatetimeTickFormatter scales was deprecated in Bokeh 3.0. Configure a single string format for each scale\n",
      "/home/liisa/miniconda3/lib/python3.10/site-packages/backtesting/_plotting.py:250: UserWarning: DatetimeFormatter scales now only accept a single format. Using the first provided: '%d %b'\n",
      "  formatter=DatetimeTickFormatter(days=['%d %b', '%a %d'],\n",
      "BokehDeprecationWarning: Passing lists of formats for DatetimeTickFormatter scales was deprecated in Bokeh 3.0. Configure a single string format for each scale\n",
      "/home/liisa/miniconda3/lib/python3.10/site-packages/backtesting/_plotting.py:250: UserWarning: DatetimeFormatter scales now only accept a single format. Using the first provided: '%m/%Y'\n",
      "  formatter=DatetimeTickFormatter(days=['%d %b', '%a %d'],\n"
     ]
    },
    {
     "data": {
      "text/html": [
       "<div style=\"display: table;\"><div style=\"display: table-row;\"><div style=\"display: table-cell;\"><b title=\"bokeh.models.plots.GridPlot\">GridPlot</b>(</div><div style=\"display: table-cell;\">id&nbsp;=&nbsp;'p8542', <span id=\"p8573\" style=\"cursor: pointer;\">&hellip;)</span></div></div><div class=\"p8572\" style=\"display: none;\"><div style=\"display: table-cell;\"></div><div style=\"display: table-cell;\">align&nbsp;=&nbsp;'auto',</div></div><div class=\"p8572\" style=\"display: none;\"><div style=\"display: table-cell;\"></div><div style=\"display: table-cell;\">aspect_ratio&nbsp;=&nbsp;None,</div></div><div class=\"p8572\" style=\"display: none;\"><div style=\"display: table-cell;\"></div><div style=\"display: table-cell;\">children&nbsp;=&nbsp;[(figure(id='p8275', ...), 0, 0), (figure(id='p8368', ...), 1, 0), (figure(id='p8235', ...), 2, 0), (figure(id='p8419', ...), 3, 0)],</div></div><div class=\"p8572\" style=\"display: none;\"><div style=\"display: table-cell;\"></div><div style=\"display: table-cell;\">cols&nbsp;=&nbsp;None,</div></div><div class=\"p8572\" style=\"display: none;\"><div style=\"display: table-cell;\"></div><div style=\"display: table-cell;\">context_menu&nbsp;=&nbsp;None,</div></div><div class=\"p8572\" style=\"display: none;\"><div style=\"display: table-cell;\"></div><div style=\"display: table-cell;\">css_classes&nbsp;=&nbsp;[],</div></div><div class=\"p8572\" style=\"display: none;\"><div style=\"display: table-cell;\"></div><div style=\"display: table-cell;\">disabled&nbsp;=&nbsp;False,</div></div><div class=\"p8572\" style=\"display: none;\"><div style=\"display: table-cell;\"></div><div style=\"display: table-cell;\">flow_mode&nbsp;=&nbsp;'block',</div></div><div class=\"p8572\" style=\"display: none;\"><div style=\"display: table-cell;\"></div><div style=\"display: table-cell;\">height&nbsp;=&nbsp;None,</div></div><div class=\"p8572\" style=\"display: none;\"><div style=\"display: table-cell;\"></div><div style=\"display: table-cell;\">height_policy&nbsp;=&nbsp;'auto',</div></div><div class=\"p8572\" style=\"display: none;\"><div style=\"display: table-cell;\"></div><div style=\"display: table-cell;\">js_event_callbacks&nbsp;=&nbsp;{},</div></div><div class=\"p8572\" style=\"display: none;\"><div style=\"display: table-cell;\"></div><div style=\"display: table-cell;\">js_property_callbacks&nbsp;=&nbsp;{},</div></div><div class=\"p8572\" style=\"display: none;\"><div style=\"display: table-cell;\"></div><div style=\"display: table-cell;\">margin&nbsp;=&nbsp;None,</div></div><div class=\"p8572\" style=\"display: none;\"><div style=\"display: table-cell;\"></div><div style=\"display: table-cell;\">max_height&nbsp;=&nbsp;None,</div></div><div class=\"p8572\" style=\"display: none;\"><div style=\"display: table-cell;\"></div><div style=\"display: table-cell;\">max_width&nbsp;=&nbsp;None,</div></div><div class=\"p8572\" style=\"display: none;\"><div style=\"display: table-cell;\"></div><div style=\"display: table-cell;\">min_height&nbsp;=&nbsp;None,</div></div><div class=\"p8572\" style=\"display: none;\"><div style=\"display: table-cell;\"></div><div style=\"display: table-cell;\">min_width&nbsp;=&nbsp;None,</div></div><div class=\"p8572\" style=\"display: none;\"><div style=\"display: table-cell;\"></div><div style=\"display: table-cell;\">name&nbsp;=&nbsp;None,</div></div><div class=\"p8572\" style=\"display: none;\"><div style=\"display: table-cell;\"></div><div style=\"display: table-cell;\">resizable&nbsp;=&nbsp;False,</div></div><div class=\"p8572\" style=\"display: none;\"><div style=\"display: table-cell;\"></div><div style=\"display: table-cell;\">rows&nbsp;=&nbsp;None,</div></div><div class=\"p8572\" style=\"display: none;\"><div style=\"display: table-cell;\"></div><div style=\"display: table-cell;\">sizing_mode&nbsp;=&nbsp;'stretch_width',</div></div><div class=\"p8572\" style=\"display: none;\"><div style=\"display: table-cell;\"></div><div style=\"display: table-cell;\">spacing&nbsp;=&nbsp;0,</div></div><div class=\"p8572\" style=\"display: none;\"><div style=\"display: table-cell;\"></div><div style=\"display: table-cell;\">styles&nbsp;=&nbsp;{},</div></div><div class=\"p8572\" style=\"display: none;\"><div style=\"display: table-cell;\"></div><div style=\"display: table-cell;\">stylesheets&nbsp;=&nbsp;[],</div></div><div class=\"p8572\" style=\"display: none;\"><div style=\"display: table-cell;\"></div><div style=\"display: table-cell;\">subscribed_events&nbsp;=&nbsp;PropertyValueSet(),</div></div><div class=\"p8572\" style=\"display: none;\"><div style=\"display: table-cell;\"></div><div style=\"display: table-cell;\">syncable&nbsp;=&nbsp;True,</div></div><div class=\"p8572\" style=\"display: none;\"><div style=\"display: table-cell;\"></div><div style=\"display: table-cell;\">tags&nbsp;=&nbsp;[],</div></div><div class=\"p8572\" style=\"display: none;\"><div style=\"display: table-cell;\"></div><div style=\"display: table-cell;\">toolbar&nbsp;=&nbsp;Toolbar(id='p8541', ...),</div></div><div class=\"p8572\" style=\"display: none;\"><div style=\"display: table-cell;\"></div><div style=\"display: table-cell;\">toolbar_location&nbsp;=&nbsp;'right',</div></div><div class=\"p8572\" style=\"display: none;\"><div style=\"display: table-cell;\"></div><div style=\"display: table-cell;\">visible&nbsp;=&nbsp;True,</div></div><div class=\"p8572\" style=\"display: none;\"><div style=\"display: table-cell;\"></div><div style=\"display: table-cell;\">width&nbsp;=&nbsp;None,</div></div><div class=\"p8572\" style=\"display: none;\"><div style=\"display: table-cell;\"></div><div style=\"display: table-cell;\">width_policy&nbsp;=&nbsp;'auto')</div></div></div>\n",
       "<script>\n",
       "(function() {\n",
       "  let expanded = false;\n",
       "  const ellipsis = document.getElementById(\"p8573\");\n",
       "  ellipsis.addEventListener(\"click\", function() {\n",
       "    const rows = document.getElementsByClassName(\"p8572\");\n",
       "    for (let i = 0; i < rows.length; i++) {\n",
       "      const el = rows[i];\n",
       "      el.style.display = expanded ? \"none\" : \"table-row\";\n",
       "    }\n",
       "    ellipsis.innerHTML = expanded ? \"&hellip;)\" : \"&lsaquo;&lsaquo;&lsaquo;\";\n",
       "    expanded = !expanded;\n",
       "  });\n",
       "})();\n",
       "</script>\n"
      ],
      "text/plain": [
       "GridPlot(id='p8542', ...)"
      ]
     },
     "execution_count": 58,
     "metadata": {},
     "output_type": "execute_result"
    },
    {
     "data": {
      "image/png": "[encoded data removed]",
      "text/plain": [
       "<Figure size 1200x600 with 2 Axes>"
      ]
     },
     "metadata": {},
     "output_type": "display_data"
    }
   ],
   "source": [
    "# Define the symbol and data\n",
    "symbol = \"SPY\"\n",
    "df = yf.download(symbol, start=\"2009-01-01\", end=\"2024-01-01\")\n",
    "\n",
    "#Chart size\n",
    "sns.set(rc={\"figure.figsize\":(12, 6)})\n",
    "\n",
    "# Function to optimize\n",
    "def optim_func(series):\n",
    "    if series[\"Win Rate [%]\"] < 70:\n",
    "        return -1\n",
    "    return series[\"Return (Ann.) [%]\"]\n",
    "\n",
    "# Strategy class\n",
    "class EmaOscillator(Strategy):\n",
    "    short_ema_period = 5\n",
    "    long_ema_period = 5\n",
    "\n",
    "    def init(self):\n",
    "        self.short_ema = self.I(talib.SMA, self.data.Close, self.short_ema_period)\n",
    "        self.long_ema = self.I(talib.SMA, self.data.Close, self.long_ema_period)\n",
    "\n",
    "    def next(self):\n",
    "        # If short EMA crosses below long EMA\n",
    "        if crossover(self.short_ema, self.long_ema):\n",
    "            self.position.close()\n",
    "        elif crossover(self.long_ema, self.short_ema):\n",
    "            self.buy()\n",
    "\n",
    "# Backtest and optimize\n",
    "bt = Backtest(df, EmaOscillator, cash=10000)\n",
    "\n",
    "stats, heatmap = bt.optimize(\n",
    "    short_ema_period=range(5, 20, 1),\n",
    "    long_ema_period=range(20,40,1),\n",
    "    maximize=\"Return (Ann.) [%]\",\n",
    "    return_heatmap = True,\n",
    ")\n",
    "\n",
    "print(stats)\n",
    "print(f\"Optimal short EMA period: {stats['_strategy'].short_ema_period}\")\n",
    "print(f\"Optimal long EMA period: {stats['_strategy'].long_ema_period}\")\n",
    "\n",
    "# Example to print the optimal parameters for the first stock\n",
    "#lower_bound = stats[\"_strategy\"].short_ema_period\n",
    "#print(stats[\"_strategy\"])\n",
    "#bt.plot()\n",
    "#lower_bound = stats[\"_strategy\"].lower_bound\n",
    "print(heatmap)\n",
    "hm = heatmap.groupby([\"short_ema_period\", \"long_ema_period\"]).mean().unstack()\n",
    "print(hm)\n",
    "print(stats)\n",
    "#crearing heatmap\n",
    "sns.heatmap(hm, cmap=\"crest\", annot=True, linewidths=.5)\n",
    "bt.plot()"
   ]
  },
  {
   "cell_type": "code",
   "execution_count": 64,
   "metadata": {},
   "outputs": [
    {
     "name": "stdout",
     "output_type": "stream",
     "text": [
      "short_ema_period  long_ema_period\n",
      "5                 20                 5.542255\n",
      "                  21                 6.050984\n",
      "                  22                 5.780708\n",
      "                  23                 6.087364\n",
      "                  24                 5.210915\n",
      "                                       ...   \n",
      "19                35                 6.672671\n",
      "                  36                 6.945606\n",
      "                  37                 6.990549\n",
      "                  38                 6.938031\n",
      "                  39                 6.835949\n",
      "Name: Return (Ann.) [%], Length: 300, dtype: float64\n"
     ]
    },
    {
     "data": {
      "text/plain": [
       "<Axes: xlabel='long_ema_period', ylabel='short_ema_period'>"
      ]
     },
     "execution_count": 64,
     "metadata": {},
     "output_type": "execute_result"
    },
    {
     "data": {
      "image/png": "[encoded data removed]",
      "text/plain": [
       "<Figure size 1200x600 with 2 Axes>"
      ]
     },
     "metadata": {},
     "output_type": "display_data"
    }
   ],
   "source": [
    "print(heatmap)\n",
    "hm = heatmap.groupby([\"short_ema_period\", \"long_ema_period\"]).mean().unstack()\n",
    "#print(hm)\n",
    "#print(stats)\n",
    "sns.heatmap(hm, cmap=\"plasma\")\n",
    "#bt.plot()"
   ]
  },
  {
   "cell_type": "code",
   "execution_count": 57,
   "metadata": {},
   "outputs": [
    {
     "name": "stdout",
     "output_type": "stream",
     "text": [
      "Running backtest for AAPL\n",
      "[*********************100%***********************]  1 of 1 completed\n"
     ]
    },
    {
     "data": {
      "application/vnd.jupyter.widget-view+json": {
       "model_id": "88253c39a0f3489d89374ada636032ef",
       "version_major": 2,
       "version_minor": 0
      },
      "text/plain": [
       "Backtest.optimize:   0%|          | 0/3 [00:00<?, ?it/s]"
      ]
     },
     "metadata": {},
     "output_type": "display_data"
    },
    {
     "name": "stdout",
     "output_type": "stream",
     "text": [
      "Running backtest for ABBV\n",
      "[*********************100%***********************]  1 of 1 completed\n"
     ]
    },
    {
     "data": {
      "application/vnd.jupyter.widget-view+json": {
       "model_id": "ddf823ab54e54ecdb4b32170d28f12c0",
       "version_major": 2,
       "version_minor": 0
      },
      "text/plain": [
       "Backtest.optimize:   0%|          | 0/3 [00:00<?, ?it/s]"
      ]
     },
     "metadata": {},
     "output_type": "display_data"
    },
    {
     "name": "stdout",
     "output_type": "stream",
     "text": [
      "Running backtest for ABT\n",
      "[*********************100%***********************]  1 of 1 completed\n"
     ]
    },
    {
     "data": {
      "application/vnd.jupyter.widget-view+json": {
       "model_id": "249ae68bc71e4c748ed06e77b952013b",
       "version_major": 2,
       "version_minor": 0
      },
      "text/plain": [
       "Backtest.optimize:   0%|          | 0/3 [00:00<?, ?it/s]"
      ]
     },
     "metadata": {},
     "output_type": "display_data"
    },
    {
     "name": "stdout",
     "output_type": "stream",
     "text": [
      "Running backtest for ACN\n",
      "[*********************100%***********************]  1 of 1 completed\n"
     ]
    },
    {
     "data": {
      "application/vnd.jupyter.widget-view+json": {
       "model_id": "404c3ff6d56342bc8f5eea7304218426",
       "version_major": 2,
       "version_minor": 0
      },
      "text/plain": [
       "Backtest.optimize:   0%|          | 0/3 [00:00<?, ?it/s]"
      ]
     },
     "metadata": {},
     "output_type": "display_data"
    },
    {
     "name": "stdout",
     "output_type": "stream",
     "text": [
      "Running backtest for ADBE\n",
      "[*********************100%***********************]  1 of 1 completed\n"
     ]
    },
    {
     "data": {
      "application/vnd.jupyter.widget-view+json": {
       "model_id": "d9e059c351a64b1588b0ebacba3113f6",
       "version_major": 2,
       "version_minor": 0
      },
      "text/plain": [
       "Backtest.optimize:   0%|          | 0/3 [00:00<?, ?it/s]"
      ]
     },
     "metadata": {},
     "output_type": "display_data"
    },
    {
     "name": "stdout",
     "output_type": "stream",
     "text": [
      "Running backtest for AIG\n",
      "[*********************100%***********************]  1 of 1 completed\n"
     ]
    },
    {
     "data": {
      "application/vnd.jupyter.widget-view+json": {
       "model_id": "26d5aef821dd4e688d55ef6d8de59c15",
       "version_major": 2,
       "version_minor": 0
      },
      "text/plain": [
       "Backtest.optimize:   0%|          | 0/3 [00:00<?, ?it/s]"
      ]
     },
     "metadata": {},
     "output_type": "display_data"
    },
    {
     "name": "stdout",
     "output_type": "stream",
     "text": [
      "Running backtest for ALL\n",
      "[*********************100%***********************]  1 of 1 completed\n"
     ]
    },
    {
     "data": {
      "application/vnd.jupyter.widget-view+json": {
       "model_id": "e1877caafadd4dd197c006c7b864db30",
       "version_major": 2,
       "version_minor": 0
      },
      "text/plain": [
       "Backtest.optimize:   0%|          | 0/3 [00:00<?, ?it/s]"
      ]
     },
     "metadata": {},
     "output_type": "display_data"
    },
    {
     "name": "stdout",
     "output_type": "stream",
     "text": [
      "Running backtest for AMGN\n",
      "[*********************100%***********************]  1 of 1 completed\n"
     ]
    },
    {
     "data": {
      "application/vnd.jupyter.widget-view+json": {
       "model_id": "8a25ccbb40e64ecabc792d2ed26a0dc8",
       "version_major": 2,
       "version_minor": 0
      },
      "text/plain": [
       "Backtest.optimize:   0%|          | 0/3 [00:00<?, ?it/s]"
      ]
     },
     "metadata": {},
     "output_type": "display_data"
    },
    {
     "name": "stdout",
     "output_type": "stream",
     "text": [
      "Running backtest for AMT\n",
      "[*********************100%***********************]  1 of 1 completed\n"
     ]
    },
    {
     "data": {
      "application/vnd.jupyter.widget-view+json": {
       "model_id": "c3551972551f48a59e3f046f1c78171a",
       "version_major": 2,
       "version_minor": 0
      },
      "text/plain": [
       "Backtest.optimize:   0%|          | 0/3 [00:00<?, ?it/s]"
      ]
     },
     "metadata": {},
     "output_type": "display_data"
    },
    {
     "name": "stdout",
     "output_type": "stream",
     "text": [
      "Running backtest for AMZN\n",
      "[*********************100%***********************]  1 of 1 completed\n"
     ]
    },
    {
     "data": {
      "application/vnd.jupyter.widget-view+json": {
       "model_id": "be4bde7649c24db8a067c53f01dcceab",
       "version_major": 2,
       "version_minor": 0
      },
      "text/plain": [
       "Backtest.optimize:   0%|          | 0/3 [00:00<?, ?it/s]"
      ]
     },
     "metadata": {},
     "output_type": "display_data"
    },
    {
     "name": "stdout",
     "output_type": "stream",
     "text": [
      "Running backtest for AVGO\n",
      "[*********************100%***********************]  1 of 1 completed\n"
     ]
    },
    {
     "data": {
      "application/vnd.jupyter.widget-view+json": {
       "model_id": "29011baf914e43998bdc37cc6da67534",
       "version_major": 2,
       "version_minor": 0
      },
      "text/plain": [
       "Backtest.optimize:   0%|          | 0/3 [00:00<?, ?it/s]"
      ]
     },
     "metadata": {},
     "output_type": "display_data"
    },
    {
     "name": "stdout",
     "output_type": "stream",
     "text": [
      "Running backtest for AXP\n",
      "[*********************100%***********************]  1 of 1 completed\n"
     ]
    },
    {
     "data": {
      "application/vnd.jupyter.widget-view+json": {
       "model_id": "c9afdae9870f43bcbef321816a10ee54",
       "version_major": 2,
       "version_minor": 0
      },
      "text/plain": [
       "Backtest.optimize:   0%|          | 0/3 [00:00<?, ?it/s]"
      ]
     },
     "metadata": {},
     "output_type": "display_data"
    },
    {
     "name": "stdout",
     "output_type": "stream",
     "text": [
      "Running backtest for BA\n",
      "[*********************100%***********************]  1 of 1 completed\n"
     ]
    },
    {
     "data": {
      "application/vnd.jupyter.widget-view+json": {
       "model_id": "562c045c40d14b0d939d450a083c33ee",
       "version_major": 2,
       "version_minor": 0
      },
      "text/plain": [
       "Backtest.optimize:   0%|          | 0/3 [00:00<?, ?it/s]"
      ]
     },
     "metadata": {},
     "output_type": "display_data"
    },
    {
     "name": "stdout",
     "output_type": "stream",
     "text": [
      "Running backtest for BAC\n",
      "[*********************100%***********************]  1 of 1 completed\n"
     ]
    },
    {
     "data": {
      "application/vnd.jupyter.widget-view+json": {
       "model_id": "b2c86f8005674e5da5dcbd41b43f0ebb",
       "version_major": 2,
       "version_minor": 0
      },
      "text/plain": [
       "Backtest.optimize:   0%|          | 0/3 [00:00<?, ?it/s]"
      ]
     },
     "metadata": {},
     "output_type": "display_data"
    },
    {
     "name": "stdout",
     "output_type": "stream",
     "text": [
      "Running backtest for BK\n",
      "[*********************100%***********************]  1 of 1 completed\n"
     ]
    },
    {
     "data": {
      "application/vnd.jupyter.widget-view+json": {
       "model_id": "2d6aed40601d44f4aedbe6fca3d153a0",
       "version_major": 2,
       "version_minor": 0
      },
      "text/plain": [
       "Backtest.optimize:   0%|          | 0/3 [00:00<?, ?it/s]"
      ]
     },
     "metadata": {},
     "output_type": "display_data"
    },
    {
     "name": "stdout",
     "output_type": "stream",
     "text": [
      "Running backtest for BKNG\n",
      "[*********************100%***********************]  1 of 1 completed\n"
     ]
    },
    {
     "data": {
      "application/vnd.jupyter.widget-view+json": {
       "model_id": "63c49ba2eec94806b4871242dd1280cd",
       "version_major": 2,
       "version_minor": 0
      },
      "text/plain": [
       "Backtest.optimize:   0%|          | 0/3 [00:00<?, ?it/s]"
      ]
     },
     "metadata": {},
     "output_type": "display_data"
    },
    {
     "name": "stdout",
     "output_type": "stream",
     "text": [
      "Running backtest for BLK\n",
      "[*********************100%***********************]  1 of 1 completed\n"
     ]
    },
    {
     "data": {
      "application/vnd.jupyter.widget-view+json": {
       "model_id": "70d6c9a9e17e4f5faeb5d2fbe190bedc",
       "version_major": 2,
       "version_minor": 0
      },
      "text/plain": [
       "Backtest.optimize:   0%|          | 0/3 [00:00<?, ?it/s]"
      ]
     },
     "metadata": {},
     "output_type": "display_data"
    },
    {
     "name": "stdout",
     "output_type": "stream",
     "text": [
      "Running backtest for BMY\n",
      "[*********************100%***********************]  1 of 1 completed\n"
     ]
    },
    {
     "data": {
      "application/vnd.jupyter.widget-view+json": {
       "model_id": "a6782a417a2c4df488ab46c707de5d3a",
       "version_major": 2,
       "version_minor": 0
      },
      "text/plain": [
       "Backtest.optimize:   0%|          | 0/3 [00:00<?, ?it/s]"
      ]
     },
     "metadata": {},
     "output_type": "display_data"
    },
    {
     "name": "stdout",
     "output_type": "stream",
     "text": [
      "Running backtest for C\n",
      "[*********************100%***********************]  1 of 1 completed\n"
     ]
    },
    {
     "data": {
      "application/vnd.jupyter.widget-view+json": {
       "model_id": "a1783187fe9d4cdd9821f5a4bccdb498",
       "version_major": 2,
       "version_minor": 0
      },
      "text/plain": [
       "Backtest.optimize:   0%|          | 0/3 [00:00<?, ?it/s]"
      ]
     },
     "metadata": {},
     "output_type": "display_data"
    },
    {
     "name": "stdout",
     "output_type": "stream",
     "text": [
      "Running backtest for CAT\n",
      "[*********************100%***********************]  1 of 1 completed\n"
     ]
    },
    {
     "data": {
      "application/vnd.jupyter.widget-view+json": {
       "model_id": "c2c2a23bc0d24376ab384f4af384d3c7",
       "version_major": 2,
       "version_minor": 0
      },
      "text/plain": [
       "Backtest.optimize:   0%|          | 0/3 [00:00<?, ?it/s]"
      ]
     },
     "metadata": {},
     "output_type": "display_data"
    },
    {
     "name": "stdout",
     "output_type": "stream",
     "text": [
      "Running backtest for CHTR\n",
      "[*********************100%***********************]  1 of 1 completed\n"
     ]
    },
    {
     "data": {
      "application/vnd.jupyter.widget-view+json": {
       "model_id": "79072e6357934c258366c2db969ee2b8",
       "version_major": 2,
       "version_minor": 0
      },
      "text/plain": [
       "Backtest.optimize:   0%|          | 0/3 [00:00<?, ?it/s]"
      ]
     },
     "metadata": {},
     "output_type": "display_data"
    },
    {
     "name": "stdout",
     "output_type": "stream",
     "text": [
      "Running backtest for CL\n",
      "[*********************100%***********************]  1 of 1 completed\n"
     ]
    },
    {
     "data": {
      "application/vnd.jupyter.widget-view+json": {
       "model_id": "51df34e579244802968f8b608d1e9201",
       "version_major": 2,
       "version_minor": 0
      },
      "text/plain": [
       "Backtest.optimize:   0%|          | 0/3 [00:00<?, ?it/s]"
      ]
     },
     "metadata": {},
     "output_type": "display_data"
    },
    {
     "name": "stdout",
     "output_type": "stream",
     "text": [
      "Running backtest for CMCSA\n",
      "[*********************100%***********************]  1 of 1 completed\n"
     ]
    },
    {
     "data": {
      "application/vnd.jupyter.widget-view+json": {
       "model_id": "abefe54a32be4d7badb45fab723fb460",
       "version_major": 2,
       "version_minor": 0
      },
      "text/plain": [
       "Backtest.optimize:   0%|          | 0/3 [00:00<?, ?it/s]"
      ]
     },
     "metadata": {},
     "output_type": "display_data"
    },
    {
     "name": "stdout",
     "output_type": "stream",
     "text": [
      "Running backtest for COF\n",
      "[*********************100%***********************]  1 of 1 completed\n"
     ]
    },
    {
     "data": {
      "application/vnd.jupyter.widget-view+json": {
       "model_id": "aecdfef6e1004817b877cfd4fe218da3",
       "version_major": 2,
       "version_minor": 0
      },
      "text/plain": [
       "Backtest.optimize:   0%|          | 0/3 [00:00<?, ?it/s]"
      ]
     },
     "metadata": {},
     "output_type": "display_data"
    },
    {
     "name": "stdout",
     "output_type": "stream",
     "text": [
      "Running backtest for COP\n",
      "[*********************100%***********************]  1 of 1 completed\n"
     ]
    },
    {
     "data": {
      "application/vnd.jupyter.widget-view+json": {
       "model_id": "c79334445f1242678d0054299f974842",
       "version_major": 2,
       "version_minor": 0
      },
      "text/plain": [
       "Backtest.optimize:   0%|          | 0/3 [00:00<?, ?it/s]"
      ]
     },
     "metadata": {},
     "output_type": "display_data"
    },
    {
     "name": "stdout",
     "output_type": "stream",
     "text": [
      "Running backtest for COST\n",
      "[*********************100%***********************]  1 of 1 completed\n"
     ]
    },
    {
     "data": {
      "application/vnd.jupyter.widget-view+json": {
       "model_id": "080b91c9425b41c390205d7464ae060c",
       "version_major": 2,
       "version_minor": 0
      },
      "text/plain": [
       "Backtest.optimize:   0%|          | 0/3 [00:00<?, ?it/s]"
      ]
     },
     "metadata": {},
     "output_type": "display_data"
    },
    {
     "name": "stdout",
     "output_type": "stream",
     "text": [
      "Running backtest for CSCO\n",
      "[*********************100%***********************]  1 of 1 completed\n"
     ]
    },
    {
     "data": {
      "application/vnd.jupyter.widget-view+json": {
       "model_id": "500dba03a7714fdeb68993575c2ac810",
       "version_major": 2,
       "version_minor": 0
      },
      "text/plain": [
       "Backtest.optimize:   0%|          | 0/3 [00:00<?, ?it/s]"
      ]
     },
     "metadata": {},
     "output_type": "display_data"
    },
    {
     "name": "stdout",
     "output_type": "stream",
     "text": [
      "Running backtest for CVS\n",
      "[*********************100%***********************]  1 of 1 completed\n"
     ]
    },
    {
     "data": {
      "application/vnd.jupyter.widget-view+json": {
       "model_id": "6fd374b9dadb4872b4228f014bd5eceb",
       "version_major": 2,
       "version_minor": 0
      },
      "text/plain": [
       "Backtest.optimize:   0%|          | 0/3 [00:00<?, ?it/s]"
      ]
     },
     "metadata": {},
     "output_type": "display_data"
    },
    {
     "name": "stdout",
     "output_type": "stream",
     "text": [
      "Running backtest for CVX\n",
      "[*********************100%***********************]  1 of 1 completed\n"
     ]
    },
    {
     "data": {
      "application/vnd.jupyter.widget-view+json": {
       "model_id": "fff705e85f794b7e856cc7a4d022b2f7",
       "version_major": 2,
       "version_minor": 0
      },
      "text/plain": [
       "Backtest.optimize:   0%|          | 0/3 [00:00<?, ?it/s]"
      ]
     },
     "metadata": {},
     "output_type": "display_data"
    },
    {
     "name": "stdout",
     "output_type": "stream",
     "text": [
      "Running backtest for DHR\n",
      "[*********************100%***********************]  1 of 1 completed\n"
     ]
    },
    {
     "data": {
      "application/vnd.jupyter.widget-view+json": {
       "model_id": "c9f61f3a62c94489b4f92b0026420672",
       "version_major": 2,
       "version_minor": 0
      },
      "text/plain": [
       "Backtest.optimize:   0%|          | 0/3 [00:00<?, ?it/s]"
      ]
     },
     "metadata": {},
     "output_type": "display_data"
    },
    {
     "name": "stdout",
     "output_type": "stream",
     "text": [
      "Running backtest for DIS\n",
      "[*********************100%***********************]  1 of 1 completed\n"
     ]
    },
    {
     "data": {
      "application/vnd.jupyter.widget-view+json": {
       "model_id": "d10c7972bb4b4fb1acf369cdbbd95e38",
       "version_major": 2,
       "version_minor": 0
      },
      "text/plain": [
       "Backtest.optimize:   0%|          | 0/3 [00:00<?, ?it/s]"
      ]
     },
     "metadata": {},
     "output_type": "display_data"
    },
    {
     "name": "stdout",
     "output_type": "stream",
     "text": [
      "Running backtest for DUK\n",
      "[*********************100%***********************]  1 of 1 completed\n"
     ]
    },
    {
     "data": {
      "application/vnd.jupyter.widget-view+json": {
       "model_id": "a64d71771ea14868ace9b3fa3dfc0bce",
       "version_major": 2,
       "version_minor": 0
      },
      "text/plain": [
       "Backtest.optimize:   0%|          | 0/3 [00:00<?, ?it/s]"
      ]
     },
     "metadata": {},
     "output_type": "display_data"
    },
    {
     "name": "stdout",
     "output_type": "stream",
     "text": [
      "Running backtest for EMR\n",
      "[*********************100%***********************]  1 of 1 completed\n"
     ]
    },
    {
     "data": {
      "application/vnd.jupyter.widget-view+json": {
       "model_id": "18799059b25d404091cb0db90cd0e199",
       "version_major": 2,
       "version_minor": 0
      },
      "text/plain": [
       "Backtest.optimize:   0%|          | 0/3 [00:00<?, ?it/s]"
      ]
     },
     "metadata": {},
     "output_type": "display_data"
    },
    {
     "name": "stdout",
     "output_type": "stream",
     "text": [
      "Running backtest for EXC\n",
      "[*********************100%***********************]  1 of 1 completed\n"
     ]
    },
    {
     "data": {
      "application/vnd.jupyter.widget-view+json": {
       "model_id": "7b9c55f3fb994565b1f6a5f2927bcfb8",
       "version_major": 2,
       "version_minor": 0
      },
      "text/plain": [
       "Backtest.optimize:   0%|          | 0/3 [00:00<?, ?it/s]"
      ]
     },
     "metadata": {},
     "output_type": "display_data"
    },
    {
     "name": "stdout",
     "output_type": "stream",
     "text": [
      "Running backtest for F\n",
      "[*********************100%***********************]  1 of 1 completed\n"
     ]
    },
    {
     "data": {
      "application/vnd.jupyter.widget-view+json": {
       "model_id": "5584330cabbe4088bfd1ebada8691111",
       "version_major": 2,
       "version_minor": 0
      },
      "text/plain": [
       "Backtest.optimize:   0%|          | 0/3 [00:00<?, ?it/s]"
      ]
     },
     "metadata": {},
     "output_type": "display_data"
    },
    {
     "name": "stdout",
     "output_type": "stream",
     "text": [
      "Running backtest for FDX\n",
      "[*********************100%***********************]  1 of 1 completed\n"
     ]
    },
    {
     "data": {
      "application/vnd.jupyter.widget-view+json": {
       "model_id": "1ba182c2e83748d1b908407fd297bcd0",
       "version_major": 2,
       "version_minor": 0
      },
      "text/plain": [
       "Backtest.optimize:   0%|          | 0/3 [00:00<?, ?it/s]"
      ]
     },
     "metadata": {},
     "output_type": "display_data"
    },
    {
     "name": "stdout",
     "output_type": "stream",
     "text": [
      "Running backtest for GD\n",
      "[*********************100%***********************]  1 of 1 completed\n"
     ]
    },
    {
     "data": {
      "application/vnd.jupyter.widget-view+json": {
       "model_id": "376ab3dda9e44ebc9f011a49e25cc597",
       "version_major": 2,
       "version_minor": 0
      },
      "text/plain": [
       "Backtest.optimize:   0%|          | 0/3 [00:00<?, ?it/s]"
      ]
     },
     "metadata": {},
     "output_type": "display_data"
    },
    {
     "name": "stdout",
     "output_type": "stream",
     "text": [
      "Running backtest for GE\n",
      "[*********************100%***********************]  1 of 1 completed\n"
     ]
    },
    {
     "data": {
      "application/vnd.jupyter.widget-view+json": {
       "model_id": "cfcaca6192964693aeadd258ef8721e6",
       "version_major": 2,
       "version_minor": 0
      },
      "text/plain": [
       "Backtest.optimize:   0%|          | 0/3 [00:00<?, ?it/s]"
      ]
     },
     "metadata": {},
     "output_type": "display_data"
    },
    {
     "name": "stdout",
     "output_type": "stream",
     "text": [
      "Running backtest for GILD\n",
      "[*********************100%***********************]  1 of 1 completed\n"
     ]
    },
    {
     "data": {
      "application/vnd.jupyter.widget-view+json": {
       "model_id": "69c6e0e1866a452faf39acbcfdaaca70",
       "version_major": 2,
       "version_minor": 0
      },
      "text/plain": [
       "Backtest.optimize:   0%|          | 0/3 [00:00<?, ?it/s]"
      ]
     },
     "metadata": {},
     "output_type": "display_data"
    },
    {
     "name": "stdout",
     "output_type": "stream",
     "text": [
      "Running backtest for GM\n",
      "[*********************100%***********************]  1 of 1 completed\n"
     ]
    },
    {
     "data": {
      "application/vnd.jupyter.widget-view+json": {
       "model_id": "06ca067850e74debada464a74df65584",
       "version_major": 2,
       "version_minor": 0
      },
      "text/plain": [
       "Backtest.optimize:   0%|          | 0/3 [00:00<?, ?it/s]"
      ]
     },
     "metadata": {},
     "output_type": "display_data"
    },
    {
     "name": "stdout",
     "output_type": "stream",
     "text": [
      "Running backtest for GOOGL\n",
      "[*********************100%***********************]  1 of 1 completed\n"
     ]
    },
    {
     "data": {
      "application/vnd.jupyter.widget-view+json": {
       "model_id": "e6663f1cb1394466910cc4338cbeb6d3",
       "version_major": 2,
       "version_minor": 0
      },
      "text/plain": [
       "Backtest.optimize:   0%|          | 0/3 [00:00<?, ?it/s]"
      ]
     },
     "metadata": {},
     "output_type": "display_data"
    },
    {
     "name": "stdout",
     "output_type": "stream",
     "text": [
      "Running backtest for GS\n",
      "[*********************100%***********************]  1 of 1 completed\n"
     ]
    },
    {
     "data": {
      "application/vnd.jupyter.widget-view+json": {
       "model_id": "a849d38ba375435aaca33b23082e8444",
       "version_major": 2,
       "version_minor": 0
      },
      "text/plain": [
       "Backtest.optimize:   0%|          | 0/3 [00:00<?, ?it/s]"
      ]
     },
     "metadata": {},
     "output_type": "display_data"
    },
    {
     "name": "stdout",
     "output_type": "stream",
     "text": [
      "Running backtest for HD\n",
      "[*********************100%***********************]  1 of 1 completed\n"
     ]
    },
    {
     "data": {
      "application/vnd.jupyter.widget-view+json": {
       "model_id": "c96ecd8cbd74413da6662ac6eba379de",
       "version_major": 2,
       "version_minor": 0
      },
      "text/plain": [
       "Backtest.optimize:   0%|          | 0/3 [00:00<?, ?it/s]"
      ]
     },
     "metadata": {},
     "output_type": "display_data"
    },
    {
     "name": "stdout",
     "output_type": "stream",
     "text": [
      "Running backtest for HON\n",
      "[*********************100%***********************]  1 of 1 completed\n"
     ]
    },
    {
     "data": {
      "application/vnd.jupyter.widget-view+json": {
       "model_id": "aab0adf0e70e4883978dad3b22709e87",
       "version_major": 2,
       "version_minor": 0
      },
      "text/plain": [
       "Backtest.optimize:   0%|          | 0/3 [00:00<?, ?it/s]"
      ]
     },
     "metadata": {},
     "output_type": "display_data"
    },
    {
     "name": "stdout",
     "output_type": "stream",
     "text": [
      "Running backtest for IBM\n",
      "[*********************100%***********************]  1 of 1 completed\n"
     ]
    },
    {
     "data": {
      "application/vnd.jupyter.widget-view+json": {
       "model_id": "346c25c5352d48a0a6ab300aedf6c7af",
       "version_major": 2,
       "version_minor": 0
      },
      "text/plain": [
       "Backtest.optimize:   0%|          | 0/3 [00:00<?, ?it/s]"
      ]
     },
     "metadata": {},
     "output_type": "display_data"
    },
    {
     "name": "stdout",
     "output_type": "stream",
     "text": [
      "Running backtest for INTC\n",
      "[*********************100%***********************]  1 of 1 completed\n"
     ]
    },
    {
     "data": {
      "application/vnd.jupyter.widget-view+json": {
       "model_id": "46ce0a453e634015bfa51ce31a5cb8ea",
       "version_major": 2,
       "version_minor": 0
      },
      "text/plain": [
       "Backtest.optimize:   0%|          | 0/3 [00:00<?, ?it/s]"
      ]
     },
     "metadata": {},
     "output_type": "display_data"
    },
    {
     "name": "stdout",
     "output_type": "stream",
     "text": [
      "Running backtest for JNJ\n",
      "[*********************100%***********************]  1 of 1 completed\n"
     ]
    },
    {
     "data": {
      "application/vnd.jupyter.widget-view+json": {
       "model_id": "dc290f89e8c1434a95d6a0503b14f13a",
       "version_major": 2,
       "version_minor": 0
      },
      "text/plain": [
       "Backtest.optimize:   0%|          | 0/3 [00:00<?, ?it/s]"
      ]
     },
     "metadata": {},
     "output_type": "display_data"
    },
    {
     "name": "stdout",
     "output_type": "stream",
     "text": [
      "Running backtest for JPM\n",
      "[*********************100%***********************]  1 of 1 completed\n"
     ]
    },
    {
     "data": {
      "application/vnd.jupyter.widget-view+json": {
       "model_id": "38da7c7e86c44561aef1f9ac546bad73",
       "version_major": 2,
       "version_minor": 0
      },
      "text/plain": [
       "Backtest.optimize:   0%|          | 0/3 [00:00<?, ?it/s]"
      ]
     },
     "metadata": {},
     "output_type": "display_data"
    },
    {
     "name": "stdout",
     "output_type": "stream",
     "text": [
      "Running backtest for KHC\n",
      "[*********************100%***********************]  1 of 1 completed\n"
     ]
    },
    {
     "data": {
      "application/vnd.jupyter.widget-view+json": {
       "model_id": "9ae6f5018e824ed2a3fc5d2f21d4361d",
       "version_major": 2,
       "version_minor": 0
      },
      "text/plain": [
       "Backtest.optimize:   0%|          | 0/3 [00:00<?, ?it/s]"
      ]
     },
     "metadata": {},
     "output_type": "display_data"
    },
    {
     "name": "stdout",
     "output_type": "stream",
     "text": [
      "Running backtest for KO\n",
      "[*********************100%***********************]  1 of 1 completed\n"
     ]
    },
    {
     "data": {
      "application/vnd.jupyter.widget-view+json": {
       "model_id": "1be7c037408b4cf7ae304e6bcb77eea4",
       "version_major": 2,
       "version_minor": 0
      },
      "text/plain": [
       "Backtest.optimize:   0%|          | 0/3 [00:00<?, ?it/s]"
      ]
     },
     "metadata": {},
     "output_type": "display_data"
    },
    {
     "name": "stdout",
     "output_type": "stream",
     "text": [
      "Running backtest for LIN\n",
      "[*********************100%***********************]  1 of 1 completed\n"
     ]
    },
    {
     "data": {
      "application/vnd.jupyter.widget-view+json": {
       "model_id": "4bdd3c4e89524abc9919d028309213a8",
       "version_major": 2,
       "version_minor": 0
      },
      "text/plain": [
       "Backtest.optimize:   0%|          | 0/3 [00:00<?, ?it/s]"
      ]
     },
     "metadata": {},
     "output_type": "display_data"
    },
    {
     "name": "stdout",
     "output_type": "stream",
     "text": [
      "Running backtest for LLY\n",
      "[*********************100%***********************]  1 of 1 completed\n"
     ]
    },
    {
     "data": {
      "application/vnd.jupyter.widget-view+json": {
       "model_id": "e0467baecb1b4be895fdbf8f5efdf81a",
       "version_major": 2,
       "version_minor": 0
      },
      "text/plain": [
       "Backtest.optimize:   0%|          | 0/3 [00:00<?, ?it/s]"
      ]
     },
     "metadata": {},
     "output_type": "display_data"
    },
    {
     "name": "stdout",
     "output_type": "stream",
     "text": [
      "Running backtest for LMT\n",
      "[*********************100%***********************]  1 of 1 completed\n"
     ]
    },
    {
     "data": {
      "application/vnd.jupyter.widget-view+json": {
       "model_id": "db7325f8517548ae9eac7857029f6e6d",
       "version_major": 2,
       "version_minor": 0
      },
      "text/plain": [
       "Backtest.optimize:   0%|          | 0/3 [00:00<?, ?it/s]"
      ]
     },
     "metadata": {},
     "output_type": "display_data"
    },
    {
     "name": "stdout",
     "output_type": "stream",
     "text": [
      "Running backtest for LOW\n",
      "[*********************100%***********************]  1 of 1 completed\n"
     ]
    },
    {
     "data": {
      "application/vnd.jupyter.widget-view+json": {
       "model_id": "9bebc98b4d3a43139688d641467414c5",
       "version_major": 2,
       "version_minor": 0
      },
      "text/plain": [
       "Backtest.optimize:   0%|          | 0/3 [00:00<?, ?it/s]"
      ]
     },
     "metadata": {},
     "output_type": "display_data"
    },
    {
     "name": "stdout",
     "output_type": "stream",
     "text": [
      "Running backtest for MA\n",
      "[*********************100%***********************]  1 of 1 completed\n"
     ]
    },
    {
     "data": {
      "application/vnd.jupyter.widget-view+json": {
       "model_id": "9cb9e24afa56492d84ac54578b570ecf",
       "version_major": 2,
       "version_minor": 0
      },
      "text/plain": [
       "Backtest.optimize:   0%|          | 0/3 [00:00<?, ?it/s]"
      ]
     },
     "metadata": {},
     "output_type": "display_data"
    },
    {
     "name": "stdout",
     "output_type": "stream",
     "text": [
      "Running backtest for MCD\n",
      "[*********************100%***********************]  1 of 1 completed\n"
     ]
    },
    {
     "data": {
      "application/vnd.jupyter.widget-view+json": {
       "model_id": "ee5f4c551bad42e692f4ba8563cd22df",
       "version_major": 2,
       "version_minor": 0
      },
      "text/plain": [
       "Backtest.optimize:   0%|          | 0/3 [00:00<?, ?it/s]"
      ]
     },
     "metadata": {},
     "output_type": "display_data"
    },
    {
     "name": "stdout",
     "output_type": "stream",
     "text": [
      "Running backtest for MDLZ\n",
      "[*********************100%***********************]  1 of 1 completed\n"
     ]
    },
    {
     "data": {
      "application/vnd.jupyter.widget-view+json": {
       "model_id": "8c20d6a953884435935d28f032cdf44f",
       "version_major": 2,
       "version_minor": 0
      },
      "text/plain": [
       "Backtest.optimize:   0%|          | 0/3 [00:00<?, ?it/s]"
      ]
     },
     "metadata": {},
     "output_type": "display_data"
    },
    {
     "name": "stdout",
     "output_type": "stream",
     "text": [
      "Running backtest for MDT\n",
      "[*********************100%***********************]  1 of 1 completed\n"
     ]
    },
    {
     "data": {
      "application/vnd.jupyter.widget-view+json": {
       "model_id": "410acdc3b4464c678d34ac451ff3d1c1",
       "version_major": 2,
       "version_minor": 0
      },
      "text/plain": [
       "Backtest.optimize:   0%|          | 0/3 [00:00<?, ?it/s]"
      ]
     },
     "metadata": {},
     "output_type": "display_data"
    },
    {
     "name": "stdout",
     "output_type": "stream",
     "text": [
      "Running backtest for MET\n",
      "[*********************100%***********************]  1 of 1 completed\n"
     ]
    },
    {
     "data": {
      "application/vnd.jupyter.widget-view+json": {
       "model_id": "92fa3f9236a3407cad1a0445f9a71235",
       "version_major": 2,
       "version_minor": 0
      },
      "text/plain": [
       "Backtest.optimize:   0%|          | 0/3 [00:00<?, ?it/s]"
      ]
     },
     "metadata": {},
     "output_type": "display_data"
    },
    {
     "name": "stdout",
     "output_type": "stream",
     "text": [
      "Running backtest for META\n",
      "[*********************100%***********************]  1 of 1 completed\n"
     ]
    },
    {
     "data": {
      "application/vnd.jupyter.widget-view+json": {
       "model_id": "aa4b98eb69844c8bbdc5a7df76b32abb",
       "version_major": 2,
       "version_minor": 0
      },
      "text/plain": [
       "Backtest.optimize:   0%|          | 0/3 [00:00<?, ?it/s]"
      ]
     },
     "metadata": {},
     "output_type": "display_data"
    },
    {
     "name": "stdout",
     "output_type": "stream",
     "text": [
      "Running backtest for MMM\n",
      "[*********************100%***********************]  1 of 1 completed\n"
     ]
    },
    {
     "data": {
      "application/vnd.jupyter.widget-view+json": {
       "model_id": "5f69fc7eb3a04337b413d9c86c09d1fe",
       "version_major": 2,
       "version_minor": 0
      },
      "text/plain": [
       "Backtest.optimize:   0%|          | 0/3 [00:00<?, ?it/s]"
      ]
     },
     "metadata": {},
     "output_type": "display_data"
    },
    {
     "name": "stdout",
     "output_type": "stream",
     "text": [
      "Running backtest for MRK\n",
      "[*********************100%***********************]  1 of 1 completed\n"
     ]
    },
    {
     "data": {
      "application/vnd.jupyter.widget-view+json": {
       "model_id": "9faa10f654594d2989cb6761e748500e",
       "version_major": 2,
       "version_minor": 0
      },
      "text/plain": [
       "Backtest.optimize:   0%|          | 0/3 [00:00<?, ?it/s]"
      ]
     },
     "metadata": {},
     "output_type": "display_data"
    },
    {
     "name": "stdout",
     "output_type": "stream",
     "text": [
      "Running backtest for MS\n",
      "[*********************100%***********************]  1 of 1 completed\n"
     ]
    },
    {
     "data": {
      "application/vnd.jupyter.widget-view+json": {
       "model_id": "0fd4d7785181432196b7d1e8f7d23087",
       "version_major": 2,
       "version_minor": 0
      },
      "text/plain": [
       "Backtest.optimize:   0%|          | 0/3 [00:00<?, ?it/s]"
      ]
     },
     "metadata": {},
     "output_type": "display_data"
    },
    {
     "name": "stdout",
     "output_type": "stream",
     "text": [
      "Running backtest for MSFT\n",
      "[*********************100%***********************]  1 of 1 completed\n"
     ]
    },
    {
     "data": {
      "application/vnd.jupyter.widget-view+json": {
       "model_id": "12328932d917406eb26031b88ac19887",
       "version_major": 2,
       "version_minor": 0
      },
      "text/plain": [
       "Backtest.optimize:   0%|          | 0/3 [00:00<?, ?it/s]"
      ]
     },
     "metadata": {},
     "output_type": "display_data"
    },
    {
     "name": "stdout",
     "output_type": "stream",
     "text": [
      "Running backtest for NEE\n",
      "[*********************100%***********************]  1 of 1 completed\n"
     ]
    },
    {
     "data": {
      "application/vnd.jupyter.widget-view+json": {
       "model_id": "a19b7e6121c1486aaed79cc454c1a2f8",
       "version_major": 2,
       "version_minor": 0
      },
      "text/plain": [
       "Backtest.optimize:   0%|          | 0/3 [00:00<?, ?it/s]"
      ]
     },
     "metadata": {},
     "output_type": "display_data"
    },
    {
     "name": "stdout",
     "output_type": "stream",
     "text": [
      "Running backtest for NFLX\n",
      "[*********************100%***********************]  1 of 1 completed\n"
     ]
    },
    {
     "data": {
      "application/vnd.jupyter.widget-view+json": {
       "model_id": "3e4707820af84656b5d899cbf4e750c2",
       "version_major": 2,
       "version_minor": 0
      },
      "text/plain": [
       "Backtest.optimize:   0%|          | 0/3 [00:00<?, ?it/s]"
      ]
     },
     "metadata": {},
     "output_type": "display_data"
    },
    {
     "name": "stdout",
     "output_type": "stream",
     "text": [
      "Running backtest for NKE\n",
      "[*********************100%***********************]  1 of 1 completed\n"
     ]
    },
    {
     "data": {
      "application/vnd.jupyter.widget-view+json": {
       "model_id": "a9dc4a87341345ed865ef48e2e92e281",
       "version_major": 2,
       "version_minor": 0
      },
      "text/plain": [
       "Backtest.optimize:   0%|          | 0/3 [00:00<?, ?it/s]"
      ]
     },
     "metadata": {},
     "output_type": "display_data"
    },
    {
     "name": "stdout",
     "output_type": "stream",
     "text": [
      "Running backtest for NVDA\n",
      "[*********************100%***********************]  1 of 1 completed\n"
     ]
    },
    {
     "data": {
      "application/vnd.jupyter.widget-view+json": {
       "model_id": "d007211e958b4b12969a85793e1b33d6",
       "version_major": 2,
       "version_minor": 0
      },
      "text/plain": [
       "Backtest.optimize:   0%|          | 0/3 [00:00<?, ?it/s]"
      ]
     },
     "metadata": {},
     "output_type": "display_data"
    },
    {
     "name": "stdout",
     "output_type": "stream",
     "text": [
      "Running backtest for ORCL\n",
      "[*********************100%***********************]  1 of 1 completed\n"
     ]
    },
    {
     "data": {
      "application/vnd.jupyter.widget-view+json": {
       "model_id": "8b2d814a39cb4e238abc6d657605a136",
       "version_major": 2,
       "version_minor": 0
      },
      "text/plain": [
       "Backtest.optimize:   0%|          | 0/3 [00:00<?, ?it/s]"
      ]
     },
     "metadata": {},
     "output_type": "display_data"
    },
    {
     "name": "stdout",
     "output_type": "stream",
     "text": [
      "Running backtest for PEP\n",
      "[*********************100%***********************]  1 of 1 completed\n"
     ]
    },
    {
     "data": {
      "application/vnd.jupyter.widget-view+json": {
       "model_id": "7423fb62877f4253ae68b11efa4dcce9",
       "version_major": 2,
       "version_minor": 0
      },
      "text/plain": [
       "Backtest.optimize:   0%|          | 0/3 [00:00<?, ?it/s]"
      ]
     },
     "metadata": {},
     "output_type": "display_data"
    },
    {
     "name": "stdout",
     "output_type": "stream",
     "text": [
      "Running backtest for PFE\n",
      "[*********************100%***********************]  1 of 1 completed\n"
     ]
    },
    {
     "data": {
      "application/vnd.jupyter.widget-view+json": {
       "model_id": "41248152097743d793576be120e578d1",
       "version_major": 2,
       "version_minor": 0
      },
      "text/plain": [
       "Backtest.optimize:   0%|          | 0/3 [00:00<?, ?it/s]"
      ]
     },
     "metadata": {},
     "output_type": "display_data"
    },
    {
     "name": "stdout",
     "output_type": "stream",
     "text": [
      "Running backtest for PG\n",
      "[*********************100%***********************]  1 of 1 completed\n"
     ]
    },
    {
     "data": {
      "application/vnd.jupyter.widget-view+json": {
       "model_id": "089b81ff8d7441209ff49604768371fe",
       "version_major": 2,
       "version_minor": 0
      },
      "text/plain": [
       "Backtest.optimize:   0%|          | 0/3 [00:00<?, ?it/s]"
      ]
     },
     "metadata": {},
     "output_type": "display_data"
    },
    {
     "name": "stdout",
     "output_type": "stream",
     "text": [
      "Running backtest for PM\n",
      "[*********************100%***********************]  1 of 1 completed\n"
     ]
    },
    {
     "data": {
      "application/vnd.jupyter.widget-view+json": {
       "model_id": "02f6e3743f384dafb177728ec6428795",
       "version_major": 2,
       "version_minor": 0
      },
      "text/plain": [
       "Backtest.optimize:   0%|          | 0/3 [00:00<?, ?it/s]"
      ]
     },
     "metadata": {},
     "output_type": "display_data"
    },
    {
     "name": "stdout",
     "output_type": "stream",
     "text": [
      "Running backtest for PYPL\n",
      "[*********************100%***********************]  1 of 1 completed\n"
     ]
    },
    {
     "data": {
      "application/vnd.jupyter.widget-view+json": {
       "model_id": "9721323907c643c184519d681f0c7427",
       "version_major": 2,
       "version_minor": 0
      },
      "text/plain": [
       "Backtest.optimize:   0%|          | 0/3 [00:00<?, ?it/s]"
      ]
     },
     "metadata": {},
     "output_type": "display_data"
    },
    {
     "name": "stdout",
     "output_type": "stream",
     "text": [
      "Running backtest for QCOM\n",
      "[*********************100%***********************]  1 of 1 completed\n"
     ]
    },
    {
     "data": {
      "application/vnd.jupyter.widget-view+json": {
       "model_id": "b5f6b0fa335f4b91805943f155f4e985",
       "version_major": 2,
       "version_minor": 0
      },
      "text/plain": [
       "Backtest.optimize:   0%|          | 0/3 [00:00<?, ?it/s]"
      ]
     },
     "metadata": {},
     "output_type": "display_data"
    },
    {
     "name": "stdout",
     "output_type": "stream",
     "text": [
      "Running backtest for RTX\n",
      "[*********************100%***********************]  1 of 1 completed\n"
     ]
    },
    {
     "data": {
      "application/vnd.jupyter.widget-view+json": {
       "model_id": "75ed50171b89452d84b5335bc14f69c9",
       "version_major": 2,
       "version_minor": 0
      },
      "text/plain": [
       "Backtest.optimize:   0%|          | 0/3 [00:00<?, ?it/s]"
      ]
     },
     "metadata": {},
     "output_type": "display_data"
    },
    {
     "name": "stdout",
     "output_type": "stream",
     "text": [
      "Running backtest for SBUX\n",
      "[*********************100%***********************]  1 of 1 completed\n"
     ]
    },
    {
     "data": {
      "application/vnd.jupyter.widget-view+json": {
       "model_id": "18100463fac245b5b3ab5540322d88c2",
       "version_major": 2,
       "version_minor": 0
      },
      "text/plain": [
       "Backtest.optimize:   0%|          | 0/3 [00:00<?, ?it/s]"
      ]
     },
     "metadata": {},
     "output_type": "display_data"
    },
    {
     "name": "stdout",
     "output_type": "stream",
     "text": [
      "Running backtest for SCHW\n",
      "[*********************100%***********************]  1 of 1 completed\n"
     ]
    },
    {
     "data": {
      "application/vnd.jupyter.widget-view+json": {
       "model_id": "0c2a4203fce4406fa3ae36ce0bb2ed2b",
       "version_major": 2,
       "version_minor": 0
      },
      "text/plain": [
       "Backtest.optimize:   0%|          | 0/3 [00:00<?, ?it/s]"
      ]
     },
     "metadata": {},
     "output_type": "display_data"
    },
    {
     "name": "stdout",
     "output_type": "stream",
     "text": [
      "Running backtest for SO\n",
      "[*********************100%***********************]  1 of 1 completed\n"
     ]
    },
    {
     "data": {
      "application/vnd.jupyter.widget-view+json": {
       "model_id": "8fa52a2c6d7c40df9f6298caaea55206",
       "version_major": 2,
       "version_minor": 0
      },
      "text/plain": [
       "Backtest.optimize:   0%|          | 0/3 [00:00<?, ?it/s]"
      ]
     },
     "metadata": {},
     "output_type": "display_data"
    },
    {
     "name": "stdout",
     "output_type": "stream",
     "text": [
      "Running backtest for SPGI\n",
      "[*********************100%***********************]  1 of 1 completed\n"
     ]
    },
    {
     "data": {
      "application/vnd.jupyter.widget-view+json": {
       "model_id": "fa5c9d416ee349e5b3101eb3b1482111",
       "version_major": 2,
       "version_minor": 0
      },
      "text/plain": [
       "Backtest.optimize:   0%|          | 0/3 [00:00<?, ?it/s]"
      ]
     },
     "metadata": {},
     "output_type": "display_data"
    },
    {
     "name": "stdout",
     "output_type": "stream",
     "text": [
      "Running backtest for T\n",
      "[*********************100%***********************]  1 of 1 completed\n"
     ]
    },
    {
     "data": {
      "application/vnd.jupyter.widget-view+json": {
       "model_id": "49e27eca2b2749c7a1eb8d03a242b1ea",
       "version_major": 2,
       "version_minor": 0
      },
      "text/plain": [
       "Backtest.optimize:   0%|          | 0/3 [00:00<?, ?it/s]"
      ]
     },
     "metadata": {},
     "output_type": "display_data"
    },
    {
     "name": "stdout",
     "output_type": "stream",
     "text": [
      "Running backtest for TGT\n",
      "[*********************100%***********************]  1 of 1 completed\n"
     ]
    },
    {
     "data": {
      "application/vnd.jupyter.widget-view+json": {
       "model_id": "8efcc2162b8d47a68ec1d2b5b0ad0714",
       "version_major": 2,
       "version_minor": 0
      },
      "text/plain": [
       "Backtest.optimize:   0%|          | 0/3 [00:00<?, ?it/s]"
      ]
     },
     "metadata": {},
     "output_type": "display_data"
    },
    {
     "name": "stdout",
     "output_type": "stream",
     "text": [
      "Running backtest for TMO\n",
      "[*********************100%***********************]  1 of 1 completed\n"
     ]
    },
    {
     "data": {
      "application/vnd.jupyter.widget-view+json": {
       "model_id": "c23f03f3450f44978f15ec376a866814",
       "version_major": 2,
       "version_minor": 0
      },
      "text/plain": [
       "Backtest.optimize:   0%|          | 0/3 [00:00<?, ?it/s]"
      ]
     },
     "metadata": {},
     "output_type": "display_data"
    },
    {
     "name": "stdout",
     "output_type": "stream",
     "text": [
      "Running backtest for TMUS\n",
      "[*********************100%***********************]  1 of 1 completed\n"
     ]
    },
    {
     "data": {
      "application/vnd.jupyter.widget-view+json": {
       "model_id": "a55576252fd94b1990df11d3771f33eb",
       "version_major": 2,
       "version_minor": 0
      },
      "text/plain": [
       "Backtest.optimize:   0%|          | 0/3 [00:00<?, ?it/s]"
      ]
     },
     "metadata": {},
     "output_type": "display_data"
    },
    {
     "name": "stdout",
     "output_type": "stream",
     "text": [
      "Running backtest for TSLA\n",
      "[*********************100%***********************]  1 of 1 completed\n"
     ]
    },
    {
     "data": {
      "application/vnd.jupyter.widget-view+json": {
       "model_id": "6569fd63fc4e4c71b57dcdfa281f843f",
       "version_major": 2,
       "version_minor": 0
      },
      "text/plain": [
       "Backtest.optimize:   0%|          | 0/3 [00:00<?, ?it/s]"
      ]
     },
     "metadata": {},
     "output_type": "display_data"
    },
    {
     "name": "stdout",
     "output_type": "stream",
     "text": [
      "Running backtest for TXN\n",
      "[*********************100%***********************]  1 of 1 completed\n"
     ]
    },
    {
     "data": {
      "application/vnd.jupyter.widget-view+json": {
       "model_id": "0c895e7b12ff4db0825499e09b0aefe1",
       "version_major": 2,
       "version_minor": 0
      },
      "text/plain": [
       "Backtest.optimize:   0%|          | 0/3 [00:00<?, ?it/s]"
      ]
     },
     "metadata": {},
     "output_type": "display_data"
    },
    {
     "name": "stdout",
     "output_type": "stream",
     "text": [
      "Running backtest for UNH\n",
      "[*********************100%***********************]  1 of 1 completed\n"
     ]
    },
    {
     "data": {
      "application/vnd.jupyter.widget-view+json": {
       "model_id": "96bef5be32324bf48930ecc59e9f0327",
       "version_major": 2,
       "version_minor": 0
      },
      "text/plain": [
       "Backtest.optimize:   0%|          | 0/3 [00:00<?, ?it/s]"
      ]
     },
     "metadata": {},
     "output_type": "display_data"
    },
    {
     "name": "stdout",
     "output_type": "stream",
     "text": [
      "Running backtest for UNP\n",
      "[*********************100%***********************]  1 of 1 completed\n"
     ]
    },
    {
     "data": {
      "application/vnd.jupyter.widget-view+json": {
       "model_id": "06e63cb5e2544492999a72e332ea083e",
       "version_major": 2,
       "version_minor": 0
      },
      "text/plain": [
       "Backtest.optimize:   0%|          | 0/3 [00:00<?, ?it/s]"
      ]
     },
     "metadata": {},
     "output_type": "display_data"
    },
    {
     "name": "stdout",
     "output_type": "stream",
     "text": [
      "Running backtest for UPS\n",
      "[*********************100%***********************]  1 of 1 completed\n"
     ]
    },
    {
     "data": {
      "application/vnd.jupyter.widget-view+json": {
       "model_id": "9a08a09205154105a704627ec83722a2",
       "version_major": 2,
       "version_minor": 0
      },
      "text/plain": [
       "Backtest.optimize:   0%|          | 0/3 [00:00<?, ?it/s]"
      ]
     },
     "metadata": {},
     "output_type": "display_data"
    },
    {
     "name": "stdout",
     "output_type": "stream",
     "text": [
      "Running backtest for V\n",
      "[*********************100%***********************]  1 of 1 completed\n"
     ]
    },
    {
     "data": {
      "application/vnd.jupyter.widget-view+json": {
       "model_id": "6fc5256495e84a249aeb391686c9592b",
       "version_major": 2,
       "version_minor": 0
      },
      "text/plain": [
       "Backtest.optimize:   0%|          | 0/3 [00:00<?, ?it/s]"
      ]
     },
     "metadata": {},
     "output_type": "display_data"
    },
    {
     "name": "stdout",
     "output_type": "stream",
     "text": [
      "Running backtest for VZ\n",
      "[*********************100%***********************]  1 of 1 completed\n"
     ]
    },
    {
     "data": {
      "application/vnd.jupyter.widget-view+json": {
       "model_id": "a2f21ea65e194efda96e8468ae87b5bd",
       "version_major": 2,
       "version_minor": 0
      },
      "text/plain": [
       "Backtest.optimize:   0%|          | 0/3 [00:00<?, ?it/s]"
      ]
     },
     "metadata": {},
     "output_type": "display_data"
    },
    {
     "name": "stdout",
     "output_type": "stream",
     "text": [
      "Running backtest for WBA\n",
      "[*********************100%***********************]  1 of 1 completed\n"
     ]
    },
    {
     "data": {
      "application/vnd.jupyter.widget-view+json": {
       "model_id": "efd9ec463c74459895f6870324b5063b",
       "version_major": 2,
       "version_minor": 0
      },
      "text/plain": [
       "Backtest.optimize:   0%|          | 0/3 [00:00<?, ?it/s]"
      ]
     },
     "metadata": {},
     "output_type": "display_data"
    },
    {
     "name": "stdout",
     "output_type": "stream",
     "text": [
      "Running backtest for WFC\n",
      "[*********************100%***********************]  1 of 1 completed\n"
     ]
    },
    {
     "data": {
      "application/vnd.jupyter.widget-view+json": {
       "model_id": "f87a09a009844b5e99a3be93df3a803a",
       "version_major": 2,
       "version_minor": 0
      },
      "text/plain": [
       "Backtest.optimize:   0%|          | 0/3 [00:00<?, ?it/s]"
      ]
     },
     "metadata": {},
     "output_type": "display_data"
    },
    {
     "name": "stdout",
     "output_type": "stream",
     "text": [
      "Running backtest for WMT\n",
      "[*********************100%***********************]  1 of 1 completed\n"
     ]
    },
    {
     "data": {
      "application/vnd.jupyter.widget-view+json": {
       "model_id": "583cef67b7e44d3c9e19d3bc4ba9ac5c",
       "version_major": 2,
       "version_minor": 0
      },
      "text/plain": [
       "Backtest.optimize:   0%|          | 0/3 [00:00<?, ?it/s]"
      ]
     },
     "metadata": {},
     "output_type": "display_data"
    },
    {
     "name": "stdout",
     "output_type": "stream",
     "text": [
      "Running backtest for XOM\n",
      "[*********************100%***********************]  1 of 1 completed\n"
     ]
    },
    {
     "data": {
      "application/vnd.jupyter.widget-view+json": {
       "model_id": "7280925911c8406ba174be7d8e0ecc22",
       "version_major": 2,
       "version_minor": 0
      },
      "text/plain": [
       "Backtest.optimize:   0%|          | 0/3 [00:00<?, ?it/s]"
      ]
     },
     "metadata": {},
     "output_type": "display_data"
    },
    {
     "name": "stdout",
     "output_type": "stream",
     "text": [
      "Average Optimal Parameters for SPY100:\n",
      "Median short EMA period: 5.0\n",
      "Average Statistics for SPY100 30:\n",
      "Exposure Time [%]           52.687706\n",
      "Equity Final [$]         34962.259344\n",
      "Equity Peak [$]          40352.394952\n",
      "Return [%]                 249.622593\n",
      "Buy & Hold Return [%]     1225.275635\n",
      "Return (Ann.) [%]            7.094865\n",
      "Volatility (Ann.) [%]       21.460940\n",
      "Sharpe Ratio                 0.344900\n",
      "Sortino Ratio                0.565080\n",
      "Calmar Ratio                 0.202854\n",
      "Max. Drawdown [%]          -43.312496\n",
      "Avg. Drawdown [%]           -4.199222\n",
      "# Trades                   275.957895\n",
      "Win Rate [%]                69.781624\n",
      "Best Trade [%]              11.835306\n",
      "Worst Trade [%]            -20.333306\n",
      "Avg. Trade [%]               0.411117\n",
      "Profit Factor                1.933235\n",
      "Expectancy [%]               0.466315\n",
      "SQN                          2.121986\n",
      "dtype: float64\n",
      "AAPL: Optimal short EMA period: 5\n",
      "ABBV: Optimal short EMA period: 22\n",
      "ABT: Optimal short EMA period: 25\n",
      "ACN: Optimal short EMA period: 5\n",
      "ADBE: Optimal short EMA period: 5\n",
      "AIG: Optimal short EMA period: 29\n",
      "ALL: Optimal short EMA period: 5\n",
      "AMGN: Optimal short EMA period: 5\n",
      "AMT: Optimal short EMA period: 26\n",
      "AMZN: Optimal short EMA period: 5\n",
      "AVGO: Optimal short EMA period: 28\n",
      "AXP: Optimal short EMA period: 5\n",
      "BA: Optimal short EMA period: 5\n",
      "BAC: Optimal short EMA period: 5\n",
      "BK: Optimal short EMA period: 5\n",
      "BKNG: Optimal short EMA period: 5\n",
      "BLK: Optimal short EMA period: 5\n",
      "BMY: Optimal short EMA period: 5\n",
      "C: Optimal short EMA period: 5\n",
      "CAT: Optimal short EMA period: 5\n",
      "CHTR: Optimal short EMA period: 5\n",
      "CL: Optimal short EMA period: 5\n",
      "CMCSA: Optimal short EMA period: 5\n",
      "COF: Optimal short EMA period: 5\n",
      "COP: Optimal short EMA period: 5\n",
      "COST: Optimal short EMA period: 5\n",
      "CSCO: Optimal short EMA period: 5\n",
      "CVS: Optimal short EMA period: 5\n",
      "CVX: Optimal short EMA period: 28\n",
      "DHR: Optimal short EMA period: 5\n",
      "DIS: Optimal short EMA period: 5\n",
      "DUK: Optimal short EMA period: 5\n",
      "EMR: Optimal short EMA period: 5\n",
      "EXC: Optimal short EMA period: 5\n",
      "F: Optimal short EMA period: 5\n",
      "FDX: Optimal short EMA period: 5\n",
      "GD: Optimal short EMA period: 5\n",
      "GE: Optimal short EMA period: 5\n",
      "GILD: Optimal short EMA period: 19\n",
      "GM: Optimal short EMA period: 5\n",
      "GOOGL: Optimal short EMA period: 24\n",
      "GS: Optimal short EMA period: 5\n",
      "HD: Optimal short EMA period: 5\n",
      "HON: Optimal short EMA period: 5\n",
      "IBM: Optimal short EMA period: 5\n",
      "INTC: Optimal short EMA period: 5\n",
      "JNJ: Optimal short EMA period: 5\n",
      "JPM: Optimal short EMA period: 5\n",
      "KHC: Optimal short EMA period: 5\n",
      "KO: Optimal short EMA period: 5\n",
      "LIN: Optimal short EMA period: 5\n",
      "LLY: Optimal short EMA period: 5\n",
      "LMT: Optimal short EMA period: 5\n",
      "LOW: Optimal short EMA period: 5\n",
      "MA: Optimal short EMA period: 26\n",
      "MCD: Optimal short EMA period: 5\n",
      "MDLZ: Optimal short EMA period: 5\n",
      "MDT: Optimal short EMA period: 5\n",
      "MET: Optimal short EMA period: 5\n",
      "META: Optimal short EMA period: 28\n",
      "MMM: Optimal short EMA period: 5\n",
      "MRK: Optimal short EMA period: 5\n",
      "MS: Optimal short EMA period: 5\n",
      "MSFT: Optimal short EMA period: 21\n",
      "NEE: Optimal short EMA period: 5\n",
      "NFLX: Optimal short EMA period: 19\n",
      "NKE: Optimal short EMA period: 5\n",
      "NVDA: Optimal short EMA period: 5\n",
      "ORCL: Optimal short EMA period: 5\n",
      "PEP: Optimal short EMA period: 5\n",
      "PFE: Optimal short EMA period: 5\n",
      "PG: Optimal short EMA period: 5\n",
      "PM: Optimal short EMA period: 5\n",
      "PYPL: Optimal short EMA period: 5\n",
      "QCOM: Optimal short EMA period: 13\n",
      "RTX: Optimal short EMA period: 5\n",
      "SBUX: Optimal short EMA period: 5\n",
      "SCHW: Optimal short EMA period: 5\n",
      "SO: Optimal short EMA period: 5\n",
      "SPGI: Optimal short EMA period: 16\n",
      "T: Optimal short EMA period: 5\n",
      "TGT: Optimal short EMA period: 5\n",
      "TMO: Optimal short EMA period: 20\n",
      "TMUS: Optimal short EMA period: 27\n",
      "TSLA: Optimal short EMA period: 5\n",
      "TXN: Optimal short EMA period: 5\n",
      "UNH: Optimal short EMA period: 5\n",
      "UNP: Optimal short EMA period: 21\n",
      "UPS: Optimal short EMA period: 29\n",
      "V: Optimal short EMA period: 28\n",
      "VZ: Optimal short EMA period: 5\n",
      "WBA: Optimal short EMA period: 5\n",
      "WFC: Optimal short EMA period: 5\n",
      "WMT: Optimal short EMA period: 5\n",
      "XOM: Optimal short EMA period: 5\n"
     ]
    }
   ],
   "source": [
    "# Define the list of SP_100 stocks\n",
    "sp_100 = [\n",
    "    \"AAPL\", \"ABBV\", \"ABT\", \"ACN\", \"ADBE\", \"AIG\", \"ALL\", \"AMGN\", \"AMT\", \"AMZN\", \n",
    "    \"AVGO\", \"AXP\", \"BA\", \"BAC\", \"BK\", \"BKNG\", \"BLK\", \"BMY\", \"C\", \n",
    "    \"CAT\", \"CHTR\", \"CL\", \"CMCSA\", \"COF\", \"COP\", \"COST\", \"CSCO\", \"CVS\", \"CVX\", \n",
    "    \"DHR\", \"DIS\", \"DUK\", \"EMR\", \"EXC\", \"F\", \"FDX\", \"GD\", \"GE\", \"GILD\", \n",
    "    \"GM\", \"GOOGL\", \"GS\", \"HD\", \"HON\", \"IBM\", \"INTC\", \"JNJ\", \"JPM\", \"KHC\", \n",
    "    \"KO\", \"LIN\", \"LLY\", \"LMT\", \"LOW\", \"MA\", \"MCD\", \"MDLZ\", \"MDT\", \"MET\", \n",
    "    \"META\", \"MMM\", \"MRK\", \"MS\", \"MSFT\", \"NEE\", \"NFLX\", \"NKE\", \"NVDA\", \"ORCL\", \n",
    "    \"PEP\", \"PFE\", \"PG\", \"PM\", \"PYPL\", \"QCOM\", \"RTX\", \"SBUX\", \"SCHW\", \"SO\", \n",
    "    \"SPGI\", \"T\", \"TGT\", \"TMO\", \"TMUS\", \"TSLA\", \"TXN\", \"UNH\", \"UNP\", \"UPS\", \n",
    "    \"V\", \"VZ\", \"WBA\", \"WFC\", \"WMT\", \"XOM\"\n",
    "]\n",
    "\n",
    "# Function to optimize\n",
    "def optim_func(series):\n",
    "    if series[\"Win Rate [%]\"] < 80:\n",
    "        return -1\n",
    "    return series[\"Sortino Ratio\"]\n",
    "\n",
    "# Strategy class\n",
    "# Mean reversion trade ,if price is above long moving average it buys when it closes below short term EMA\n",
    "class EmaOscillator(Strategy):\n",
    "    short_ema_period = 20\n",
    "    long_ema_period = 233\n",
    "\n",
    "    def init(self):\n",
    "        self.short_ema = self.I(talib.EMA, self.data.Close, self.short_ema_period)\n",
    "        self.long_ema = self.I(talib.EMA, self.data.Close, self.long_ema_period)\n",
    "\n",
    "    def next(self):\n",
    "        if self.data.Close[-1] > self.long_ema[-1]:  # Price must be above the long-term EMA\n",
    "            if crossover(self.data.Close, self.short_ema):\n",
    "                self.position.close()\n",
    "            elif crossover(self.short_ema, self.data.Close):\n",
    "                self.buy()\n",
    "\n",
    "# Function to run backtest for a single stock\n",
    "def backtest_stock(symbol):\n",
    "    df = yf.download(symbol, start=\"2009-01-01\", end=\"2024-01-01\")\n",
    "    bt = Backtest(df, EmaOscillator, cash=10000)\n",
    "    stats = bt.optimize(\n",
    "        short_ema_period=range(5, 30, 1),\n",
    "        maximize=optim_func\n",
    "    )\n",
    "    return stats\n",
    "\n",
    "# Collect results for all stocks\n",
    "results = []\n",
    "optimal_params = []\n",
    "\n",
    "for symbol in sp_100:\n",
    "    print(f\"Running backtest for {symbol}\")\n",
    "    result = backtest_stock(symbol)\n",
    "    results.append(result)\n",
    "    optimal_params.append(result['_strategy'].short_ema_period)\n",
    "\n",
    "# Convert results to DataFrame\n",
    "df_results = pd.DataFrame(results)\n",
    "df_optimal_params = pd.DataFrame(optimal_params, columns=['short_ema_period'])\n",
    "\n",
    "# Calculate average optimal parameters\n",
    "average_params = df_optimal_params.median(numeric_only=True)\n",
    "\n",
    "# Calculate average statistics\n",
    "average_stats = df_results.mean(numeric_only=True)\n",
    "\n",
    "print(\"Average Optimal Parameters for SPY100:\")\n",
    "print(f\"Median short EMA period: {average_params['short_ema_period']}\")\n",
    "\n",
    "print(\"Average Statistics for SPY100 30:\")\n",
    "print(average_stats)\n",
    "\n",
    "# Optional: Print the optimal parameters for each stock\n",
    "for symbol, stats in zip(sp_100, results):\n",
    "    print(f\"{symbol}: Optimal short EMA period: {stats['_strategy'].short_ema_period}\")\n"
   ]
  }
 ],
 "metadata": {
  "kernelspec": {
   "display_name": "Python 3 (ipykernel)",
   "language": "python",
   "name": "python3"
  },
  "language_info": {
   "codemirror_mode": {
    "name": "ipython",
    "version": 3
   },
   "file_extension": ".py",
   "mimetype": "text/x-python",
   "name": "python",
   "nbconvert_exporter": "python",
   "pygments_lexer": "ipython3",
   "version": "3.10.10"
  }
 },
 "nbformat": 4,
 "nbformat_minor": 2
}
